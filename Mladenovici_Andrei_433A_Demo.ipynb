{
  "nbformat": 4,
  "nbformat_minor": 0,
  "metadata": {
    "colab": {
      "name": "Mladenovici_Andrei_433A_Demo.ipynb",
      "provenance": [],
      "authorship_tag": "ABX9TyNqHldWkWOnNJ0p/D+IuOjV",
      "include_colab_link": true
    },
    "kernelspec": {
      "name": "python3",
      "display_name": "Python 3"
    },
    "language_info": {
      "name": "python"
    }
  },
  "cells": [
    {
      "cell_type": "markdown",
      "metadata": {
        "id": "view-in-github",
        "colab_type": "text"
      },
      "source": [
        "<a href=\"https://colab.research.google.com/github/Mladee/Machine-Learning/blob/main/Mladenovici_Andrei_433A_Demo.ipynb\" target=\"_parent\"><img src=\"https://colab.research.google.com/assets/colab-badge.svg\" alt=\"Open In Colab\"/></a>"
      ]
    },
    {
      "cell_type": "markdown",
      "source": [
        "***Incarcarea datelor***\n"
      ],
      "metadata": {
        "id": "L4R0Ft3H2Sku"
      }
    },
    {
      "cell_type": "code",
      "execution_count": 2,
      "metadata": {
        "colab": {
          "base_uri": "https://localhost:8080/"
        },
        "id": "5PlXbZaV18m_",
        "outputId": "72a15587-db95-4b30-8109-d3e0184b1350"
      },
      "outputs": [
        {
          "output_type": "stream",
          "name": "stdout",
          "text": [
            "Train: X=(50000, 32, 32, 3), y=(50000, 1)\n",
            "Test: X=(10000, 32, 32, 3), y=(10000, 1)\n"
          ]
        }
      ],
      "source": [
        "from matplotlib import pyplot\n",
        "from keras.datasets import cifar10\n",
        "\n",
        "(trainX, trainy), (testX, testy) = cifar10.load_data()\n",
        "\n",
        "\n",
        "print('Train: X=%s, y=%s' % (trainX.shape, trainy.shape))\n",
        "print('Test: X=%s, y=%s' % (testX.shape, testy.shape))"
      ]
    },
    {
      "cell_type": "markdown",
      "source": [
        "***Impartirea datelor in train si test***"
      ],
      "metadata": {
        "id": "OLCmG-OB2ei_"
      }
    },
    {
      "cell_type": "code",
      "source": [
        "import numpy as np\n",
        "from keras.utils import np_utils\n",
        "import tensorflow\n",
        "import keras\n",
        "\n",
        "\n",
        "x_train=trainX\n",
        "y_train=trainy\n",
        "x_test=testX\n",
        "y_test=testy\n",
        "\n",
        "\n",
        "num_classes = len(np.unique(y_train))\n",
        "y_train = tensorflow.keras.utils.to_categorical(y_train, num_classes)\n",
        "y_test = tensorflow.keras.utils.to_categorical(y_test, num_classes)\n",
        "\n",
        "x_train = x_train.astype('float32')\n",
        "x_test = x_test.astype('float32')\n",
        "x_train /= 255\n",
        "x_test /= 255\n",
        "\n",
        "(x_train, x_valid) = x_train[5000:], x_train[:5000]\n",
        "(y_train, y_valid) = y_train[5000:], y_train[:5000]\n",
        "\n",
        "print('x_train shape:', x_train.shape)\n",
        "\n",
        "print(x_train.shape[0], 'train samples')\n",
        "print(x_test.shape[0], 'test samples')\n",
        "print(x_valid.shape[0], 'validation samples')"
      ],
      "metadata": {
        "colab": {
          "base_uri": "https://localhost:8080/"
        },
        "id": "Mxmuu_To2hV9",
        "outputId": "3685cca7-9446-4f05-85f7-9ea4b517ccfa"
      },
      "execution_count": 3,
      "outputs": [
        {
          "output_type": "stream",
          "name": "stdout",
          "text": [
            "x_train shape: (45000, 32, 32, 3)\n",
            "45000 train samples\n",
            "10000 test samples\n",
            "5000 validation samples\n"
          ]
        }
      ]
    },
    {
      "cell_type": "markdown",
      "source": [
        "***Crearea modelului***"
      ],
      "metadata": {
        "id": "wpC2lc2w27y0"
      }
    },
    {
      "cell_type": "code",
      "source": [
        "from keras.models import Sequential\n",
        "from keras.layers import Dense, Dropout, Flatten\n",
        "\n",
        "# Reteaua neurala\n",
        "\n",
        "model = Sequential()\n",
        "model.add(Flatten(input_shape = x_train.shape[1:]))\n",
        "model.add(Dense(100, activation='relu'))   #numarul de neuroni hidden\n",
        "model.add(Dense(num_classes, activation='softmax'))\n",
        "\n",
        "model.summary()"
      ],
      "metadata": {
        "colab": {
          "base_uri": "https://localhost:8080/"
        },
        "id": "olV6Sjr93BBN",
        "outputId": "55a20a20-f26a-4237-98f1-8b365de91eb5"
      },
      "execution_count": 4,
      "outputs": [
        {
          "output_type": "stream",
          "name": "stdout",
          "text": [
            "Model: \"sequential\"\n",
            "_________________________________________________________________\n",
            " Layer (type)                Output Shape              Param #   \n",
            "=================================================================\n",
            " flatten (Flatten)           (None, 3072)              0         \n",
            "                                                                 \n",
            " dense (Dense)               (None, 100)               307300    \n",
            "                                                                 \n",
            " dense_1 (Dense)             (None, 10)                1010      \n",
            "                                                                 \n",
            "=================================================================\n",
            "Total params: 308,310\n",
            "Trainable params: 308,310\n",
            "Non-trainable params: 0\n",
            "_________________________________________________________________\n"
          ]
        }
      ]
    },
    {
      "cell_type": "markdown",
      "source": [
        "***Variem batch_size pentru a testa performanta optima.***"
      ],
      "metadata": {
        "id": "ffTRXTCP3ybU"
      }
    },
    {
      "cell_type": "code",
      "source": [
        "model.compile(loss='categorical_crossentropy', optimizer='adam',metrics=['accuracy'])\n",
        "\n",
        "for i in range(100,1000,200):\n",
        "  print('Pentru batch size = {}:'.format(i))\n",
        "  hist = model.fit(x_train, y_train, batch_size=i, epochs=5,validation_data=(x_test, y_test),verbose=1, shuffle=False)\n",
        "  print('\\n'*5)"
      ],
      "metadata": {
        "colab": {
          "base_uri": "https://localhost:8080/"
        },
        "id": "yz3gDqIt34ru",
        "outputId": "025702fd-6ed9-49c0-e6fd-55361a06c3b0"
      },
      "execution_count": 5,
      "outputs": [
        {
          "output_type": "stream",
          "name": "stdout",
          "text": [
            "Pentru batch size = 100:\n",
            "Epoch 1/5\n",
            "450/450 [==============================] - 6s 11ms/step - loss: 1.9584 - accuracy: 0.3031 - val_loss: 1.8464 - val_accuracy: 0.3465\n",
            "Epoch 2/5\n",
            "450/450 [==============================] - 4s 10ms/step - loss: 1.8037 - accuracy: 0.3636 - val_loss: 1.7693 - val_accuracy: 0.3773\n",
            "Epoch 3/5\n",
            "450/450 [==============================] - 5s 11ms/step - loss: 1.7498 - accuracy: 0.3795 - val_loss: 1.7378 - val_accuracy: 0.3867\n",
            "Epoch 4/5\n",
            "450/450 [==============================] - 4s 10ms/step - loss: 1.7145 - accuracy: 0.3940 - val_loss: 1.7200 - val_accuracy: 0.3914\n",
            "Epoch 5/5\n",
            "450/450 [==============================] - 4s 10ms/step - loss: 1.6897 - accuracy: 0.4031 - val_loss: 1.7030 - val_accuracy: 0.4009\n",
            "\n",
            "\n",
            "\n",
            "\n",
            "\n",
            "\n",
            "Pentru batch size = 300:\n",
            "Epoch 1/5\n",
            "150/150 [==============================] - 4s 22ms/step - loss: 1.6465 - accuracy: 0.4242 - val_loss: 1.6680 - val_accuracy: 0.4166\n",
            "Epoch 2/5\n",
            "150/150 [==============================] - 3s 20ms/step - loss: 1.6367 - accuracy: 0.4280 - val_loss: 1.6619 - val_accuracy: 0.4198\n",
            "Epoch 3/5\n",
            "150/150 [==============================] - 3s 21ms/step - loss: 1.6276 - accuracy: 0.4291 - val_loss: 1.6552 - val_accuracy: 0.4237\n",
            "Epoch 4/5\n",
            "150/150 [==============================] - 3s 21ms/step - loss: 1.6210 - accuracy: 0.4313 - val_loss: 1.6564 - val_accuracy: 0.4255\n",
            "Epoch 5/5\n",
            "150/150 [==============================] - 3s 20ms/step - loss: 1.6143 - accuracy: 0.4344 - val_loss: 1.6576 - val_accuracy: 0.4210\n",
            "\n",
            "\n",
            "\n",
            "\n",
            "\n",
            "\n",
            "Pentru batch size = 500:\n",
            "Epoch 1/5\n",
            "90/90 [==============================] - 3s 33ms/step - loss: 1.6018 - accuracy: 0.4361 - val_loss: 1.6337 - val_accuracy: 0.4229\n",
            "Epoch 2/5\n",
            "90/90 [==============================] - 3s 31ms/step - loss: 1.5981 - accuracy: 0.4392 - val_loss: 1.6291 - val_accuracy: 0.4248\n",
            "Epoch 3/5\n",
            "90/90 [==============================] - 3s 35ms/step - loss: 1.5946 - accuracy: 0.4405 - val_loss: 1.6263 - val_accuracy: 0.4272\n",
            "Epoch 4/5\n",
            "90/90 [==============================] - 3s 37ms/step - loss: 1.5917 - accuracy: 0.4421 - val_loss: 1.6232 - val_accuracy: 0.4273\n",
            "Epoch 5/5\n",
            "90/90 [==============================] - 3s 31ms/step - loss: 1.5883 - accuracy: 0.4424 - val_loss: 1.6210 - val_accuracy: 0.4283\n",
            "\n",
            "\n",
            "\n",
            "\n",
            "\n",
            "\n",
            "Pentru batch size = 700:\n",
            "Epoch 1/5\n",
            "65/65 [==============================] - 3s 43ms/step - loss: 1.5852 - accuracy: 0.4436 - val_loss: 1.6202 - val_accuracy: 0.4239\n",
            "Epoch 2/5\n",
            "65/65 [==============================] - 3s 39ms/step - loss: 1.5847 - accuracy: 0.4446 - val_loss: 1.6182 - val_accuracy: 0.4267\n",
            "Epoch 3/5\n",
            "65/65 [==============================] - 3s 39ms/step - loss: 1.5823 - accuracy: 0.4454 - val_loss: 1.6169 - val_accuracy: 0.4263\n",
            "Epoch 4/5\n",
            "65/65 [==============================] - 2s 38ms/step - loss: 1.5799 - accuracy: 0.4464 - val_loss: 1.6158 - val_accuracy: 0.4276\n",
            "Epoch 5/5\n",
            "65/65 [==============================] - 3s 39ms/step - loss: 1.5778 - accuracy: 0.4473 - val_loss: 1.6156 - val_accuracy: 0.4284\n",
            "\n",
            "\n",
            "\n",
            "\n",
            "\n",
            "\n",
            "Pentru batch size = 900:\n",
            "Epoch 1/5\n",
            "50/50 [==============================] - 3s 54ms/step - loss: 1.5702 - accuracy: 0.4507 - val_loss: 1.6155 - val_accuracy: 0.4344\n",
            "Epoch 2/5\n",
            "50/50 [==============================] - 2s 50ms/step - loss: 1.5677 - accuracy: 0.4509 - val_loss: 1.6144 - val_accuracy: 0.4339\n",
            "Epoch 3/5\n",
            "50/50 [==============================] - 2s 50ms/step - loss: 1.5661 - accuracy: 0.4521 - val_loss: 1.6134 - val_accuracy: 0.4331\n",
            "Epoch 4/5\n",
            "50/50 [==============================] - 2s 48ms/step - loss: 1.5645 - accuracy: 0.4530 - val_loss: 1.6116 - val_accuracy: 0.4336\n",
            "Epoch 5/5\n",
            "50/50 [==============================] - 2s 48ms/step - loss: 1.5626 - accuracy: 0.4540 - val_loss: 1.6097 - val_accuracy: 0.4325\n",
            "\n",
            "\n",
            "\n",
            "\n",
            "\n",
            "\n"
          ]
        }
      ]
    },
    {
      "cell_type": "markdown",
      "source": [
        "***Evaluare scor final***"
      ],
      "metadata": {
        "id": "UBZ8INiI5sdt"
      }
    },
    {
      "cell_type": "code",
      "source": [
        "scor_final = model.evaluate(x_valid, y_valid, verbose=0)\n",
        "scor_final"
      ],
      "metadata": {
        "colab": {
          "base_uri": "https://localhost:8080/"
        },
        "id": "jTqtiYS15u9l",
        "outputId": "0aebbc83-ba6a-4c2f-ae16-f8681fc5cfc0"
      },
      "execution_count": 6,
      "outputs": [
        {
          "output_type": "execute_result",
          "data": {
            "text/plain": [
              "[1.614946722984314, 0.4300000071525574]"
            ]
          },
          "metadata": {},
          "execution_count": 6
        }
      ]
    },
    {
      "cell_type": "markdown",
      "source": [
        "***Optimizare model***"
      ],
      "metadata": {
        "id": "Grso6KCT2PfG"
      }
    },
    {
      "cell_type": "code",
      "source": [
        "def define_model(nr_hidden):\n",
        "  model = Sequential()\n",
        "  model.add(Flatten(input_shape = x_train.shape[1:]))\n",
        "  model.add(Dense(nr_hidden, activation='relu'))   #numarul de neuroni hidden\n",
        "  model.add(Dense(num_classes, activation='softmax'))\n",
        "  model.compile(loss='categorical_crossentropy', optimizer='adam',metrics=['accuracy'])\n",
        "  model.summary()\n",
        "  return model\n",
        "\n",
        "def run_test(nr_hidden):\n",
        "  model=define_model(nr_hidden)"
      ],
      "metadata": {
        "id": "2Jry2s336800"
      },
      "execution_count": 7,
      "outputs": []
    },
    {
      "cell_type": "code",
      "source": [
        "nr_hidden=np.linspace(10, 300, 20)\n",
        "nr_hidden=nr_hidden.astype(int)\n",
        "acc=np.zeros(len(nr_hidden))\n",
        "\n",
        "for i in range (len(nr_hidden)):\n",
        "  define_model(nr_hidden[i])\n",
        "  hist = model.fit(x_train, y_train, batch_size=300, epochs=5,validation_data=(x_test, y_test),verbose=1, shuffle=False)\n",
        "  l, a = model.evaluate(x_valid, y_valid, verbose=0)\n",
        "  acc[i]=a"
      ],
      "metadata": {
        "colab": {
          "base_uri": "https://localhost:8080/"
        },
        "id": "gLlzyhXX7Suc",
        "outputId": "661dfdaa-e379-4928-b2f4-b097c4410815"
      },
      "execution_count": 8,
      "outputs": [
        {
          "output_type": "stream",
          "name": "stdout",
          "text": [
            "Model: \"sequential_1\"\n",
            "_________________________________________________________________\n",
            " Layer (type)                Output Shape              Param #   \n",
            "=================================================================\n",
            " flatten_1 (Flatten)         (None, 3072)              0         \n",
            "                                                                 \n",
            " dense_2 (Dense)             (None, 10)                30730     \n",
            "                                                                 \n",
            " dense_3 (Dense)             (None, 10)                110       \n",
            "                                                                 \n",
            "=================================================================\n",
            "Total params: 30,840\n",
            "Trainable params: 30,840\n",
            "Non-trainable params: 0\n",
            "_________________________________________________________________\n",
            "Epoch 1/5\n",
            "150/150 [==============================] - 3s 22ms/step - loss: 1.5817 - accuracy: 0.4426 - val_loss: 1.6351 - val_accuracy: 0.4201\n",
            "Epoch 2/5\n",
            "150/150 [==============================] - 3s 20ms/step - loss: 1.5785 - accuracy: 0.4464 - val_loss: 1.6297 - val_accuracy: 0.4228\n",
            "Epoch 3/5\n",
            "150/150 [==============================] - 3s 21ms/step - loss: 1.5734 - accuracy: 0.4487 - val_loss: 1.6235 - val_accuracy: 0.4259\n",
            "Epoch 4/5\n",
            "150/150 [==============================] - 3s 21ms/step - loss: 1.5709 - accuracy: 0.4502 - val_loss: 1.6280 - val_accuracy: 0.4254\n",
            "Epoch 5/5\n",
            "150/150 [==============================] - 3s 21ms/step - loss: 1.5675 - accuracy: 0.4514 - val_loss: 1.6291 - val_accuracy: 0.4264\n",
            "Model: \"sequential_2\"\n",
            "_________________________________________________________________\n",
            " Layer (type)                Output Shape              Param #   \n",
            "=================================================================\n",
            " flatten_2 (Flatten)         (None, 3072)              0         \n",
            "                                                                 \n",
            " dense_4 (Dense)             (None, 25)                76825     \n",
            "                                                                 \n",
            " dense_5 (Dense)             (None, 10)                260       \n",
            "                                                                 \n",
            "=================================================================\n",
            "Total params: 77,085\n",
            "Trainable params: 77,085\n",
            "Non-trainable params: 0\n",
            "_________________________________________________________________\n",
            "Epoch 1/5\n",
            "150/150 [==============================] - 3s 22ms/step - loss: 1.5649 - accuracy: 0.4533 - val_loss: 1.6313 - val_accuracy: 0.4252\n",
            "Epoch 2/5\n",
            "150/150 [==============================] - 3s 20ms/step - loss: 1.5619 - accuracy: 0.4542 - val_loss: 1.6291 - val_accuracy: 0.4270\n",
            "Epoch 3/5\n",
            "150/150 [==============================] - 3s 20ms/step - loss: 1.5583 - accuracy: 0.4561 - val_loss: 1.6259 - val_accuracy: 0.4261\n",
            "Epoch 4/5\n",
            "150/150 [==============================] - 3s 20ms/step - loss: 1.5553 - accuracy: 0.4572 - val_loss: 1.6210 - val_accuracy: 0.4284\n",
            "Epoch 5/5\n",
            "150/150 [==============================] - 3s 20ms/step - loss: 1.5521 - accuracy: 0.4581 - val_loss: 1.6205 - val_accuracy: 0.4281\n",
            "Model: \"sequential_3\"\n",
            "_________________________________________________________________\n",
            " Layer (type)                Output Shape              Param #   \n",
            "=================================================================\n",
            " flatten_3 (Flatten)         (None, 3072)              0         \n",
            "                                                                 \n",
            " dense_6 (Dense)             (None, 40)                122920    \n",
            "                                                                 \n",
            " dense_7 (Dense)             (None, 10)                410       \n",
            "                                                                 \n",
            "=================================================================\n",
            "Total params: 123,330\n",
            "Trainable params: 123,330\n",
            "Non-trainable params: 0\n",
            "_________________________________________________________________\n",
            "Epoch 1/5\n",
            "150/150 [==============================] - 3s 21ms/step - loss: 1.5493 - accuracy: 0.4588 - val_loss: 1.6185 - val_accuracy: 0.4304\n",
            "Epoch 2/5\n",
            "150/150 [==============================] - 3s 21ms/step - loss: 1.5466 - accuracy: 0.4598 - val_loss: 1.6151 - val_accuracy: 0.4309\n",
            "Epoch 3/5\n",
            "150/150 [==============================] - 3s 20ms/step - loss: 1.5438 - accuracy: 0.4603 - val_loss: 1.6147 - val_accuracy: 0.4297\n",
            "Epoch 4/5\n",
            "150/150 [==============================] - 3s 20ms/step - loss: 1.5416 - accuracy: 0.4611 - val_loss: 1.6154 - val_accuracy: 0.4305\n",
            "Epoch 5/5\n",
            "150/150 [==============================] - 3s 20ms/step - loss: 1.5395 - accuracy: 0.4618 - val_loss: 1.6145 - val_accuracy: 0.4300\n",
            "Model: \"sequential_4\"\n",
            "_________________________________________________________________\n",
            " Layer (type)                Output Shape              Param #   \n",
            "=================================================================\n",
            " flatten_4 (Flatten)         (None, 3072)              0         \n",
            "                                                                 \n",
            " dense_8 (Dense)             (None, 55)                169015    \n",
            "                                                                 \n",
            " dense_9 (Dense)             (None, 10)                560       \n",
            "                                                                 \n",
            "=================================================================\n",
            "Total params: 169,575\n",
            "Trainable params: 169,575\n",
            "Non-trainable params: 0\n",
            "_________________________________________________________________\n",
            "Epoch 1/5\n",
            "150/150 [==============================] - 3s 21ms/step - loss: 1.5372 - accuracy: 0.4622 - val_loss: 1.6126 - val_accuracy: 0.4307\n",
            "Epoch 2/5\n",
            "150/150 [==============================] - 3s 21ms/step - loss: 1.5342 - accuracy: 0.4629 - val_loss: 1.6111 - val_accuracy: 0.4296\n",
            "Epoch 3/5\n",
            "150/150 [==============================] - 3s 20ms/step - loss: 1.5321 - accuracy: 0.4632 - val_loss: 1.6113 - val_accuracy: 0.4287\n",
            "Epoch 4/5\n",
            "150/150 [==============================] - 3s 21ms/step - loss: 1.5300 - accuracy: 0.4638 - val_loss: 1.6098 - val_accuracy: 0.4285\n",
            "Epoch 5/5\n",
            "150/150 [==============================] - 3s 21ms/step - loss: 1.5278 - accuracy: 0.4639 - val_loss: 1.6089 - val_accuracy: 0.4278\n",
            "Model: \"sequential_5\"\n",
            "_________________________________________________________________\n",
            " Layer (type)                Output Shape              Param #   \n",
            "=================================================================\n",
            " flatten_5 (Flatten)         (None, 3072)              0         \n",
            "                                                                 \n",
            " dense_10 (Dense)            (None, 71)                218183    \n",
            "                                                                 \n",
            " dense_11 (Dense)            (None, 10)                720       \n",
            "                                                                 \n",
            "=================================================================\n",
            "Total params: 218,903\n",
            "Trainable params: 218,903\n",
            "Non-trainable params: 0\n",
            "_________________________________________________________________\n",
            "Epoch 1/5\n",
            "150/150 [==============================] - 3s 22ms/step - loss: 1.5262 - accuracy: 0.4641 - val_loss: 1.6110 - val_accuracy: 0.4274\n",
            "Epoch 2/5\n",
            "150/150 [==============================] - 3s 21ms/step - loss: 1.5238 - accuracy: 0.4646 - val_loss: 1.6094 - val_accuracy: 0.4277\n",
            "Epoch 3/5\n",
            "150/150 [==============================] - 3s 21ms/step - loss: 1.5218 - accuracy: 0.4654 - val_loss: 1.6087 - val_accuracy: 0.4285\n",
            "Epoch 4/5\n",
            "150/150 [==============================] - 3s 20ms/step - loss: 1.5209 - accuracy: 0.4650 - val_loss: 1.6067 - val_accuracy: 0.4285\n",
            "Epoch 5/5\n",
            "150/150 [==============================] - 3s 21ms/step - loss: 1.5188 - accuracy: 0.4654 - val_loss: 1.6047 - val_accuracy: 0.4287\n",
            "Model: \"sequential_6\"\n",
            "_________________________________________________________________\n",
            " Layer (type)                Output Shape              Param #   \n",
            "=================================================================\n",
            " flatten_6 (Flatten)         (None, 3072)              0         \n",
            "                                                                 \n",
            " dense_12 (Dense)            (None, 86)                264278    \n",
            "                                                                 \n",
            " dense_13 (Dense)            (None, 10)                870       \n",
            "                                                                 \n",
            "=================================================================\n",
            "Total params: 265,148\n",
            "Trainable params: 265,148\n",
            "Non-trainable params: 0\n",
            "_________________________________________________________________\n",
            "Epoch 1/5\n",
            "150/150 [==============================] - 3s 22ms/step - loss: 1.5166 - accuracy: 0.4657 - val_loss: 1.6060 - val_accuracy: 0.4277\n",
            "Epoch 2/5\n",
            "150/150 [==============================] - 3s 21ms/step - loss: 1.5156 - accuracy: 0.4669 - val_loss: 1.6043 - val_accuracy: 0.4291\n",
            "Epoch 3/5\n",
            "150/150 [==============================] - 3s 21ms/step - loss: 1.5137 - accuracy: 0.4673 - val_loss: 1.6055 - val_accuracy: 0.4289\n",
            "Epoch 4/5\n",
            "150/150 [==============================] - 3s 23ms/step - loss: 1.5121 - accuracy: 0.4676 - val_loss: 1.6050 - val_accuracy: 0.4291\n",
            "Epoch 5/5\n",
            "150/150 [==============================] - 3s 21ms/step - loss: 1.5106 - accuracy: 0.4683 - val_loss: 1.6044 - val_accuracy: 0.4294\n",
            "Model: \"sequential_7\"\n",
            "_________________________________________________________________\n",
            " Layer (type)                Output Shape              Param #   \n",
            "=================================================================\n",
            " flatten_7 (Flatten)         (None, 3072)              0         \n",
            "                                                                 \n",
            " dense_14 (Dense)            (None, 101)               310373    \n",
            "                                                                 \n",
            " dense_15 (Dense)            (None, 10)                1020      \n",
            "                                                                 \n",
            "=================================================================\n",
            "Total params: 311,393\n",
            "Trainable params: 311,393\n",
            "Non-trainable params: 0\n",
            "_________________________________________________________________\n",
            "Epoch 1/5\n",
            "150/150 [==============================] - 3s 23ms/step - loss: 1.5092 - accuracy: 0.4688 - val_loss: 1.6036 - val_accuracy: 0.4293\n",
            "Epoch 2/5\n",
            "150/150 [==============================] - 3s 22ms/step - loss: 1.5070 - accuracy: 0.4690 - val_loss: 1.6029 - val_accuracy: 0.4295\n",
            "Epoch 3/5\n",
            "150/150 [==============================] - 3s 22ms/step - loss: 1.5046 - accuracy: 0.4703 - val_loss: 1.6017 - val_accuracy: 0.4305\n",
            "Epoch 4/5\n",
            "150/150 [==============================] - 3s 22ms/step - loss: 1.5033 - accuracy: 0.4706 - val_loss: 1.6045 - val_accuracy: 0.4301\n",
            "Epoch 5/5\n",
            "150/150 [==============================] - 3s 22ms/step - loss: 1.5013 - accuracy: 0.4710 - val_loss: 1.5996 - val_accuracy: 0.4324\n",
            "Model: \"sequential_8\"\n",
            "_________________________________________________________________\n",
            " Layer (type)                Output Shape              Param #   \n",
            "=================================================================\n",
            " flatten_8 (Flatten)         (None, 3072)              0         \n",
            "                                                                 \n",
            " dense_16 (Dense)            (None, 116)               356468    \n",
            "                                                                 \n",
            " dense_17 (Dense)            (None, 10)                1170      \n",
            "                                                                 \n",
            "=================================================================\n",
            "Total params: 357,638\n",
            "Trainable params: 357,638\n",
            "Non-trainable params: 0\n",
            "_________________________________________________________________\n",
            "Epoch 1/5\n",
            "150/150 [==============================] - 3s 22ms/step - loss: 1.5001 - accuracy: 0.4717 - val_loss: 1.5994 - val_accuracy: 0.4323\n",
            "Epoch 2/5\n",
            "150/150 [==============================] - 3s 21ms/step - loss: 1.4986 - accuracy: 0.4725 - val_loss: 1.6006 - val_accuracy: 0.4308\n",
            "Epoch 3/5\n",
            "150/150 [==============================] - 3s 21ms/step - loss: 1.4974 - accuracy: 0.4730 - val_loss: 1.5995 - val_accuracy: 0.4321\n",
            "Epoch 4/5\n",
            "150/150 [==============================] - 3s 21ms/step - loss: 1.4954 - accuracy: 0.4736 - val_loss: 1.6016 - val_accuracy: 0.4300\n",
            "Epoch 5/5\n",
            "150/150 [==============================] - 3s 21ms/step - loss: 1.4944 - accuracy: 0.4732 - val_loss: 1.5993 - val_accuracy: 0.4311\n",
            "Model: \"sequential_9\"\n",
            "_________________________________________________________________\n",
            " Layer (type)                Output Shape              Param #   \n",
            "=================================================================\n",
            " flatten_9 (Flatten)         (None, 3072)              0         \n",
            "                                                                 \n",
            " dense_18 (Dense)            (None, 132)               405636    \n",
            "                                                                 \n",
            " dense_19 (Dense)            (None, 10)                1330      \n",
            "                                                                 \n",
            "=================================================================\n",
            "Total params: 406,966\n",
            "Trainable params: 406,966\n",
            "Non-trainable params: 0\n",
            "_________________________________________________________________\n",
            "Epoch 1/5\n",
            "150/150 [==============================] - 3s 22ms/step - loss: 1.4941 - accuracy: 0.4737 - val_loss: 1.5980 - val_accuracy: 0.4315\n",
            "Epoch 2/5\n",
            "150/150 [==============================] - 3s 21ms/step - loss: 1.4922 - accuracy: 0.4738 - val_loss: 1.5975 - val_accuracy: 0.4325\n",
            "Epoch 3/5\n",
            "150/150 [==============================] - 3s 22ms/step - loss: 1.4900 - accuracy: 0.4742 - val_loss: 1.5962 - val_accuracy: 0.4326\n",
            "Epoch 4/5\n",
            "150/150 [==============================] - 3s 21ms/step - loss: 1.4885 - accuracy: 0.4755 - val_loss: 1.5958 - val_accuracy: 0.4336\n",
            "Epoch 5/5\n",
            "150/150 [==============================] - 3s 21ms/step - loss: 1.4868 - accuracy: 0.4761 - val_loss: 1.5947 - val_accuracy: 0.4339\n",
            "Model: \"sequential_10\"\n",
            "_________________________________________________________________\n",
            " Layer (type)                Output Shape              Param #   \n",
            "=================================================================\n",
            " flatten_10 (Flatten)        (None, 3072)              0         \n",
            "                                                                 \n",
            " dense_20 (Dense)            (None, 147)               451731    \n",
            "                                                                 \n",
            " dense_21 (Dense)            (None, 10)                1480      \n",
            "                                                                 \n",
            "=================================================================\n",
            "Total params: 453,211\n",
            "Trainable params: 453,211\n",
            "Non-trainable params: 0\n",
            "_________________________________________________________________\n",
            "Epoch 1/5\n",
            "150/150 [==============================] - 3s 22ms/step - loss: 1.4853 - accuracy: 0.4769 - val_loss: 1.5958 - val_accuracy: 0.4341\n",
            "Epoch 2/5\n",
            "150/150 [==============================] - 3s 21ms/step - loss: 1.4835 - accuracy: 0.4778 - val_loss: 1.5943 - val_accuracy: 0.4343\n",
            "Epoch 3/5\n",
            "150/150 [==============================] - 3s 21ms/step - loss: 1.4817 - accuracy: 0.4782 - val_loss: 1.5924 - val_accuracy: 0.4351\n",
            "Epoch 4/5\n",
            "150/150 [==============================] - 3s 22ms/step - loss: 1.4804 - accuracy: 0.4783 - val_loss: 1.5910 - val_accuracy: 0.4358\n",
            "Epoch 5/5\n",
            "150/150 [==============================] - 4s 23ms/step - loss: 1.4786 - accuracy: 0.4789 - val_loss: 1.5896 - val_accuracy: 0.4359\n",
            "Model: \"sequential_11\"\n",
            "_________________________________________________________________\n",
            " Layer (type)                Output Shape              Param #   \n",
            "=================================================================\n",
            " flatten_11 (Flatten)        (None, 3072)              0         \n",
            "                                                                 \n",
            " dense_22 (Dense)            (None, 162)               497826    \n",
            "                                                                 \n",
            " dense_23 (Dense)            (None, 10)                1630      \n",
            "                                                                 \n",
            "=================================================================\n",
            "Total params: 499,456\n",
            "Trainable params: 499,456\n",
            "Non-trainable params: 0\n",
            "_________________________________________________________________\n",
            "Epoch 1/5\n",
            "150/150 [==============================] - 3s 22ms/step - loss: 1.4775 - accuracy: 0.4798 - val_loss: 1.5907 - val_accuracy: 0.4365\n",
            "Epoch 2/5\n",
            "150/150 [==============================] - 3s 21ms/step - loss: 1.4760 - accuracy: 0.4797 - val_loss: 1.5894 - val_accuracy: 0.4380\n",
            "Epoch 3/5\n",
            "150/150 [==============================] - 3s 21ms/step - loss: 1.4744 - accuracy: 0.4805 - val_loss: 1.5887 - val_accuracy: 0.4379\n",
            "Epoch 4/5\n",
            "150/150 [==============================] - 3s 21ms/step - loss: 1.4730 - accuracy: 0.4816 - val_loss: 1.5867 - val_accuracy: 0.4384\n",
            "Epoch 5/5\n",
            "150/150 [==============================] - 3s 21ms/step - loss: 1.4714 - accuracy: 0.4816 - val_loss: 1.5857 - val_accuracy: 0.4387\n",
            "Model: \"sequential_12\"\n",
            "_________________________________________________________________\n",
            " Layer (type)                Output Shape              Param #   \n",
            "=================================================================\n",
            " flatten_12 (Flatten)        (None, 3072)              0         \n",
            "                                                                 \n",
            " dense_24 (Dense)            (None, 177)               543921    \n",
            "                                                                 \n",
            " dense_25 (Dense)            (None, 10)                1780      \n",
            "                                                                 \n",
            "=================================================================\n",
            "Total params: 545,701\n",
            "Trainable params: 545,701\n",
            "Non-trainable params: 0\n",
            "_________________________________________________________________\n",
            "Epoch 1/5\n",
            "150/150 [==============================] - 3s 22ms/step - loss: 1.4706 - accuracy: 0.4818 - val_loss: 1.5847 - val_accuracy: 0.4406\n",
            "Epoch 2/5\n",
            "150/150 [==============================] - 3s 21ms/step - loss: 1.4685 - accuracy: 0.4832 - val_loss: 1.5844 - val_accuracy: 0.4408\n",
            "Epoch 3/5\n",
            "150/150 [==============================] - 3s 21ms/step - loss: 1.4672 - accuracy: 0.4838 - val_loss: 1.5830 - val_accuracy: 0.4410\n",
            "Epoch 4/5\n",
            "150/150 [==============================] - 3s 21ms/step - loss: 1.4656 - accuracy: 0.4842 - val_loss: 1.5827 - val_accuracy: 0.4418\n",
            "Epoch 5/5\n",
            "150/150 [==============================] - 3s 21ms/step - loss: 1.4646 - accuracy: 0.4837 - val_loss: 1.5812 - val_accuracy: 0.4416\n",
            "Model: \"sequential_13\"\n",
            "_________________________________________________________________\n",
            " Layer (type)                Output Shape              Param #   \n",
            "=================================================================\n",
            " flatten_13 (Flatten)        (None, 3072)              0         \n",
            "                                                                 \n",
            " dense_26 (Dense)            (None, 193)               593089    \n",
            "                                                                 \n",
            " dense_27 (Dense)            (None, 10)                1940      \n",
            "                                                                 \n",
            "=================================================================\n",
            "Total params: 595,029\n",
            "Trainable params: 595,029\n",
            "Non-trainable params: 0\n",
            "_________________________________________________________________\n",
            "Epoch 1/5\n",
            "150/150 [==============================] - 3s 22ms/step - loss: 1.4636 - accuracy: 0.4848 - val_loss: 1.5799 - val_accuracy: 0.4424\n",
            "Epoch 2/5\n",
            "150/150 [==============================] - 3s 21ms/step - loss: 1.4628 - accuracy: 0.4849 - val_loss: 1.5792 - val_accuracy: 0.4422\n",
            "Epoch 3/5\n",
            "150/150 [==============================] - 3s 21ms/step - loss: 1.4620 - accuracy: 0.4855 - val_loss: 1.5800 - val_accuracy: 0.4411\n",
            "Epoch 4/5\n",
            "150/150 [==============================] - 5s 33ms/step - loss: 1.4610 - accuracy: 0.4859 - val_loss: 1.5800 - val_accuracy: 0.4416\n",
            "Epoch 5/5\n",
            "150/150 [==============================] - 6s 42ms/step - loss: 1.4600 - accuracy: 0.4852 - val_loss: 1.5801 - val_accuracy: 0.4412\n",
            "Model: \"sequential_14\"\n",
            "_________________________________________________________________\n",
            " Layer (type)                Output Shape              Param #   \n",
            "=================================================================\n",
            " flatten_14 (Flatten)        (None, 3072)              0         \n",
            "                                                                 \n",
            " dense_28 (Dense)            (None, 208)               639184    \n",
            "                                                                 \n",
            " dense_29 (Dense)            (None, 10)                2090      \n",
            "                                                                 \n",
            "=================================================================\n",
            "Total params: 641,274\n",
            "Trainable params: 641,274\n",
            "Non-trainable params: 0\n",
            "_________________________________________________________________\n",
            "Epoch 1/5\n",
            "150/150 [==============================] - 4s 23ms/step - loss: 1.4594 - accuracy: 0.4861 - val_loss: 1.5807 - val_accuracy: 0.4402\n",
            "Epoch 2/5\n",
            "150/150 [==============================] - 4s 24ms/step - loss: 1.4581 - accuracy: 0.4858 - val_loss: 1.5818 - val_accuracy: 0.4382\n",
            "Epoch 3/5\n",
            "150/150 [==============================] - 3s 23ms/step - loss: 1.4574 - accuracy: 0.4854 - val_loss: 1.5796 - val_accuracy: 0.4410\n",
            "Epoch 4/5\n",
            "150/150 [==============================] - 3s 22ms/step - loss: 1.4562 - accuracy: 0.4863 - val_loss: 1.5817 - val_accuracy: 0.4404\n",
            "Epoch 5/5\n",
            "150/150 [==============================] - 3s 22ms/step - loss: 1.4554 - accuracy: 0.4865 - val_loss: 1.5818 - val_accuracy: 0.4428\n",
            "Model: \"sequential_15\"\n",
            "_________________________________________________________________\n",
            " Layer (type)                Output Shape              Param #   \n",
            "=================================================================\n",
            " flatten_15 (Flatten)        (None, 3072)              0         \n",
            "                                                                 \n",
            " dense_30 (Dense)            (None, 223)               685279    \n",
            "                                                                 \n",
            " dense_31 (Dense)            (None, 10)                2240      \n",
            "                                                                 \n",
            "=================================================================\n",
            "Total params: 687,519\n",
            "Trainable params: 687,519\n",
            "Non-trainable params: 0\n",
            "_________________________________________________________________\n",
            "Epoch 1/5\n",
            "150/150 [==============================] - 3s 22ms/step - loss: 1.4552 - accuracy: 0.4864 - val_loss: 1.5817 - val_accuracy: 0.4414\n",
            "Epoch 2/5\n",
            "150/150 [==============================] - 3s 22ms/step - loss: 1.4537 - accuracy: 0.4867 - val_loss: 1.5827 - val_accuracy: 0.4394\n",
            "Epoch 3/5\n",
            "150/150 [==============================] - 3s 22ms/step - loss: 1.4527 - accuracy: 0.4874 - val_loss: 1.5822 - val_accuracy: 0.4392\n",
            "Epoch 4/5\n",
            "150/150 [==============================] - 3s 22ms/step - loss: 1.4516 - accuracy: 0.4874 - val_loss: 1.5805 - val_accuracy: 0.4403\n",
            "Epoch 5/5\n",
            "150/150 [==============================] - 3s 22ms/step - loss: 1.4502 - accuracy: 0.4881 - val_loss: 1.5817 - val_accuracy: 0.4400\n",
            "Model: \"sequential_16\"\n",
            "_________________________________________________________________\n",
            " Layer (type)                Output Shape              Param #   \n",
            "=================================================================\n",
            " flatten_16 (Flatten)        (None, 3072)              0         \n",
            "                                                                 \n",
            " dense_32 (Dense)            (None, 238)               731374    \n",
            "                                                                 \n",
            " dense_33 (Dense)            (None, 10)                2390      \n",
            "                                                                 \n",
            "=================================================================\n",
            "Total params: 733,764\n",
            "Trainable params: 733,764\n",
            "Non-trainable params: 0\n",
            "_________________________________________________________________\n",
            "Epoch 1/5\n",
            "150/150 [==============================] - 3s 23ms/step - loss: 1.4490 - accuracy: 0.4887 - val_loss: 1.5836 - val_accuracy: 0.4393\n",
            "Epoch 2/5\n",
            "150/150 [==============================] - 3s 21ms/step - loss: 1.4487 - accuracy: 0.4887 - val_loss: 1.5796 - val_accuracy: 0.4423\n",
            "Epoch 3/5\n",
            "150/150 [==============================] - 3s 22ms/step - loss: 1.4472 - accuracy: 0.4891 - val_loss: 1.5835 - val_accuracy: 0.4400\n",
            "Epoch 4/5\n",
            "150/150 [==============================] - 3s 21ms/step - loss: 1.4467 - accuracy: 0.4892 - val_loss: 1.5829 - val_accuracy: 0.4411\n",
            "Epoch 5/5\n",
            "150/150 [==============================] - 3s 21ms/step - loss: 1.4460 - accuracy: 0.4893 - val_loss: 1.5852 - val_accuracy: 0.4403\n",
            "Model: \"sequential_17\"\n",
            "_________________________________________________________________\n",
            " Layer (type)                Output Shape              Param #   \n",
            "=================================================================\n",
            " flatten_17 (Flatten)        (None, 3072)              0         \n",
            "                                                                 \n",
            " dense_34 (Dense)            (None, 254)               780542    \n",
            "                                                                 \n",
            " dense_35 (Dense)            (None, 10)                2550      \n",
            "                                                                 \n",
            "=================================================================\n",
            "Total params: 783,092\n",
            "Trainable params: 783,092\n",
            "Non-trainable params: 0\n",
            "_________________________________________________________________\n",
            "Epoch 1/5\n",
            "150/150 [==============================] - 3s 23ms/step - loss: 1.4456 - accuracy: 0.4895 - val_loss: 1.5850 - val_accuracy: 0.4400\n",
            "Epoch 2/5\n",
            "150/150 [==============================] - 3s 22ms/step - loss: 1.4446 - accuracy: 0.4901 - val_loss: 1.5852 - val_accuracy: 0.4405\n",
            "Epoch 3/5\n",
            "150/150 [==============================] - 3s 21ms/step - loss: 1.4440 - accuracy: 0.4895 - val_loss: 1.5854 - val_accuracy: 0.4415\n",
            "Epoch 4/5\n",
            "150/150 [==============================] - 3s 21ms/step - loss: 1.4428 - accuracy: 0.4903 - val_loss: 1.5858 - val_accuracy: 0.4416\n",
            "Epoch 5/5\n",
            "150/150 [==============================] - 3s 21ms/step - loss: 1.4420 - accuracy: 0.4904 - val_loss: 1.5857 - val_accuracy: 0.4422\n",
            "Model: \"sequential_18\"\n",
            "_________________________________________________________________\n",
            " Layer (type)                Output Shape              Param #   \n",
            "=================================================================\n",
            " flatten_18 (Flatten)        (None, 3072)              0         \n",
            "                                                                 \n",
            " dense_36 (Dense)            (None, 269)               826637    \n",
            "                                                                 \n",
            " dense_37 (Dense)            (None, 10)                2700      \n",
            "                                                                 \n",
            "=================================================================\n",
            "Total params: 829,337\n",
            "Trainable params: 829,337\n",
            "Non-trainable params: 0\n",
            "_________________________________________________________________\n",
            "Epoch 1/5\n",
            "150/150 [==============================] - 3s 22ms/step - loss: 1.4416 - accuracy: 0.4905 - val_loss: 1.5858 - val_accuracy: 0.4412\n",
            "Epoch 2/5\n",
            "150/150 [==============================] - 3s 21ms/step - loss: 1.4411 - accuracy: 0.4905 - val_loss: 1.5862 - val_accuracy: 0.4422\n",
            "Epoch 3/5\n",
            "150/150 [==============================] - 3s 21ms/step - loss: 1.4403 - accuracy: 0.4908 - val_loss: 1.5880 - val_accuracy: 0.4416\n",
            "Epoch 4/5\n",
            "150/150 [==============================] - 3s 22ms/step - loss: 1.4393 - accuracy: 0.4906 - val_loss: 1.5880 - val_accuracy: 0.4420\n",
            "Epoch 5/5\n",
            "150/150 [==============================] - 3s 22ms/step - loss: 1.4392 - accuracy: 0.4910 - val_loss: 1.5901 - val_accuracy: 0.4429\n",
            "Model: \"sequential_19\"\n",
            "_________________________________________________________________\n",
            " Layer (type)                Output Shape              Param #   \n",
            "=================================================================\n",
            " flatten_19 (Flatten)        (None, 3072)              0         \n",
            "                                                                 \n",
            " dense_38 (Dense)            (None, 284)               872732    \n",
            "                                                                 \n",
            " dense_39 (Dense)            (None, 10)                2850      \n",
            "                                                                 \n",
            "=================================================================\n",
            "Total params: 875,582\n",
            "Trainable params: 875,582\n",
            "Non-trainable params: 0\n",
            "_________________________________________________________________\n",
            "Epoch 1/5\n",
            "150/150 [==============================] - 3s 23ms/step - loss: 1.4381 - accuracy: 0.4908 - val_loss: 1.5917 - val_accuracy: 0.4423\n",
            "Epoch 2/5\n",
            "150/150 [==============================] - 3s 21ms/step - loss: 1.4379 - accuracy: 0.4909 - val_loss: 1.5916 - val_accuracy: 0.4423\n",
            "Epoch 3/5\n",
            "150/150 [==============================] - 3s 22ms/step - loss: 1.4377 - accuracy: 0.4914 - val_loss: 1.5949 - val_accuracy: 0.4422\n",
            "Epoch 4/5\n",
            "150/150 [==============================] - 3s 22ms/step - loss: 1.4370 - accuracy: 0.4923 - val_loss: 1.5937 - val_accuracy: 0.4430\n",
            "Epoch 5/5\n",
            "150/150 [==============================] - 3s 22ms/step - loss: 1.4369 - accuracy: 0.4919 - val_loss: 1.5964 - val_accuracy: 0.4432\n",
            "Model: \"sequential_20\"\n",
            "_________________________________________________________________\n",
            " Layer (type)                Output Shape              Param #   \n",
            "=================================================================\n",
            " flatten_20 (Flatten)        (None, 3072)              0         \n",
            "                                                                 \n",
            " dense_40 (Dense)            (None, 300)               921900    \n",
            "                                                                 \n",
            " dense_41 (Dense)            (None, 10)                3010      \n",
            "                                                                 \n",
            "=================================================================\n",
            "Total params: 924,910\n",
            "Trainable params: 924,910\n",
            "Non-trainable params: 0\n",
            "_________________________________________________________________\n",
            "Epoch 1/5\n",
            "150/150 [==============================] - 3s 23ms/step - loss: 1.4360 - accuracy: 0.4922 - val_loss: 1.5962 - val_accuracy: 0.4432\n",
            "Epoch 2/5\n",
            "150/150 [==============================] - 3s 22ms/step - loss: 1.4355 - accuracy: 0.4927 - val_loss: 1.5961 - val_accuracy: 0.4434\n",
            "Epoch 3/5\n",
            "150/150 [==============================] - 4s 24ms/step - loss: 1.4349 - accuracy: 0.4930 - val_loss: 1.5952 - val_accuracy: 0.4425\n",
            "Epoch 4/5\n",
            "150/150 [==============================] - 4s 24ms/step - loss: 1.4344 - accuracy: 0.4928 - val_loss: 1.5983 - val_accuracy: 0.4427\n",
            "Epoch 5/5\n",
            "150/150 [==============================] - 3s 22ms/step - loss: 1.4339 - accuracy: 0.4932 - val_loss: 1.5966 - val_accuracy: 0.4428\n"
          ]
        }
      ]
    },
    {
      "cell_type": "markdown",
      "source": [
        "# New Section"
      ],
      "metadata": {
        "id": "hbq42k3kBbXh"
      }
    },
    {
      "cell_type": "markdown",
      "source": [
        "***Plottare acuratete si eroare***"
      ],
      "metadata": {
        "id": "c_ANs-TU9idG"
      }
    },
    {
      "cell_type": "code",
      "source": [
        "import matplotlib.pyplot as plt\n",
        "plt.plot(acc)"
      ],
      "metadata": {
        "colab": {
          "base_uri": "https://localhost:8080/",
          "height": 282
        },
        "id": "ACIXbnAZ9nhv",
        "outputId": "ba74d539-63fc-46a7-a762-11bf3b73b3af"
      },
      "execution_count": 10,
      "outputs": [
        {
          "output_type": "execute_result",
          "data": {
            "text/plain": [
              "[<matplotlib.lines.Line2D at 0x7fc2e05bc590>]"
            ]
          },
          "metadata": {},
          "execution_count": 10
        },
        {
          "output_type": "display_data",
          "data": {
            "text/plain": [
              "<Figure size 432x288 with 1 Axes>"
            ],
            "image/png": "[encoded data removed]"
          },
          "metadata": {
            "needs_background": "light"
          }
        }
      ]
    },
    {
      "cell_type": "code",
      "source": [
        "plt.plot(1-acc)"
      ],
      "metadata": {
        "colab": {
          "base_uri": "https://localhost:8080/",
          "height": 282
        },
        "id": "NYNmUkqw-WYs",
        "outputId": "7a751540-70e8-4974-851c-1ba823f29c4b"
      },
      "execution_count": 11,
      "outputs": [
        {
          "output_type": "execute_result",
          "data": {
            "text/plain": [
              "[<matplotlib.lines.Line2D at 0x7fc2e0717210>]"
            ]
          },
          "metadata": {},
          "execution_count": 11
        },
        {
          "output_type": "display_data",
          "data": {
            "text/plain": [
              "<Figure size 432x288 with 1 Axes>"
            ],
            "image/png": "[encoded data removed]"
          },
          "metadata": {
            "needs_background": "light"
          }
        }
      ]
    },
    {
      "cell_type": "markdown",
      "source": [
        "***Gasire minim cu ajutorul metodei sectiunii de aur***"
      ],
      "metadata": {
        "id": "3TBDVpGN-gle"
      }
    },
    {
      "cell_type": "code",
      "source": [
        "x = np.linspace(0,17,18)\n",
        "y = 1-acc\n",
        "tol=1\n",
        "a=0\n",
        "b=17\n",
        "\n",
        "c=b-0.618*(b-a)\n",
        "d=a+0.618*(b-a)\n",
        "\n",
        "while abs((b-a))>tol:\n",
        "  c=b-0.618*(b-a)\n",
        "  d=a+0.618*(b-a)\n",
        "  if y[round(c)]<y[round(d)]:\n",
        "    a=a\n",
        "    b=round(d)\n",
        "  else:\n",
        "    a=round(c)\n",
        "    b=b\n",
        "\n",
        "print(a)\n",
        "print(b)\n"
      ],
      "metadata": {
        "colab": {
          "base_uri": "https://localhost:8080/"
        },
        "id": "RXmwhXWw-kqb",
        "outputId": "70317b51-6cd6-43a8-e217-15290e7a6d1a"
      },
      "execution_count": 12,
      "outputs": [
        {
          "output_type": "stream",
          "name": "stdout",
          "text": [
            "16\n",
            "17\n"
          ]
        }
      ]
    },
    {
      "cell_type": "code",
      "source": [
        "acc[16]"
      ],
      "metadata": {
        "colab": {
          "base_uri": "https://localhost:8080/"
        },
        "id": "cJguhVup-04w",
        "outputId": "d8677ea5-6f2f-48d8-f834-790cfd18116e"
      },
      "execution_count": 15,
      "outputs": [
        {
          "output_type": "execute_result",
          "data": {
            "text/plain": [
              "0.4458000063896179"
            ]
          },
          "metadata": {},
          "execution_count": 15
        }
      ]
    },
    {
      "cell_type": "markdown",
      "source": [
        "***Asadar,modelul ofera acuratete de 44.58%***"
      ],
      "metadata": {
        "id": "cecWr6bD_V9d"
      }
    }
  ]
}