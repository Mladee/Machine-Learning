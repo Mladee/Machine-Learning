{
 "cells": [
  {
   "cell_type": "markdown",
   "id": "54cb0973-7b8d-4214-937f-45a54531a3e2",
   "metadata": {},
   "source": [
    "## Exploratory Data Analysis"
   ]
  },
  {
   "cell_type": "code",
   "execution_count": 1,
   "id": "1ae3a56a-00d4-496e-84e3-3c3a40c23965",
   "metadata": {},
   "outputs": [],
   "source": [
    "from pyforest import *"
   ]
  },
  {
   "cell_type": "code",
   "execution_count": 2,
   "id": "6570efd3-077c-44f0-9eb9-4c2dea1f85e3",
   "metadata": {},
   "outputs": [
    {
     "data": {
      "application/javascript": [
       "\n",
       "        if (window._pyforest_update_imports_cell) { window._pyforest_update_imports_cell('import pandas as pd'); }\n",
       "    "
      ],
      "text/plain": [
       "<IPython.core.display.Javascript object>"
      ]
     },
     "metadata": {},
     "output_type": "display_data"
    },
    {
     "data": {
      "text/html": [
       "<div>\n",
       "<style scoped>\n",
       "    .dataframe tbody tr th:only-of-type {\n",
       "        vertical-align: middle;\n",
       "    }\n",
       "\n",
       "    .dataframe tbody tr th {\n",
       "        vertical-align: top;\n",
       "    }\n",
       "\n",
       "    .dataframe thead th {\n",
       "        text-align: right;\n",
       "    }\n",
       "</style>\n",
       "<table border=\"1\" class=\"dataframe\">\n",
       "  <thead>\n",
       "    <tr style=\"text-align: right;\">\n",
       "      <th></th>\n",
       "      <th>Time</th>\n",
       "      <th>V1</th>\n",
       "      <th>V2</th>\n",
       "      <th>V3</th>\n",
       "      <th>V4</th>\n",
       "      <th>V5</th>\n",
       "      <th>V6</th>\n",
       "      <th>V7</th>\n",
       "      <th>V8</th>\n",
       "      <th>V9</th>\n",
       "      <th>...</th>\n",
       "      <th>V21</th>\n",
       "      <th>V22</th>\n",
       "      <th>V23</th>\n",
       "      <th>V24</th>\n",
       "      <th>V25</th>\n",
       "      <th>V26</th>\n",
       "      <th>V27</th>\n",
       "      <th>V28</th>\n",
       "      <th>Amount</th>\n",
       "      <th>Class</th>\n",
       "    </tr>\n",
       "  </thead>\n",
       "  <tbody>\n",
       "    <tr>\n",
       "      <th>0</th>\n",
       "      <td>0.0</td>\n",
       "      <td>-1.359807</td>\n",
       "      <td>-0.072781</td>\n",
       "      <td>2.536347</td>\n",
       "      <td>1.378155</td>\n",
       "      <td>-0.338321</td>\n",
       "      <td>0.462388</td>\n",
       "      <td>0.239599</td>\n",
       "      <td>0.098698</td>\n",
       "      <td>0.363787</td>\n",
       "      <td>...</td>\n",
       "      <td>-0.018307</td>\n",
       "      <td>0.277838</td>\n",
       "      <td>-0.110474</td>\n",
       "      <td>0.066928</td>\n",
       "      <td>0.128539</td>\n",
       "      <td>-0.189115</td>\n",
       "      <td>0.133558</td>\n",
       "      <td>-0.021053</td>\n",
       "      <td>149.62</td>\n",
       "      <td>0</td>\n",
       "    </tr>\n",
       "    <tr>\n",
       "      <th>1</th>\n",
       "      <td>0.0</td>\n",
       "      <td>1.191857</td>\n",
       "      <td>0.266151</td>\n",
       "      <td>0.166480</td>\n",
       "      <td>0.448154</td>\n",
       "      <td>0.060018</td>\n",
       "      <td>-0.082361</td>\n",
       "      <td>-0.078803</td>\n",
       "      <td>0.085102</td>\n",
       "      <td>-0.255425</td>\n",
       "      <td>...</td>\n",
       "      <td>-0.225775</td>\n",
       "      <td>-0.638672</td>\n",
       "      <td>0.101288</td>\n",
       "      <td>-0.339846</td>\n",
       "      <td>0.167170</td>\n",
       "      <td>0.125895</td>\n",
       "      <td>-0.008983</td>\n",
       "      <td>0.014724</td>\n",
       "      <td>2.69</td>\n",
       "      <td>0</td>\n",
       "    </tr>\n",
       "    <tr>\n",
       "      <th>2</th>\n",
       "      <td>1.0</td>\n",
       "      <td>-1.358354</td>\n",
       "      <td>-1.340163</td>\n",
       "      <td>1.773209</td>\n",
       "      <td>0.379780</td>\n",
       "      <td>-0.503198</td>\n",
       "      <td>1.800499</td>\n",
       "      <td>0.791461</td>\n",
       "      <td>0.247676</td>\n",
       "      <td>-1.514654</td>\n",
       "      <td>...</td>\n",
       "      <td>0.247998</td>\n",
       "      <td>0.771679</td>\n",
       "      <td>0.909412</td>\n",
       "      <td>-0.689281</td>\n",
       "      <td>-0.327642</td>\n",
       "      <td>-0.139097</td>\n",
       "      <td>-0.055353</td>\n",
       "      <td>-0.059752</td>\n",
       "      <td>378.66</td>\n",
       "      <td>0</td>\n",
       "    </tr>\n",
       "    <tr>\n",
       "      <th>3</th>\n",
       "      <td>1.0</td>\n",
       "      <td>-0.966272</td>\n",
       "      <td>-0.185226</td>\n",
       "      <td>1.792993</td>\n",
       "      <td>-0.863291</td>\n",
       "      <td>-0.010309</td>\n",
       "      <td>1.247203</td>\n",
       "      <td>0.237609</td>\n",
       "      <td>0.377436</td>\n",
       "      <td>-1.387024</td>\n",
       "      <td>...</td>\n",
       "      <td>-0.108300</td>\n",
       "      <td>0.005274</td>\n",
       "      <td>-0.190321</td>\n",
       "      <td>-1.175575</td>\n",
       "      <td>0.647376</td>\n",
       "      <td>-0.221929</td>\n",
       "      <td>0.062723</td>\n",
       "      <td>0.061458</td>\n",
       "      <td>123.50</td>\n",
       "      <td>0</td>\n",
       "    </tr>\n",
       "    <tr>\n",
       "      <th>4</th>\n",
       "      <td>2.0</td>\n",
       "      <td>-1.158233</td>\n",
       "      <td>0.877737</td>\n",
       "      <td>1.548718</td>\n",
       "      <td>0.403034</td>\n",
       "      <td>-0.407193</td>\n",
       "      <td>0.095921</td>\n",
       "      <td>0.592941</td>\n",
       "      <td>-0.270533</td>\n",
       "      <td>0.817739</td>\n",
       "      <td>...</td>\n",
       "      <td>-0.009431</td>\n",
       "      <td>0.798278</td>\n",
       "      <td>-0.137458</td>\n",
       "      <td>0.141267</td>\n",
       "      <td>-0.206010</td>\n",
       "      <td>0.502292</td>\n",
       "      <td>0.219422</td>\n",
       "      <td>0.215153</td>\n",
       "      <td>69.99</td>\n",
       "      <td>0</td>\n",
       "    </tr>\n",
       "  </tbody>\n",
       "</table>\n",
       "<p>5 rows × 31 columns</p>\n",
       "</div>"
      ],
      "text/plain": [
       "   Time        V1        V2        V3        V4        V5        V6        V7  \\\n",
       "0   0.0 -1.359807 -0.072781  2.536347  1.378155 -0.338321  0.462388  0.239599   \n",
       "1   0.0  1.191857  0.266151  0.166480  0.448154  0.060018 -0.082361 -0.078803   \n",
       "2   1.0 -1.358354 -1.340163  1.773209  0.379780 -0.503198  1.800499  0.791461   \n",
       "3   1.0 -0.966272 -0.185226  1.792993 -0.863291 -0.010309  1.247203  0.237609   \n",
       "4   2.0 -1.158233  0.877737  1.548718  0.403034 -0.407193  0.095921  0.592941   \n",
       "\n",
       "         V8        V9  ...       V21       V22       V23       V24       V25  \\\n",
       "0  0.098698  0.363787  ... -0.018307  0.277838 -0.110474  0.066928  0.128539   \n",
       "1  0.085102 -0.255425  ... -0.225775 -0.638672  0.101288 -0.339846  0.167170   \n",
       "2  0.247676 -1.514654  ...  0.247998  0.771679  0.909412 -0.689281 -0.327642   \n",
       "3  0.377436 -1.387024  ... -0.108300  0.005274 -0.190321 -1.175575  0.647376   \n",
       "4 -0.270533  0.817739  ... -0.009431  0.798278 -0.137458  0.141267 -0.206010   \n",
       "\n",
       "        V26       V27       V28  Amount  Class  \n",
       "0 -0.189115  0.133558 -0.021053  149.62      0  \n",
       "1  0.125895 -0.008983  0.014724    2.69      0  \n",
       "2 -0.139097 -0.055353 -0.059752  378.66      0  \n",
       "3 -0.221929  0.062723  0.061458  123.50      0  \n",
       "4  0.502292  0.219422  0.215153   69.99      0  \n",
       "\n",
       "[5 rows x 31 columns]"
      ]
     },
     "execution_count": 2,
     "metadata": {},
     "output_type": "execute_result"
    }
   ],
   "source": [
    "data = pd.read_csv('creditcard.csv')\n",
    "data.head()"
   ]
  },
  {
   "cell_type": "code",
   "execution_count": 3,
   "id": "fbc293b6-a469-469f-8a4e-e4f706c6587c",
   "metadata": {},
   "outputs": [
    {
     "data": {
      "application/javascript": [
       "\n",
       "        if (window._pyforest_update_imports_cell) { window._pyforest_update_imports_cell('import pandas as pd'); }\n",
       "    "
      ],
      "text/plain": [
       "<IPython.core.display.Javascript object>"
      ]
     },
     "metadata": {},
     "output_type": "display_data"
    },
    {
     "data": {
      "text/html": [
       "<div>\n",
       "<style scoped>\n",
       "    .dataframe tbody tr th:only-of-type {\n",
       "        vertical-align: middle;\n",
       "    }\n",
       "\n",
       "    .dataframe tbody tr th {\n",
       "        vertical-align: top;\n",
       "    }\n",
       "\n",
       "    .dataframe thead th {\n",
       "        text-align: right;\n",
       "    }\n",
       "</style>\n",
       "<table border=\"1\" class=\"dataframe\">\n",
       "  <thead>\n",
       "    <tr style=\"text-align: right;\">\n",
       "      <th></th>\n",
       "      <th>Time</th>\n",
       "      <th>Amount</th>\n",
       "      <th>Class</th>\n",
       "    </tr>\n",
       "  </thead>\n",
       "  <tbody>\n",
       "    <tr>\n",
       "      <th>0</th>\n",
       "      <td>0.0</td>\n",
       "      <td>149.62</td>\n",
       "      <td>0</td>\n",
       "    </tr>\n",
       "    <tr>\n",
       "      <th>1</th>\n",
       "      <td>0.0</td>\n",
       "      <td>2.69</td>\n",
       "      <td>0</td>\n",
       "    </tr>\n",
       "    <tr>\n",
       "      <th>2</th>\n",
       "      <td>1.0</td>\n",
       "      <td>378.66</td>\n",
       "      <td>0</td>\n",
       "    </tr>\n",
       "    <tr>\n",
       "      <th>3</th>\n",
       "      <td>1.0</td>\n",
       "      <td>123.50</td>\n",
       "      <td>0</td>\n",
       "    </tr>\n",
       "    <tr>\n",
       "      <th>4</th>\n",
       "      <td>2.0</td>\n",
       "      <td>69.99</td>\n",
       "      <td>0</td>\n",
       "    </tr>\n",
       "  </tbody>\n",
       "</table>\n",
       "</div>"
      ],
      "text/plain": [
       "   Time  Amount  Class\n",
       "0   0.0  149.62      0\n",
       "1   0.0    2.69      0\n",
       "2   1.0  378.66      0\n",
       "3   1.0  123.50      0\n",
       "4   2.0   69.99      0"
      ]
     },
     "execution_count": 3,
     "metadata": {},
     "output_type": "execute_result"
    }
   ],
   "source": [
    "ImportantData = pd.concat([data.iloc[:,0],data.iloc[:,-2:]], axis = 1)\n",
    "ImportantData.head()"
   ]
  },
  {
   "cell_type": "markdown",
   "id": "476e35be-799e-41ba-aa4f-504947d936e5",
   "metadata": {},
   "source": [
    "#### Time --> how much time has passed since the first transaction\n",
    "#### Amount --> how much money has been used in that transaction\n",
    "#### Class --> if 1 <=> fraud; if 0 <=> no fraud"
   ]
  },
  {
   "cell_type": "code",
   "execution_count": 4,
   "id": "4859be39-c659-4fcc-81d6-cb46e0f01490",
   "metadata": {},
   "outputs": [
    {
     "data": {
      "text/plain": [
       "Time      float64\n",
       "Amount    float64\n",
       "Class       int64\n",
       "dtype: object"
      ]
     },
     "execution_count": 4,
     "metadata": {},
     "output_type": "execute_result"
    }
   ],
   "source": [
    "ImportantData.dtypes"
   ]
  },
  {
   "cell_type": "code",
   "execution_count": 5,
   "id": "4eaa6ad9-aa75-443c-ab7b-e31fc24624d2",
   "metadata": {},
   "outputs": [
    {
     "data": {
      "text/plain": [
       "(284807, 3)"
      ]
     },
     "execution_count": 5,
     "metadata": {},
     "output_type": "execute_result"
    }
   ],
   "source": [
    "ImportantData.shape"
   ]
  },
  {
   "cell_type": "code",
   "execution_count": 6,
   "id": "ebadf290-6d6f-43d0-94b8-7eb5ac89f889",
   "metadata": {},
   "outputs": [
    {
     "data": {
      "text/plain": [
       "Time      0\n",
       "Amount    0\n",
       "Class     0\n",
       "dtype: int64"
      ]
     },
     "execution_count": 6,
     "metadata": {},
     "output_type": "execute_result"
    }
   ],
   "source": [
    "ImportantData.isnull().sum()"
   ]
  },
  {
   "cell_type": "markdown",
   "id": "cf695097-a18e-4729-b5ec-ada8961f43e1",
   "metadata": {},
   "source": [
    "## Visualization"
   ]
  },
  {
   "cell_type": "code",
   "execution_count": 7,
   "id": "7fca3f3f-374a-4497-a5a4-40606d40ead5",
   "metadata": {},
   "outputs": [
    {
     "data": {
      "application/javascript": [
       "\n",
       "        if (window._pyforest_update_imports_cell) { window._pyforest_update_imports_cell('import matplotlib.pyplot as plt\\nimport pandas as pd'); }\n",
       "    "
      ],
      "text/plain": [
       "<IPython.core.display.Javascript object>"
      ]
     },
     "metadata": {},
     "output_type": "display_data"
    },
    {
     "data": {
      "application/javascript": [
       "\n",
       "        if (window._pyforest_update_imports_cell) { window._pyforest_update_imports_cell('import matplotlib.pyplot as plt\\nimport pandas as pd'); }\n",
       "    "
      ],
      "text/plain": [
       "<IPython.core.display.Javascript object>"
      ]
     },
     "metadata": {},
     "output_type": "display_data"
    },
    {
     "data": {
      "application/javascript": [
       "\n",
       "        if (window._pyforest_update_imports_cell) { window._pyforest_update_imports_cell('import matplotlib.pyplot as plt\\nimport seaborn as sns\\nimport pandas as pd'); }\n",
       "    "
      ],
      "text/plain": [
       "<IPython.core.display.Javascript object>"
      ]
     },
     "metadata": {},
     "output_type": "display_data"
    },
    {
     "data": {
      "text/plain": [
       "<AxesSubplot:xlabel='Time', ylabel='Amount'>"
      ]
     },
     "execution_count": 7,
     "metadata": {},
     "output_type": "execute_result"
    },
    {
     "data": {
      "image/png": "[encoded data removed]",
      "text/plain": [
       "<Figure size 720x720 with 1 Axes>"
      ]
     },
     "metadata": {
      "needs_background": "light"
     },
     "output_type": "display_data"
    }
   ],
   "source": [
    "plt.figure(figsize = (10,10))\n",
    "axes = plt.gca()\n",
    "axes.set_ylim([0,10000])\n",
    "sns.scatterplot(x = ImportantData['Time'], y = ImportantData['Amount'], hue = ImportantData['Class'])"
   ]
  },
  {
   "cell_type": "code",
   "execution_count": 8,
   "id": "79232a22-169a-467f-bb9f-f8c5c16494ac",
   "metadata": {},
   "outputs": [
    {
     "data": {
      "application/javascript": [
       "\n",
       "        if (window._pyforest_update_imports_cell) { window._pyforest_update_imports_cell('import matplotlib.pyplot as plt\\nimport seaborn as sns\\nimport pandas as pd'); }\n",
       "    "
      ],
      "text/plain": [
       "<IPython.core.display.Javascript object>"
      ]
     },
     "metadata": {},
     "output_type": "display_data"
    },
    {
     "data": {
      "application/javascript": [
       "\n",
       "        if (window._pyforest_update_imports_cell) { window._pyforest_update_imports_cell('import matplotlib.pyplot as plt\\nimport seaborn as sns\\nimport pandas as pd'); }\n",
       "    "
      ],
      "text/plain": [
       "<IPython.core.display.Javascript object>"
      ]
     },
     "metadata": {},
     "output_type": "display_data"
    },
    {
     "data": {
      "application/javascript": [
       "\n",
       "        if (window._pyforest_update_imports_cell) { window._pyforest_update_imports_cell('import matplotlib.pyplot as plt\\nimport seaborn as sns\\nimport pandas as pd'); }\n",
       "    "
      ],
      "text/plain": [
       "<IPython.core.display.Javascript object>"
      ]
     },
     "metadata": {},
     "output_type": "display_data"
    },
    {
     "data": {
      "image/png": "[encoded data removed]",
      "text/plain": [
       "<Figure size 720x576 with 1 Axes>"
      ]
     },
     "metadata": {
      "needs_background": "light"
     },
     "output_type": "display_data"
    }
   ],
   "source": [
    "plt.figure(figsize=(10,8))\n",
    "plt.title('Distribution of \"Time\" Attribute')\n",
    "sns.histplot(ImportantData['Time'],color='green');"
   ]
  },
  {
   "cell_type": "code",
   "execution_count": 9,
   "id": "fca509b5-24bb-4486-a4fb-8790e3837d25",
   "metadata": {},
   "outputs": [
    {
     "data": {
      "application/javascript": [
       "\n",
       "        if (window._pyforest_update_imports_cell) { window._pyforest_update_imports_cell('import matplotlib.pyplot as plt\\nimport seaborn as sns\\nimport pandas as pd'); }\n",
       "    "
      ],
      "text/plain": [
       "<IPython.core.display.Javascript object>"
      ]
     },
     "metadata": {},
     "output_type": "display_data"
    },
    {
     "data": {
      "application/javascript": [
       "\n",
       "        if (window._pyforest_update_imports_cell) { window._pyforest_update_imports_cell('import matplotlib.pyplot as plt\\nimport seaborn as sns\\nimport pandas as pd'); }\n",
       "    "
      ],
      "text/plain": [
       "<IPython.core.display.Javascript object>"
      ]
     },
     "metadata": {},
     "output_type": "display_data"
    },
    {
     "data": {
      "text/plain": [
       "<AxesSubplot:>"
      ]
     },
     "execution_count": 9,
     "metadata": {},
     "output_type": "execute_result"
    },
    {
     "data": {
      "image/png": "[encoded data removed]",
      "text/plain": [
       "<Figure size 720x720 with 2 Axes>"
      ]
     },
     "metadata": {
      "needs_background": "light"
     },
     "output_type": "display_data"
    }
   ],
   "source": [
    "plt.figure(figsize = (10,10))\n",
    "sns.heatmap(ImportantData.corr(), cmap = 'viridis', annot = True)           \n",
    "           "
   ]
  },
  {
   "cell_type": "code",
   "execution_count": 10,
   "id": "582ab222-8920-4f1b-bf1a-d782e98f9db3",
   "metadata": {},
   "outputs": [
    {
     "data": {
      "application/javascript": [
       "\n",
       "        if (window._pyforest_update_imports_cell) { window._pyforest_update_imports_cell('import matplotlib.pyplot as plt\\nimport seaborn as sns\\nimport pandas as pd'); }\n",
       "    "
      ],
      "text/plain": [
       "<IPython.core.display.Javascript object>"
      ]
     },
     "metadata": {},
     "output_type": "display_data"
    },
    {
     "data": {
      "application/javascript": [
       "\n",
       "        if (window._pyforest_update_imports_cell) { window._pyforest_update_imports_cell('import matplotlib.pyplot as plt\\nimport seaborn as sns\\nimport pandas as pd'); }\n",
       "    "
      ],
      "text/plain": [
       "<IPython.core.display.Javascript object>"
      ]
     },
     "metadata": {},
     "output_type": "display_data"
    },
    {
     "data": {
      "text/plain": [
       "<AxesSubplot:>"
      ]
     },
     "execution_count": 10,
     "metadata": {},
     "output_type": "execute_result"
    },
    {
     "data": {
      "image/png": "[encoded data removed]",
      "text/plain": [
       "<Figure size 1296x864 with 2 Axes>"
      ]
     },
     "metadata": {
      "needs_background": "light"
     },
     "output_type": "display_data"
    }
   ],
   "source": [
    "plt.figure(figsize = (18,12))\n",
    "sns.heatmap(data.corr(), cmap = 'viridis')   "
   ]
  },
  {
   "cell_type": "code",
   "execution_count": null,
   "id": "c9f2dc63-77db-4591-8283-7d8bb00988f7",
   "metadata": {},
   "outputs": [],
   "source": []
  },
  {
   "cell_type": "markdown",
   "id": "e6d9cacd-1372-4d19-a723-75ef1a86c372",
   "metadata": {},
   "source": [
    "## Splitting the data"
   ]
  },
  {
   "cell_type": "code",
   "execution_count": 11,
   "id": "1228edbc-e727-450f-b7c1-02ed2d9b1cce",
   "metadata": {},
   "outputs": [],
   "source": [
    "X = data.drop('Class',axis = 1)\n",
    "y = data['Class']"
   ]
  },
  {
   "cell_type": "code",
   "execution_count": 12,
   "id": "3b328872-3e2a-49c2-9ec0-54bba361819f",
   "metadata": {},
   "outputs": [
    {
     "data": {
      "application/javascript": [
       "\n",
       "        if (window._pyforest_update_imports_cell) { window._pyforest_update_imports_cell('import matplotlib.pyplot as plt\\nfrom sklearn.model_selection import train_test_split\\nimport seaborn as sns\\nimport pandas as pd'); }\n",
       "    "
      ],
      "text/plain": [
       "<IPython.core.display.Javascript object>"
      ]
     },
     "metadata": {},
     "output_type": "display_data"
    }
   ],
   "source": [
    "X_train,X_test,y_train,y_test = train_test_split(X,y,test_size = 0.25, random_state = 1)"
   ]
  },
  {
   "cell_type": "code",
   "execution_count": 13,
   "id": "3551f63d-170b-489b-acee-d93e69efc215",
   "metadata": {},
   "outputs": [
    {
     "data": {
      "application/javascript": [
       "\n",
       "        if (window._pyforest_update_imports_cell) { window._pyforest_update_imports_cell('import matplotlib.pyplot as plt\\nfrom sklearn.model_selection import train_test_split\\nimport seaborn as sns\\nimport pandas as pd'); }\n",
       "    "
      ],
      "text/plain": [
       "<IPython.core.display.Javascript object>"
      ]
     },
     "metadata": {},
     "output_type": "display_data"
    }
   ],
   "source": [
    "X = pd.concat([X_train,y_train], axis = 1) #concatenating training data back together"
   ]
  },
  {
   "cell_type": "code",
   "execution_count": 14,
   "id": "55572198-a4bc-4889-a8e9-10a7b0d93043",
   "metadata": {},
   "outputs": [
    {
     "data": {
      "text/html": [
       "<div>\n",
       "<style scoped>\n",
       "    .dataframe tbody tr th:only-of-type {\n",
       "        vertical-align: middle;\n",
       "    }\n",
       "\n",
       "    .dataframe tbody tr th {\n",
       "        vertical-align: top;\n",
       "    }\n",
       "\n",
       "    .dataframe thead th {\n",
       "        text-align: right;\n",
       "    }\n",
       "</style>\n",
       "<table border=\"1\" class=\"dataframe\">\n",
       "  <thead>\n",
       "    <tr style=\"text-align: right;\">\n",
       "      <th></th>\n",
       "      <th>Time</th>\n",
       "      <th>V1</th>\n",
       "      <th>V2</th>\n",
       "      <th>V3</th>\n",
       "      <th>V4</th>\n",
       "      <th>V5</th>\n",
       "      <th>V6</th>\n",
       "      <th>V7</th>\n",
       "      <th>V8</th>\n",
       "      <th>V9</th>\n",
       "      <th>...</th>\n",
       "      <th>V21</th>\n",
       "      <th>V22</th>\n",
       "      <th>V23</th>\n",
       "      <th>V24</th>\n",
       "      <th>V25</th>\n",
       "      <th>V26</th>\n",
       "      <th>V27</th>\n",
       "      <th>V28</th>\n",
       "      <th>Amount</th>\n",
       "      <th>Class</th>\n",
       "    </tr>\n",
       "  </thead>\n",
       "  <tbody>\n",
       "    <tr>\n",
       "      <th>260755</th>\n",
       "      <td>159708.0</td>\n",
       "      <td>-0.459482</td>\n",
       "      <td>1.198230</td>\n",
       "      <td>2.315423</td>\n",
       "      <td>4.274698</td>\n",
       "      <td>0.603004</td>\n",
       "      <td>2.280395</td>\n",
       "      <td>0.026612</td>\n",
       "      <td>0.564397</td>\n",
       "      <td>-1.726571</td>\n",
       "      <td>...</td>\n",
       "      <td>-0.351269</td>\n",
       "      <td>-0.906878</td>\n",
       "      <td>-0.131385</td>\n",
       "      <td>0.050282</td>\n",
       "      <td>0.029694</td>\n",
       "      <td>0.144998</td>\n",
       "      <td>0.114877</td>\n",
       "      <td>0.093615</td>\n",
       "      <td>27.23</td>\n",
       "      <td>0</td>\n",
       "    </tr>\n",
       "    <tr>\n",
       "      <th>191155</th>\n",
       "      <td>129139.0</td>\n",
       "      <td>1.878563</td>\n",
       "      <td>0.020785</td>\n",
       "      <td>-1.621113</td>\n",
       "      <td>2.908813</td>\n",
       "      <td>2.507847</td>\n",
       "      <td>4.709442</td>\n",
       "      <td>-0.830626</td>\n",
       "      <td>1.136154</td>\n",
       "      <td>-0.395755</td>\n",
       "      <td>...</td>\n",
       "      <td>0.079998</td>\n",
       "      <td>0.404327</td>\n",
       "      <td>0.121098</td>\n",
       "      <td>0.707538</td>\n",
       "      <td>0.140100</td>\n",
       "      <td>0.155684</td>\n",
       "      <td>0.016375</td>\n",
       "      <td>-0.053892</td>\n",
       "      <td>0.00</td>\n",
       "      <td>0</td>\n",
       "    </tr>\n",
       "    <tr>\n",
       "      <th>4791</th>\n",
       "      <td>4263.0</td>\n",
       "      <td>-1.467414</td>\n",
       "      <td>1.210542</td>\n",
       "      <td>1.891733</td>\n",
       "      <td>-0.282189</td>\n",
       "      <td>-0.214526</td>\n",
       "      <td>-0.201625</td>\n",
       "      <td>1.547764</td>\n",
       "      <td>-0.284276</td>\n",
       "      <td>0.907166</td>\n",
       "      <td>...</td>\n",
       "      <td>-0.039093</td>\n",
       "      <td>0.097313</td>\n",
       "      <td>-0.302656</td>\n",
       "      <td>0.320926</td>\n",
       "      <td>0.586090</td>\n",
       "      <td>-0.631388</td>\n",
       "      <td>-0.298853</td>\n",
       "      <td>0.016153</td>\n",
       "      <td>153.00</td>\n",
       "      <td>0</td>\n",
       "    </tr>\n",
       "    <tr>\n",
       "      <th>159931</th>\n",
       "      <td>113041.0</td>\n",
       "      <td>2.073474</td>\n",
       "      <td>-0.147624</td>\n",
       "      <td>-1.495803</td>\n",
       "      <td>0.184499</td>\n",
       "      <td>0.107505</td>\n",
       "      <td>-0.858107</td>\n",
       "      <td>0.046284</td>\n",
       "      <td>-0.179913</td>\n",
       "      <td>0.984100</td>\n",
       "      <td>...</td>\n",
       "      <td>0.250739</td>\n",
       "      <td>0.802850</td>\n",
       "      <td>0.034933</td>\n",
       "      <td>0.655414</td>\n",
       "      <td>0.289638</td>\n",
       "      <td>-0.442057</td>\n",
       "      <td>-0.003265</td>\n",
       "      <td>-0.051052</td>\n",
       "      <td>1.00</td>\n",
       "      <td>0</td>\n",
       "    </tr>\n",
       "    <tr>\n",
       "      <th>124588</th>\n",
       "      <td>77352.0</td>\n",
       "      <td>1.097497</td>\n",
       "      <td>0.357207</td>\n",
       "      <td>1.051187</td>\n",
       "      <td>2.631217</td>\n",
       "      <td>-0.464023</td>\n",
       "      <td>-0.006905</td>\n",
       "      <td>-0.183556</td>\n",
       "      <td>0.166381</td>\n",
       "      <td>-0.456974</td>\n",
       "      <td>...</td>\n",
       "      <td>-0.232654</td>\n",
       "      <td>-0.626643</td>\n",
       "      <td>0.106893</td>\n",
       "      <td>0.486223</td>\n",
       "      <td>0.296727</td>\n",
       "      <td>-0.207474</td>\n",
       "      <td>0.001507</td>\n",
       "      <td>0.016926</td>\n",
       "      <td>3.93</td>\n",
       "      <td>0</td>\n",
       "    </tr>\n",
       "  </tbody>\n",
       "</table>\n",
       "<p>5 rows × 31 columns</p>\n",
       "</div>"
      ],
      "text/plain": [
       "            Time        V1        V2        V3        V4        V5        V6  \\\n",
       "260755  159708.0 -0.459482  1.198230  2.315423  4.274698  0.603004  2.280395   \n",
       "191155  129139.0  1.878563  0.020785 -1.621113  2.908813  2.507847  4.709442   \n",
       "4791      4263.0 -1.467414  1.210542  1.891733 -0.282189 -0.214526 -0.201625   \n",
       "159931  113041.0  2.073474 -0.147624 -1.495803  0.184499  0.107505 -0.858107   \n",
       "124588   77352.0  1.097497  0.357207  1.051187  2.631217 -0.464023 -0.006905   \n",
       "\n",
       "              V7        V8        V9  ...       V21       V22       V23  \\\n",
       "260755  0.026612  0.564397 -1.726571  ... -0.351269 -0.906878 -0.131385   \n",
       "191155 -0.830626  1.136154 -0.395755  ...  0.079998  0.404327  0.121098   \n",
       "4791    1.547764 -0.284276  0.907166  ... -0.039093  0.097313 -0.302656   \n",
       "159931  0.046284 -0.179913  0.984100  ...  0.250739  0.802850  0.034933   \n",
       "124588 -0.183556  0.166381 -0.456974  ... -0.232654 -0.626643  0.106893   \n",
       "\n",
       "             V24       V25       V26       V27       V28  Amount  Class  \n",
       "260755  0.050282  0.029694  0.144998  0.114877  0.093615   27.23      0  \n",
       "191155  0.707538  0.140100  0.155684  0.016375 -0.053892    0.00      0  \n",
       "4791    0.320926  0.586090 -0.631388 -0.298853  0.016153  153.00      0  \n",
       "159931  0.655414  0.289638 -0.442057 -0.003265 -0.051052    1.00      0  \n",
       "124588  0.486223  0.296727 -0.207474  0.001507  0.016926    3.93      0  \n",
       "\n",
       "[5 rows x 31 columns]"
      ]
     },
     "execution_count": 14,
     "metadata": {},
     "output_type": "execute_result"
    }
   ],
   "source": [
    "X.head()"
   ]
  },
  {
   "cell_type": "markdown",
   "id": "8bab7e06-e54a-41ed-85db-1f66f5afad9b",
   "metadata": {},
   "source": [
    "## Dummy Classifier to check Data Imbalance"
   ]
  },
  {
   "cell_type": "code",
   "execution_count": 15,
   "id": "049e6df0-6cec-4a9c-9332-a2d3de27ec41",
   "metadata": {},
   "outputs": [
    {
     "data": {
      "text/plain": [
       "DummyClassifier(strategy='most_frequent')"
      ]
     },
     "execution_count": 15,
     "metadata": {},
     "output_type": "execute_result"
    }
   ],
   "source": [
    "from sklearn.dummy import DummyClassifier\n",
    "\n",
    "dummy = DummyClassifier(strategy = 'most_frequent')\n",
    "dummy.fit(X_train,y_train)"
   ]
  },
  {
   "cell_type": "code",
   "execution_count": 16,
   "id": "d9075b7d-1c01-4ad6-849e-b459fe96a64f",
   "metadata": {},
   "outputs": [
    {
     "name": "stdout",
     "output_type": "stream",
     "text": [
      "Accuracy score: 0.9984410550265442%\n"
     ]
    }
   ],
   "source": [
    "print('Accuracy score: {}%'.format(dummy.score(X_test,y_test)))"
   ]
  },
  {
   "cell_type": "code",
   "execution_count": 17,
   "id": "4e95fc66-6083-4a9b-9e78-b41212fd5c55",
   "metadata": {},
   "outputs": [
    {
     "data": {
      "application/javascript": [
       "\n",
       "        if (window._pyforest_update_imports_cell) { window._pyforest_update_imports_cell('from sklearn.model_selection import train_test_split\\nimport numpy as np\\nimport seaborn as sns\\nimport pandas as pd\\nimport matplotlib.pyplot as plt'); }\n",
       "    "
      ],
      "text/plain": [
       "<IPython.core.display.Javascript object>"
      ]
     },
     "metadata": {},
     "output_type": "display_data"
    },
    {
     "name": "stdout",
     "output_type": "stream",
     "text": [
      "Unique values: [0]\n"
     ]
    }
   ],
   "source": [
    "print('Unique values: {}'.format(np.unique(dummy.predict(X_test))))"
   ]
  },
  {
   "cell_type": "markdown",
   "id": "2cf39acf-e968-444d-8526-6401516f333d",
   "metadata": {},
   "source": [
    "### Just as we expected.Because of the big data imbalance, the algorithm is predicting only non-frauds and it completely neglects frauds!"
   ]
  },
  {
   "cell_type": "markdown",
   "id": "c1c75eab-6ab2-4771-9758-4e6d79dbfaa4",
   "metadata": {},
   "source": [
    "#### In order to deal with the data imbalance we will we using 3 different technicques: Upsampling,Downsampling,SMOTE"
   ]
  },
  {
   "cell_type": "markdown",
   "id": "ba79a038-85b3-4443-9be5-032a41349b91",
   "metadata": {},
   "source": [
    "## Upsampling"
   ]
  },
  {
   "cell_type": "code",
   "execution_count": 18,
   "id": "7df16421-91a9-4df7-bec3-64e4168cacef",
   "metadata": {},
   "outputs": [],
   "source": [
    "from sklearn.utils import resample"
   ]
  },
  {
   "cell_type": "code",
   "execution_count": 19,
   "id": "6308124d-49ca-48a9-8ad0-a980b10651dc",
   "metadata": {},
   "outputs": [
    {
     "data": {
      "application/javascript": [
       "\n",
       "        if (window._pyforest_update_imports_cell) { window._pyforest_update_imports_cell('from sklearn.model_selection import train_test_split\\nimport numpy as np\\nimport seaborn as sns\\nimport pandas as pd\\nimport matplotlib.pyplot as plt'); }\n",
       "    "
      ],
      "text/plain": [
       "<IPython.core.display.Javascript object>"
      ]
     },
     "metadata": {},
     "output_type": "display_data"
    },
    {
     "data": {
      "text/plain": [
       "0    213224\n",
       "1    213224\n",
       "Name: Class, dtype: int64"
      ]
     },
     "execution_count": 19,
     "metadata": {},
     "output_type": "execute_result"
    }
   ],
   "source": [
    "fraud = X[X['Class'] == 1]\n",
    "no_fraud = X[X['Class'] == 0]\n",
    "\n",
    "fraud_resampled = resample(fraud, replace = True, n_samples = len(no_fraud), random_state = 88)\n",
    "Resampled = pd.concat([no_fraud, fraud_resampled])\n",
    "Resampled['Class'].value_counts()"
   ]
  },
  {
   "cell_type": "markdown",
   "id": "9cc70f48-616a-4b79-b05e-a892cb2751a3",
   "metadata": {},
   "source": [
    "## Building Logistric Regression model"
   ]
  },
  {
   "cell_type": "code",
   "execution_count": 20,
   "id": "71ab5491-f575-425e-acdc-cb9647a434cc",
   "metadata": {},
   "outputs": [],
   "source": [
    "from sklearn.linear_model import LogisticRegression"
   ]
  },
  {
   "cell_type": "code",
   "execution_count": 21,
   "id": "d989f504-d608-4148-b0d2-86007dada588",
   "metadata": {},
   "outputs": [
    {
     "data": {
      "application/javascript": [
       "\n",
       "        if (window._pyforest_update_imports_cell) { window._pyforest_update_imports_cell('from sklearn.model_selection import train_test_split\\nimport numpy as np\\nimport seaborn as sns\\nimport pandas as pd\\nimport matplotlib.pyplot as plt'); }\n",
       "    "
      ],
      "text/plain": [
       "<IPython.core.display.Javascript object>"
      ]
     },
     "metadata": {},
     "output_type": "display_data"
    },
    {
     "name": "stdout",
     "output_type": "stream",
     "text": [
      "Logistic Regression Model score after upsampling is: 94.25567671082972%\n"
     ]
    }
   ],
   "source": [
    "X = Resampled.drop('Class', axis = 1)\n",
    "y = Resampled['Class']\n",
    "X_train,X_test,y_train,y_test = train_test_split(X,y,test_size = 0.3, random_state =1)\n",
    "logreg = LogisticRegression(solver = 'liblinear')\n",
    "logreg.fit(X_train,y_train)\n",
    "score = logreg.score(X_test,y_test)\n",
    "print('Logistic Regression Model score after upsampling is: {}%'.format(score * 100))"
   ]
  },
  {
   "cell_type": "code",
   "execution_count": 22,
   "id": "deeafb61-1a60-4cd5-babe-18280fa91471",
   "metadata": {},
   "outputs": [],
   "source": [
    "from sklearn.metrics import classification_report,confusion_matrix"
   ]
  },
  {
   "cell_type": "code",
   "execution_count": 23,
   "id": "ce970e4f-3de8-4b85-abe8-da5abc5c10af",
   "metadata": {},
   "outputs": [
    {
     "name": "stdout",
     "output_type": "stream",
     "text": [
      "..........................................................................................\n",
      "Logistic Regression Classification Report\n",
      "..........................................................................................\n",
      "..........................................................................................\n",
      "..........................................................................................\n",
      "              precision    recall  f1-score   support\n",
      "\n",
      "           0       0.91      0.98      0.94     63954\n",
      "           1       0.98      0.91      0.94     63981\n",
      "\n",
      "    accuracy                           0.94    127935\n",
      "   macro avg       0.94      0.94      0.94    127935\n",
      "weighted avg       0.94      0.94      0.94    127935\n",
      "\n"
     ]
    }
   ],
   "source": [
    "print('...' * 30)\n",
    "print('Logistic Regression Classification Report')\n",
    "print('...' * 30)\n",
    "print('...' * 30)\n",
    "print('...' * 30)\n",
    "print(classification_report(y_test,logreg.predict(X_test)))"
   ]
  },
  {
   "cell_type": "code",
   "execution_count": 24,
   "id": "4abd0dcb-9025-4ba5-bd4e-1337d8d00fe4",
   "metadata": {},
   "outputs": [
    {
     "data": {
      "application/javascript": [
       "\n",
       "        if (window._pyforest_update_imports_cell) { window._pyforest_update_imports_cell('from sklearn.model_selection import train_test_split\\nimport numpy as np\\nimport seaborn as sns\\nimport pandas as pd\\nimport matplotlib.pyplot as plt'); }\n",
       "    "
      ],
      "text/plain": [
       "<IPython.core.display.Javascript object>"
      ]
     },
     "metadata": {},
     "output_type": "display_data"
    },
    {
     "data": {
      "text/html": [
       "<div>\n",
       "<style scoped>\n",
       "    .dataframe tbody tr th:only-of-type {\n",
       "        vertical-align: middle;\n",
       "    }\n",
       "\n",
       "    .dataframe tbody tr th {\n",
       "        vertical-align: top;\n",
       "    }\n",
       "\n",
       "    .dataframe thead th {\n",
       "        text-align: right;\n",
       "    }\n",
       "</style>\n",
       "<table border=\"1\" class=\"dataframe\">\n",
       "  <thead>\n",
       "    <tr style=\"text-align: right;\">\n",
       "      <th></th>\n",
       "      <th>0</th>\n",
       "      <th>1</th>\n",
       "    </tr>\n",
       "  </thead>\n",
       "  <tbody>\n",
       "    <tr>\n",
       "      <th>0</th>\n",
       "      <td>62616</td>\n",
       "      <td>1338</td>\n",
       "    </tr>\n",
       "    <tr>\n",
       "      <th>1</th>\n",
       "      <td>6011</td>\n",
       "      <td>57970</td>\n",
       "    </tr>\n",
       "  </tbody>\n",
       "</table>\n",
       "</div>"
      ],
      "text/plain": [
       "       0      1\n",
       "0  62616   1338\n",
       "1   6011  57970"
      ]
     },
     "execution_count": 24,
     "metadata": {},
     "output_type": "execute_result"
    }
   ],
   "source": [
    "ConfusionMatrix = pd.DataFrame(confusion_matrix(y_test,logreg.predict(X_test)))\n",
    "ConfusionMatrix"
   ]
  },
  {
   "cell_type": "code",
   "execution_count": 25,
   "id": "dc026697-5f4b-4a3a-88b0-91b79db66791",
   "metadata": {},
   "outputs": [
    {
     "name": "stdout",
     "output_type": "stream",
     "text": [
      "Logistic Regression Model score is: 94.25567671082972%\n"
     ]
    }
   ],
   "source": [
    "print('Logistic Regression Model score is: {}%'.format(score * 100))"
   ]
  },
  {
   "cell_type": "markdown",
   "id": "0948e458-f177-4777-b106-f4f3b788da9a",
   "metadata": {},
   "source": [
    "## Downsampling"
   ]
  },
  {
   "cell_type": "code",
   "execution_count": 26,
   "id": "fd57e892-6dbd-4f90-8e13-8d32083b9f73",
   "metadata": {},
   "outputs": [
    {
     "data": {
      "application/javascript": [
       "\n",
       "        if (window._pyforest_update_imports_cell) { window._pyforest_update_imports_cell('from sklearn.model_selection import train_test_split\\nimport numpy as np\\nimport seaborn as sns\\nimport pandas as pd\\nimport matplotlib.pyplot as plt'); }\n",
       "    "
      ],
      "text/plain": [
       "<IPython.core.display.Javascript object>"
      ]
     },
     "metadata": {},
     "output_type": "display_data"
    },
    {
     "data": {
      "text/plain": [
       "0    381\n",
       "1    381\n",
       "Name: Class, dtype: int64"
      ]
     },
     "execution_count": 26,
     "metadata": {},
     "output_type": "execute_result"
    }
   ],
   "source": [
    "no_fraud_resampled = resample(no_fraud, replace = False, n_samples = len(fraud), random_state = 68)\n",
    "Resampled = pd.concat([fraud,no_fraud_resampled])\n",
    "Resampled['Class'].value_counts()"
   ]
  },
  {
   "cell_type": "markdown",
   "id": "f3f1069f-e255-498e-8769-4850e7781979",
   "metadata": {},
   "source": [
    "## Building Logistric Regression model"
   ]
  },
  {
   "cell_type": "code",
   "execution_count": 27,
   "id": "e9fba506-5501-4596-a037-1267861a585a",
   "metadata": {},
   "outputs": [
    {
     "data": {
      "application/javascript": [
       "\n",
       "        if (window._pyforest_update_imports_cell) { window._pyforest_update_imports_cell('from sklearn.model_selection import train_test_split\\nimport numpy as np\\nimport seaborn as sns\\nimport pandas as pd\\nimport matplotlib.pyplot as plt'); }\n",
       "    "
      ],
      "text/plain": [
       "<IPython.core.display.Javascript object>"
      ]
     },
     "metadata": {},
     "output_type": "display_data"
    },
    {
     "name": "stdout",
     "output_type": "stream",
     "text": [
      "Logistic Regression Model score after downsampling is: 96.06986899563319%\n"
     ]
    }
   ],
   "source": [
    "X = Resampled.drop('Class', axis = 1)\n",
    "y = Resampled['Class']\n",
    "X_train,X_test,y_train,y_test = train_test_split(X,y,test_size = 0.3, random_state =1)\n",
    "logreg2 = LogisticRegression(solver = 'liblinear')\n",
    "logreg2.fit(X_train,y_train)\n",
    "print('Logistic Regression Model score after downsampling is: {}%'.format(logreg2.score(X_test,y_test) * 100))"
   ]
  },
  {
   "cell_type": "code",
   "execution_count": 28,
   "id": "729d9c2a-7e01-4e0b-aef9-43bcc66b5eb3",
   "metadata": {},
   "outputs": [
    {
     "name": "stdout",
     "output_type": "stream",
     "text": [
      "..........................................................................................\n",
      "Logistic Regression Classification Report\n",
      "..........................................................................................\n",
      "..........................................................................................\n",
      "..........................................................................................\n",
      "              precision    recall  f1-score   support\n",
      "\n",
      "           0       0.94      0.99      0.96       118\n",
      "           1       0.99      0.93      0.96       111\n",
      "\n",
      "    accuracy                           0.96       229\n",
      "   macro avg       0.96      0.96      0.96       229\n",
      "weighted avg       0.96      0.96      0.96       229\n",
      "\n"
     ]
    }
   ],
   "source": [
    "print('...' * 30)\n",
    "print('Logistic Regression Classification Report')\n",
    "print('...' * 30)\n",
    "print('...' * 30)\n",
    "print('...' * 30)\n",
    "print(classification_report(y_test,logreg2.predict(X_test)))"
   ]
  },
  {
   "cell_type": "code",
   "execution_count": 29,
   "id": "02168b1b-3d2c-454c-8ba8-e70042db1972",
   "metadata": {},
   "outputs": [
    {
     "data": {
      "application/javascript": [
       "\n",
       "        if (window._pyforest_update_imports_cell) { window._pyforest_update_imports_cell('from sklearn.model_selection import train_test_split\\nimport numpy as np\\nimport seaborn as sns\\nimport pandas as pd\\nimport matplotlib.pyplot as plt'); }\n",
       "    "
      ],
      "text/plain": [
       "<IPython.core.display.Javascript object>"
      ]
     },
     "metadata": {},
     "output_type": "display_data"
    },
    {
     "data": {
      "text/html": [
       "<div>\n",
       "<style scoped>\n",
       "    .dataframe tbody tr th:only-of-type {\n",
       "        vertical-align: middle;\n",
       "    }\n",
       "\n",
       "    .dataframe tbody tr th {\n",
       "        vertical-align: top;\n",
       "    }\n",
       "\n",
       "    .dataframe thead th {\n",
       "        text-align: right;\n",
       "    }\n",
       "</style>\n",
       "<table border=\"1\" class=\"dataframe\">\n",
       "  <thead>\n",
       "    <tr style=\"text-align: right;\">\n",
       "      <th></th>\n",
       "      <th>0</th>\n",
       "      <th>1</th>\n",
       "    </tr>\n",
       "  </thead>\n",
       "  <tbody>\n",
       "    <tr>\n",
       "      <th>0</th>\n",
       "      <td>117</td>\n",
       "      <td>1</td>\n",
       "    </tr>\n",
       "    <tr>\n",
       "      <th>1</th>\n",
       "      <td>8</td>\n",
       "      <td>103</td>\n",
       "    </tr>\n",
       "  </tbody>\n",
       "</table>\n",
       "</div>"
      ],
      "text/plain": [
       "     0    1\n",
       "0  117    1\n",
       "1    8  103"
      ]
     },
     "execution_count": 29,
     "metadata": {},
     "output_type": "execute_result"
    }
   ],
   "source": [
    "ConfusionMatrix = pd.DataFrame(confusion_matrix(y_test,logreg2.predict(X_test)))\n",
    "ConfusionMatrix"
   ]
  },
  {
   "cell_type": "markdown",
   "id": "4e7b8f9c-bf80-4a2d-b744-57ef81081c94",
   "metadata": {},
   "source": [
    "## SMOTE Method(SMOTE comes from Synthetic Minority Oversampling Technique)"
   ]
  },
  {
   "cell_type": "code",
   "execution_count": 30,
   "id": "46af9a9d-b1b3-41ec-a8cc-6390dd773a91",
   "metadata": {},
   "outputs": [],
   "source": [
    "from imblearn.over_sampling import SMOTE\n"
   ]
  },
  {
   "cell_type": "code",
   "execution_count": 31,
   "id": "eb8232c6-6e40-4989-813a-341d0bb268e6",
   "metadata": {},
   "outputs": [],
   "source": [
    "X = data.drop('Class', axis = 1)\n",
    "y = data['Class']"
   ]
  },
  {
   "cell_type": "code",
   "execution_count": 32,
   "id": "16baed08-6045-4a50-8c68-59b954737694",
   "metadata": {},
   "outputs": [
    {
     "data": {
      "application/javascript": [
       "\n",
       "        if (window._pyforest_update_imports_cell) { window._pyforest_update_imports_cell('from sklearn.model_selection import train_test_split\\nimport numpy as np\\nimport seaborn as sns\\nimport pandas as pd\\nimport matplotlib.pyplot as plt'); }\n",
       "    "
      ],
      "text/plain": [
       "<IPython.core.display.Javascript object>"
      ]
     },
     "metadata": {},
     "output_type": "display_data"
    }
   ],
   "source": [
    "X_train,X_test,y_train,y_test = train_test_split(X,y,test_size = 0.3, random_state = 1)"
   ]
  },
  {
   "cell_type": "code",
   "execution_count": 33,
   "id": "9e838cde-e366-4c3e-ac62-02349c565fee",
   "metadata": {},
   "outputs": [],
   "source": [
    "model = SMOTE(random_state = 1)\n",
    "X_train,y_train = model.fit_resample(X_train,y_train)"
   ]
  },
  {
   "cell_type": "markdown",
   "id": "f813d3ff-168c-40be-8d46-25236e6ea64d",
   "metadata": {},
   "source": [
    "## Building Logistric Regression model"
   ]
  },
  {
   "cell_type": "code",
   "execution_count": 34,
   "id": "ad6691ef-1ca6-4e3f-bc72-27e48d8f25fc",
   "metadata": {},
   "outputs": [
    {
     "name": "stdout",
     "output_type": "stream",
     "text": [
      "Logistic Regression Model score after SMOTE is: 98.57799936799972%\n"
     ]
    }
   ],
   "source": [
    "logreg3 = LogisticRegression(solver = 'liblinear')\n",
    "logreg3.fit(X_train,y_train)\n",
    "print('Logistic Regression Model score after SMOTE is: {}%'.format(logreg3.score(X_test,y_test) * 100))"
   ]
  },
  {
   "cell_type": "code",
   "execution_count": null,
   "id": "fd3c4553-70da-4ed6-b412-5c10fdaeef0b",
   "metadata": {},
   "outputs": [],
   "source": []
  },
  {
   "cell_type": "markdown",
   "id": "e75729bf-1412-482a-90ad-83d305f46a36",
   "metadata": {},
   "source": [
    "## Random Forest"
   ]
  },
  {
   "cell_type": "code",
   "execution_count": 35,
   "id": "b7bb7ca4-f6ba-4579-b871-5aa3878680c6",
   "metadata": {},
   "outputs": [],
   "source": [
    "from sklearn.ensemble import RandomForestClassifier"
   ]
  },
  {
   "cell_type": "code",
   "execution_count": 36,
   "id": "f28916f8-3b83-4be6-9a16-a9de4b47fc3d",
   "metadata": {},
   "outputs": [],
   "source": [
    "model = RandomForestClassifier(n_estimators = 10).fit(X_train,y_train)"
   ]
  },
  {
   "cell_type": "code",
   "execution_count": 37,
   "id": "546fe614-aaf4-4baa-b71d-dc51f746fb73",
   "metadata": {},
   "outputs": [
    {
     "name": "stdout",
     "output_type": "stream",
     "text": [
      "Random Forest Model score: 99.94499256814484%\n"
     ]
    }
   ],
   "source": [
    "print('Random Forest Model score: {}%'.format(model.score(X_test,y_test) * 100))"
   ]
  },
  {
   "cell_type": "markdown",
   "id": "01a3f669-e66a-4220-8652-fe1274678fc3",
   "metadata": {},
   "source": [
    "## Grid Search CV used alongised SVM"
   ]
  },
  {
   "cell_type": "markdown",
   "id": "7733e689-f89f-408e-9fc6-34cfa7bb1853",
   "metadata": {},
   "source": [
    "Exhaustive search over specified parameter values for an estimator."
   ]
  },
  {
   "cell_type": "code",
   "execution_count": 38,
   "id": "08aad515-10e6-463a-9d09-1d5811e90e4b",
   "metadata": {},
   "outputs": [
    {
     "data": {
      "application/javascript": [
       "\n",
       "        if (window._pyforest_update_imports_cell) { window._pyforest_update_imports_cell('from sklearn.model_selection import train_test_split\\nimport numpy as np\\nimport seaborn as sns\\nimport pandas as pd\\nimport matplotlib.pyplot as plt'); }\n",
       "    "
      ],
      "text/plain": [
       "<IPython.core.display.Javascript object>"
      ]
     },
     "metadata": {},
     "output_type": "display_data"
    }
   ],
   "source": [
    "from sklearn import svm\n",
    "from sklearn import preprocessing\n",
    "\n",
    "\n",
    "X = data.drop('Class', axis = 1)\n",
    "y = data['Class']\n",
    "\n",
    "X = preprocessing.scale(X) \n",
    "\n",
    "\n",
    "X_train,X_test,y_train,y_test = train_test_split(X,y,test_size = 0.3, random_state = 1)\n",
    "\n",
    "parameters = { 'C': [1],  \n",
    "   'gamma': [0.1], \n",
    "     }"
   ]
  },
  {
   "cell_type": "code",
   "execution_count": null,
   "id": "afea1ca5-34cd-497f-8706-f85c508f68d5",
   "metadata": {},
   "outputs": [
    {
     "data": {
      "application/javascript": [
       "\n",
       "        if (window._pyforest_update_imports_cell) { window._pyforest_update_imports_cell('from sklearn.model_selection import train_test_split\\nfrom sklearn.model_selection import GridSearchCV\\nimport numpy as np\\nimport seaborn as sns\\nimport pandas as pd\\nimport matplotlib.pyplot as plt'); }\n",
       "    "
      ],
      "text/plain": [
       "<IPython.core.display.Javascript object>"
      ]
     },
     "metadata": {},
     "output_type": "display_data"
    },
    {
     "name": "stdout",
     "output_type": "stream",
     "text": [
      "Fitting 3 folds for each of 2 candidates, totalling 6 fits\n"
     ]
    }
   ],
   "source": [
    "model1 = svm.SVC(kernel = 'rbf')\n",
    "model2 = GridSearchCV(model1, cv = 3, param_grid = parameters, verbose = 5, n_jobs = -1)\n",
    "model2.fit(X_train,y_train) #it takes very long"
   ]
  },
  {
   "cell_type": "code",
   "execution_count": null,
   "id": "b10dddae-f50c-43ec-a4f8-2a016742f5b2",
   "metadata": {},
   "outputs": [],
   "source": []
  },
  {
   "cell_type": "code",
   "execution_count": null,
   "id": "d34799f3-e1ac-4ec7-bfce-9d36e687a857",
   "metadata": {},
   "outputs": [],
   "source": []
  },
  {
   "cell_type": "code",
   "execution_count": null,
   "id": "ee13505e-cf9c-4687-b783-8325c8d8cc1d",
   "metadata": {},
   "outputs": [],
   "source": []
  },
  {
   "cell_type": "code",
   "execution_count": null,
   "id": "330eb59b-630c-4e0a-8a97-883161894c13",
   "metadata": {},
   "outputs": [],
   "source": []
  },
  {
   "cell_type": "code",
   "execution_count": null,
   "id": "1a62539c-2d7e-44a5-833f-d293fb585410",
   "metadata": {},
   "outputs": [],
   "source": []
  },
  {
   "cell_type": "code",
   "execution_count": null,
   "id": "6d5919de-0e3b-4e1a-aff7-8950bbffec02",
   "metadata": {},
   "outputs": [],
   "source": []
  },
  {
   "cell_type": "code",
   "execution_count": null,
   "id": "43a1c5b6-0200-4698-b1b4-f7622341d015",
   "metadata": {},
   "outputs": [],
   "source": []
  },
  {
   "cell_type": "code",
   "execution_count": null,
   "id": "863a2a1f-f8f6-4d67-9901-3137c8e200a8",
   "metadata": {},
   "outputs": [],
   "source": []
  },
  {
   "cell_type": "code",
   "execution_count": null,
   "id": "4417351d-4423-4772-842b-376932952f36",
   "metadata": {},
   "outputs": [],
   "source": []
  },
  {
   "cell_type": "code",
   "execution_count": null,
   "id": "be648e5e-470c-46a2-89b3-2b19cbe1fc44",
   "metadata": {},
   "outputs": [],
   "source": []
  },
  {
   "cell_type": "code",
   "execution_count": null,
   "id": "e14a3766-ffde-4538-9497-e093a67fd583",
   "metadata": {},
   "outputs": [],
   "source": []
  },
  {
   "cell_type": "code",
   "execution_count": null,
   "id": "569d2fcf-6e5d-4ca4-9368-8911a7558e52",
   "metadata": {},
   "outputs": [],
   "source": []
  },
  {
   "cell_type": "code",
   "execution_count": null,
   "id": "c03b49c8-7388-415a-bfac-3d15347ad58e",
   "metadata": {},
   "outputs": [],
   "source": []
  },
  {
   "cell_type": "code",
   "execution_count": null,
   "id": "15f4b655-b6a1-402a-9917-e157fbb1bf5a",
   "metadata": {},
   "outputs": [],
   "source": []
  },
  {
   "cell_type": "code",
   "execution_count": null,
   "id": "2625df87-4d4e-469e-b923-3982299fb770",
   "metadata": {},
   "outputs": [],
   "source": []
  },
  {
   "cell_type": "code",
   "execution_count": null,
   "id": "666d9d74-92bb-4b3f-ae96-84e6be666e5c",
   "metadata": {},
   "outputs": [],
   "source": []
  },
  {
   "cell_type": "code",
   "execution_count": null,
   "id": "e4cbcefb-af5c-4452-9ee7-7bc91b6f9b70",
   "metadata": {},
   "outputs": [],
   "source": []
  },
  {
   "cell_type": "code",
   "execution_count": null,
   "id": "ae297ab6-b2b1-40bd-b287-bbf5c2535cde",
   "metadata": {},
   "outputs": [],
   "source": []
  },
  {
   "cell_type": "code",
   "execution_count": null,
   "id": "d2f82c80-8e71-4f43-a2e3-5b0bcfde7f78",
   "metadata": {},
   "outputs": [],
   "source": []
  },
  {
   "cell_type": "code",
   "execution_count": null,
   "id": "8a5e0502-3bfd-4f28-b5a1-39458e336369",
   "metadata": {},
   "outputs": [],
   "source": []
  },
  {
   "cell_type": "code",
   "execution_count": null,
   "id": "0b158553-f9b1-442f-840b-75d32e26c5d9",
   "metadata": {},
   "outputs": [],
   "source": []
  },
  {
   "cell_type": "code",
   "execution_count": null,
   "id": "62beeb73-469e-4b35-9751-4d987af12452",
   "metadata": {},
   "outputs": [],
   "source": []
  },
  {
   "cell_type": "code",
   "execution_count": null,
   "id": "06e8634f-76c2-44b8-8dfc-a9056ec8c904",
   "metadata": {},
   "outputs": [],
   "source": []
  },
  {
   "cell_type": "code",
   "execution_count": null,
   "id": "bb4a1079-b1a8-4943-bbe3-f705b38c5d65",
   "metadata": {},
   "outputs": [],
   "source": []
  },
  {
   "cell_type": "code",
   "execution_count": null,
   "id": "f9cd82f7-1d0c-42c5-8dce-40f029757e62",
   "metadata": {},
   "outputs": [],
   "source": []
  },
  {
   "cell_type": "code",
   "execution_count": null,
   "id": "5e725291-548d-4d6e-94b4-ecf70e3e83c1",
   "metadata": {},
   "outputs": [],
   "source": []
  },
  {
   "cell_type": "code",
   "execution_count": null,
   "id": "438d98ea-0292-4743-9274-dd58b570efa8",
   "metadata": {},
   "outputs": [],
   "source": []
  },
  {
   "cell_type": "code",
   "execution_count": null,
   "id": "ff396bf2-2101-47e2-b422-2e2e744c22a4",
   "metadata": {},
   "outputs": [],
   "source": []
  },
  {
   "cell_type": "code",
   "execution_count": null,
   "id": "78c646c5-a5b7-46f7-8b21-0a3cf06d43d7",
   "metadata": {},
   "outputs": [],
   "source": []
  },
  {
   "cell_type": "code",
   "execution_count": null,
   "id": "0ebe17de-ce64-4e03-b550-580aa4eeb6c2",
   "metadata": {},
   "outputs": [],
   "source": []
  },
  {
   "cell_type": "code",
   "execution_count": null,
   "id": "a81deccf-3d25-4b72-b6ad-ea043ef7d0a9",
   "metadata": {},
   "outputs": [],
   "source": []
  },
  {
   "cell_type": "code",
   "execution_count": null,
   "id": "e54308bb-44df-4437-84e0-4ff0f358c579",
   "metadata": {},
   "outputs": [],
   "source": []
  },
  {
   "cell_type": "code",
   "execution_count": null,
   "id": "3432b8ff-1555-41c2-8a08-c3e6b3f3b8e7",
   "metadata": {},
   "outputs": [],
   "source": []
  },
  {
   "cell_type": "code",
   "execution_count": null,
   "id": "989fa297-1217-427e-8353-c4cd0f6a9346",
   "metadata": {},
   "outputs": [],
   "source": []
  },
  {
   "cell_type": "code",
   "execution_count": null,
   "id": "1d214db3-d603-4b85-8bfa-16dbfea3757c",
   "metadata": {},
   "outputs": [],
   "source": []
  },
  {
   "cell_type": "code",
   "execution_count": null,
   "id": "38dba5e2-65d2-4934-9f31-2c5d307bf185",
   "metadata": {},
   "outputs": [],
   "source": []
  },
  {
   "cell_type": "code",
   "execution_count": null,
   "id": "386a00fc-c83d-4406-91cf-d7e437d5fe03",
   "metadata": {},
   "outputs": [],
   "source": []
  },
  {
   "cell_type": "code",
   "execution_count": null,
   "id": "46486480-4bac-4c6b-8c92-93fa4985e727",
   "metadata": {},
   "outputs": [],
   "source": []
  },
  {
   "cell_type": "code",
   "execution_count": null,
   "id": "eb9150de-3335-47ec-ac87-b3f5f190a916",
   "metadata": {},
   "outputs": [],
   "source": []
  },
  {
   "cell_type": "code",
   "execution_count": null,
   "id": "4e23a87b-1937-4032-86f4-cf087cb3883d",
   "metadata": {},
   "outputs": [],
   "source": []
  },
  {
   "cell_type": "code",
   "execution_count": null,
   "id": "0bde2b56-274b-4d63-ad85-b4b5c2b59065",
   "metadata": {},
   "outputs": [],
   "source": []
  },
  {
   "cell_type": "code",
   "execution_count": null,
   "id": "34fb790c-d50e-4d0b-8934-3ae83bf4ef29",
   "metadata": {},
   "outputs": [],
   "source": []
  },
  {
   "cell_type": "code",
   "execution_count": null,
   "id": "e9190e8e-b546-4c4c-9c4c-cc6496006b03",
   "metadata": {},
   "outputs": [],
   "source": []
  },
  {
   "cell_type": "code",
   "execution_count": null,
   "id": "5114a152-04fa-4688-8d8c-8f833062a13c",
   "metadata": {},
   "outputs": [],
   "source": []
  },
  {
   "cell_type": "code",
   "execution_count": null,
   "id": "d2f9a591-9fdd-4589-b9a4-8119b45724fe",
   "metadata": {},
   "outputs": [],
   "source": []
  },
  {
   "cell_type": "code",
   "execution_count": null,
   "id": "5da28060-efef-4379-b585-1845bc8dbc73",
   "metadata": {},
   "outputs": [],
   "source": []
  },
  {
   "cell_type": "code",
   "execution_count": null,
   "id": "f55aac09-c4ff-4129-a277-256b07b51915",
   "metadata": {},
   "outputs": [],
   "source": []
  },
  {
   "cell_type": "code",
   "execution_count": null,
   "id": "76ef873b-1d6f-4d89-9d81-d34b9c302175",
   "metadata": {},
   "outputs": [],
   "source": []
  },
  {
   "cell_type": "code",
   "execution_count": null,
   "id": "e6c29ebe-3963-47c4-a8bc-8a9a6a11fbf1",
   "metadata": {},
   "outputs": [],
   "source": []
  },
  {
   "cell_type": "code",
   "execution_count": null,
   "id": "4a254ae6-8137-4dda-ae20-28cc0030bce0",
   "metadata": {},
   "outputs": [],
   "source": []
  },
  {
   "cell_type": "code",
   "execution_count": null,
   "id": "9d4fd1b6-de2a-4bad-b46c-2bb029672d89",
   "metadata": {},
   "outputs": [],
   "source": []
  },
  {
   "cell_type": "code",
   "execution_count": null,
   "id": "39c6c6af-6681-42be-a898-be14f1ead640",
   "metadata": {},
   "outputs": [],
   "source": []
  },
  {
   "cell_type": "code",
   "execution_count": null,
   "id": "e50c8a31-0f36-47b8-bfcb-a81b8824bd98",
   "metadata": {},
   "outputs": [],
   "source": []
  },
  {
   "cell_type": "code",
   "execution_count": null,
   "id": "a6b21edb-24b1-4e42-ad23-767738c41f78",
   "metadata": {},
   "outputs": [],
   "source": []
  },
  {
   "cell_type": "code",
   "execution_count": null,
   "id": "856c021e-432a-4aac-bea0-762b72ec3de0",
   "metadata": {},
   "outputs": [],
   "source": []
  },
  {
   "cell_type": "code",
   "execution_count": null,
   "id": "43cc72c3-8484-4664-8f5c-1e5f7aedc911",
   "metadata": {},
   "outputs": [],
   "source": []
  },
  {
   "cell_type": "code",
   "execution_count": null,
   "id": "7c6a5085-43b2-4e63-bc30-ef9d5059cc30",
   "metadata": {},
   "outputs": [],
   "source": []
  },
  {
   "cell_type": "code",
   "execution_count": null,
   "id": "1d76736b-403b-491e-903c-44f0a00cf303",
   "metadata": {},
   "outputs": [],
   "source": []
  },
  {
   "cell_type": "code",
   "execution_count": null,
   "id": "fb9b8832-1059-4abc-bd37-a8bf4de2cff6",
   "metadata": {},
   "outputs": [],
   "source": []
  },
  {
   "cell_type": "code",
   "execution_count": null,
   "id": "2c665213-e1a9-489a-b5b2-91e715dd4704",
   "metadata": {},
   "outputs": [],
   "source": []
  },
  {
   "cell_type": "code",
   "execution_count": null,
   "id": "bd123ca0-91be-4723-8e56-bdbaf02f359c",
   "metadata": {},
   "outputs": [],
   "source": []
  },
  {
   "cell_type": "code",
   "execution_count": null,
   "id": "0a290bd9-2211-4845-8518-7f364cb5be9b",
   "metadata": {},
   "outputs": [],
   "source": []
  },
  {
   "cell_type": "code",
   "execution_count": null,
   "id": "0c20a784-276b-41a1-b10d-14403b493b4b",
   "metadata": {},
   "outputs": [],
   "source": []
  },
  {
   "cell_type": "code",
   "execution_count": null,
   "id": "4812b5a4-8716-4384-aeca-66819f7b7625",
   "metadata": {},
   "outputs": [],
   "source": []
  },
  {
   "cell_type": "code",
   "execution_count": null,
   "id": "86bd191b-85ba-4a18-bce3-fc10819a5e15",
   "metadata": {},
   "outputs": [],
   "source": []
  },
  {
   "cell_type": "code",
   "execution_count": null,
   "id": "7304925f-2d9d-424c-8af4-939c4866fb7f",
   "metadata": {},
   "outputs": [],
   "source": []
  },
  {
   "cell_type": "code",
   "execution_count": null,
   "id": "064af2d5-8776-444d-ba12-34e288ca9c93",
   "metadata": {},
   "outputs": [],
   "source": []
  },
  {
   "cell_type": "code",
   "execution_count": null,
   "id": "bc2ef349-c4f4-4723-81d8-c3cfac9d1be1",
   "metadata": {},
   "outputs": [],
   "source": []
  },
  {
   "cell_type": "code",
   "execution_count": null,
   "id": "8b2c334b-2302-4360-84b5-dc0dd895cc18",
   "metadata": {},
   "outputs": [],
   "source": []
  },
  {
   "cell_type": "code",
   "execution_count": null,
   "id": "24255526-adc1-4c59-b5e0-114d7c98ded0",
   "metadata": {},
   "outputs": [],
   "source": []
  },
  {
   "cell_type": "code",
   "execution_count": null,
   "id": "6c29ea54-7426-4797-9268-53a44ef9f5e8",
   "metadata": {},
   "outputs": [],
   "source": []
  },
  {
   "cell_type": "code",
   "execution_count": null,
   "id": "8658f10b-3a62-4a36-b4a9-219f846ef49a",
   "metadata": {},
   "outputs": [],
   "source": []
  },
  {
   "cell_type": "code",
   "execution_count": null,
   "id": "e4f56861-09c7-42e1-9778-52531f28873b",
   "metadata": {},
   "outputs": [],
   "source": []
  }
 ],
 "metadata": {
  "kernelspec": {
   "display_name": "Python 3",
   "language": "python",
   "name": "python3"
  },
  "language_info": {
   "codemirror_mode": {
    "name": "ipython",
    "version": 3
   },
   "file_extension": ".py",
   "mimetype": "text/x-python",
   "name": "python",
   "nbconvert_exporter": "python",
   "pygments_lexer": "ipython3",
   "version": "3.8.8"
  }
 },
 "nbformat": 4,
 "nbformat_minor": 5
}
