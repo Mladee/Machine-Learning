{
 "cells": [
  {
   "cell_type": "markdown",
   "id": "2a781701-a96e-45ee-afc2-b7d93f9961db",
   "metadata": {},
   "source": [
    "## Exploratory Data Analysis"
   ]
  },
  {
   "cell_type": "code",
   "execution_count": 1,
   "id": "3e9a8b4d-eed7-4747-8bc2-dd28c976be61",
   "metadata": {},
   "outputs": [],
   "source": [
    "from pyforest import *\n",
    "from catboost.datasets import amazon\n",
    "\n",
    "traindf, testdf = amazon()"
   ]
  },
  {
   "cell_type": "code",
   "execution_count": 2,
   "id": "c7d7337f-6a56-44fe-9c52-09dbc51b70ec",
   "metadata": {},
   "outputs": [
    {
     "data": {
      "text/html": [
       "<div>\n",
       "<style scoped>\n",
       "    .dataframe tbody tr th:only-of-type {\n",
       "        vertical-align: middle;\n",
       "    }\n",
       "\n",
       "    .dataframe tbody tr th {\n",
       "        vertical-align: top;\n",
       "    }\n",
       "\n",
       "    .dataframe thead th {\n",
       "        text-align: right;\n",
       "    }\n",
       "</style>\n",
       "<table border=\"1\" class=\"dataframe\">\n",
       "  <thead>\n",
       "    <tr style=\"text-align: right;\">\n",
       "      <th></th>\n",
       "      <th>ACTION</th>\n",
       "      <th>RESOURCE</th>\n",
       "      <th>MGR_ID</th>\n",
       "      <th>ROLE_ROLLUP_1</th>\n",
       "      <th>ROLE_ROLLUP_2</th>\n",
       "      <th>ROLE_DEPTNAME</th>\n",
       "      <th>ROLE_TITLE</th>\n",
       "      <th>ROLE_FAMILY_DESC</th>\n",
       "      <th>ROLE_FAMILY</th>\n",
       "      <th>ROLE_CODE</th>\n",
       "    </tr>\n",
       "  </thead>\n",
       "  <tbody>\n",
       "    <tr>\n",
       "      <th>0</th>\n",
       "      <td>1</td>\n",
       "      <td>39353</td>\n",
       "      <td>85475</td>\n",
       "      <td>117961</td>\n",
       "      <td>118300</td>\n",
       "      <td>123472</td>\n",
       "      <td>117905</td>\n",
       "      <td>117906</td>\n",
       "      <td>290919</td>\n",
       "      <td>117908</td>\n",
       "    </tr>\n",
       "    <tr>\n",
       "      <th>1</th>\n",
       "      <td>1</td>\n",
       "      <td>17183</td>\n",
       "      <td>1540</td>\n",
       "      <td>117961</td>\n",
       "      <td>118343</td>\n",
       "      <td>123125</td>\n",
       "      <td>118536</td>\n",
       "      <td>118536</td>\n",
       "      <td>308574</td>\n",
       "      <td>118539</td>\n",
       "    </tr>\n",
       "    <tr>\n",
       "      <th>2</th>\n",
       "      <td>1</td>\n",
       "      <td>36724</td>\n",
       "      <td>14457</td>\n",
       "      <td>118219</td>\n",
       "      <td>118220</td>\n",
       "      <td>117884</td>\n",
       "      <td>117879</td>\n",
       "      <td>267952</td>\n",
       "      <td>19721</td>\n",
       "      <td>117880</td>\n",
       "    </tr>\n",
       "    <tr>\n",
       "      <th>3</th>\n",
       "      <td>1</td>\n",
       "      <td>36135</td>\n",
       "      <td>5396</td>\n",
       "      <td>117961</td>\n",
       "      <td>118343</td>\n",
       "      <td>119993</td>\n",
       "      <td>118321</td>\n",
       "      <td>240983</td>\n",
       "      <td>290919</td>\n",
       "      <td>118322</td>\n",
       "    </tr>\n",
       "    <tr>\n",
       "      <th>4</th>\n",
       "      <td>1</td>\n",
       "      <td>42680</td>\n",
       "      <td>5905</td>\n",
       "      <td>117929</td>\n",
       "      <td>117930</td>\n",
       "      <td>119569</td>\n",
       "      <td>119323</td>\n",
       "      <td>123932</td>\n",
       "      <td>19793</td>\n",
       "      <td>119325</td>\n",
       "    </tr>\n",
       "  </tbody>\n",
       "</table>\n",
       "</div>"
      ],
      "text/plain": [
       "   ACTION  RESOURCE  MGR_ID  ROLE_ROLLUP_1  ROLE_ROLLUP_2  ROLE_DEPTNAME  \\\n",
       "0       1     39353   85475         117961         118300         123472   \n",
       "1       1     17183    1540         117961         118343         123125   \n",
       "2       1     36724   14457         118219         118220         117884   \n",
       "3       1     36135    5396         117961         118343         119993   \n",
       "4       1     42680    5905         117929         117930         119569   \n",
       "\n",
       "   ROLE_TITLE  ROLE_FAMILY_DESC  ROLE_FAMILY  ROLE_CODE  \n",
       "0      117905            117906       290919     117908  \n",
       "1      118536            118536       308574     118539  \n",
       "2      117879            267952        19721     117880  \n",
       "3      118321            240983       290919     118322  \n",
       "4      119323            123932        19793     119325  "
      ]
     },
     "execution_count": 2,
     "metadata": {},
     "output_type": "execute_result"
    }
   ],
   "source": [
    "traindf.head()"
   ]
  },
  {
   "cell_type": "code",
   "execution_count": 3,
   "id": "ed7d0cea-19a8-4911-84f3-cef4b73806cf",
   "metadata": {},
   "outputs": [
    {
     "data": {
      "text/html": [
       "<div>\n",
       "<style scoped>\n",
       "    .dataframe tbody tr th:only-of-type {\n",
       "        vertical-align: middle;\n",
       "    }\n",
       "\n",
       "    .dataframe tbody tr th {\n",
       "        vertical-align: top;\n",
       "    }\n",
       "\n",
       "    .dataframe thead th {\n",
       "        text-align: right;\n",
       "    }\n",
       "</style>\n",
       "<table border=\"1\" class=\"dataframe\">\n",
       "  <thead>\n",
       "    <tr style=\"text-align: right;\">\n",
       "      <th></th>\n",
       "      <th>id</th>\n",
       "      <th>RESOURCE</th>\n",
       "      <th>MGR_ID</th>\n",
       "      <th>ROLE_ROLLUP_1</th>\n",
       "      <th>ROLE_ROLLUP_2</th>\n",
       "      <th>ROLE_DEPTNAME</th>\n",
       "      <th>ROLE_TITLE</th>\n",
       "      <th>ROLE_FAMILY_DESC</th>\n",
       "      <th>ROLE_FAMILY</th>\n",
       "      <th>ROLE_CODE</th>\n",
       "    </tr>\n",
       "  </thead>\n",
       "  <tbody>\n",
       "    <tr>\n",
       "      <th>0</th>\n",
       "      <td>1</td>\n",
       "      <td>78766</td>\n",
       "      <td>72734</td>\n",
       "      <td>118079</td>\n",
       "      <td>118080</td>\n",
       "      <td>117878</td>\n",
       "      <td>117879</td>\n",
       "      <td>118177</td>\n",
       "      <td>19721</td>\n",
       "      <td>117880</td>\n",
       "    </tr>\n",
       "    <tr>\n",
       "      <th>1</th>\n",
       "      <td>2</td>\n",
       "      <td>40644</td>\n",
       "      <td>4378</td>\n",
       "      <td>117961</td>\n",
       "      <td>118327</td>\n",
       "      <td>118507</td>\n",
       "      <td>118863</td>\n",
       "      <td>122008</td>\n",
       "      <td>118398</td>\n",
       "      <td>118865</td>\n",
       "    </tr>\n",
       "    <tr>\n",
       "      <th>2</th>\n",
       "      <td>3</td>\n",
       "      <td>75443</td>\n",
       "      <td>2395</td>\n",
       "      <td>117961</td>\n",
       "      <td>118300</td>\n",
       "      <td>119488</td>\n",
       "      <td>118172</td>\n",
       "      <td>301534</td>\n",
       "      <td>249618</td>\n",
       "      <td>118175</td>\n",
       "    </tr>\n",
       "    <tr>\n",
       "      <th>3</th>\n",
       "      <td>4</td>\n",
       "      <td>43219</td>\n",
       "      <td>19986</td>\n",
       "      <td>117961</td>\n",
       "      <td>118225</td>\n",
       "      <td>118403</td>\n",
       "      <td>120773</td>\n",
       "      <td>136187</td>\n",
       "      <td>118960</td>\n",
       "      <td>120774</td>\n",
       "    </tr>\n",
       "    <tr>\n",
       "      <th>4</th>\n",
       "      <td>5</td>\n",
       "      <td>42093</td>\n",
       "      <td>50015</td>\n",
       "      <td>117961</td>\n",
       "      <td>118343</td>\n",
       "      <td>119598</td>\n",
       "      <td>118422</td>\n",
       "      <td>300136</td>\n",
       "      <td>118424</td>\n",
       "      <td>118425</td>\n",
       "    </tr>\n",
       "  </tbody>\n",
       "</table>\n",
       "</div>"
      ],
      "text/plain": [
       "   id  RESOURCE  MGR_ID  ROLE_ROLLUP_1  ROLE_ROLLUP_2  ROLE_DEPTNAME  \\\n",
       "0   1     78766   72734         118079         118080         117878   \n",
       "1   2     40644    4378         117961         118327         118507   \n",
       "2   3     75443    2395         117961         118300         119488   \n",
       "3   4     43219   19986         117961         118225         118403   \n",
       "4   5     42093   50015         117961         118343         119598   \n",
       "\n",
       "   ROLE_TITLE  ROLE_FAMILY_DESC  ROLE_FAMILY  ROLE_CODE  \n",
       "0      117879            118177        19721     117880  \n",
       "1      118863            122008       118398     118865  \n",
       "2      118172            301534       249618     118175  \n",
       "3      120773            136187       118960     120774  \n",
       "4      118422            300136       118424     118425  "
      ]
     },
     "execution_count": 3,
     "metadata": {},
     "output_type": "execute_result"
    }
   ],
   "source": [
    "testdf.head()"
   ]
  },
  {
   "cell_type": "code",
   "execution_count": 4,
   "id": "bdc21a13-2422-44b2-944e-c88a217a0257",
   "metadata": {},
   "outputs": [
    {
     "data": {
      "text/plain": [
       "ACTION              0\n",
       "RESOURCE            0\n",
       "MGR_ID              0\n",
       "ROLE_ROLLUP_1       0\n",
       "ROLE_ROLLUP_2       0\n",
       "ROLE_DEPTNAME       0\n",
       "ROLE_TITLE          0\n",
       "ROLE_FAMILY_DESC    0\n",
       "ROLE_FAMILY         0\n",
       "ROLE_CODE           0\n",
       "dtype: int64"
      ]
     },
     "execution_count": 4,
     "metadata": {},
     "output_type": "execute_result"
    }
   ],
   "source": [
    "traindf.isnull().sum()"
   ]
  },
  {
   "cell_type": "code",
   "execution_count": 5,
   "id": "aab49329-863b-4131-ace8-9b2235ee9de6",
   "metadata": {},
   "outputs": [
    {
     "data": {
      "text/plain": [
       "id                  0\n",
       "RESOURCE            0\n",
       "MGR_ID              0\n",
       "ROLE_ROLLUP_1       0\n",
       "ROLE_ROLLUP_2       0\n",
       "ROLE_DEPTNAME       0\n",
       "ROLE_TITLE          0\n",
       "ROLE_FAMILY_DESC    0\n",
       "ROLE_FAMILY         0\n",
       "ROLE_CODE           0\n",
       "dtype: int64"
      ]
     },
     "execution_count": 5,
     "metadata": {},
     "output_type": "execute_result"
    }
   ],
   "source": [
    "testdf.isnull().sum()"
   ]
  },
  {
   "cell_type": "markdown",
   "id": "d624743f-7d1e-4f0f-814c-f635bc173592",
   "metadata": {},
   "source": [
    "#### Distplot"
   ]
  },
  {
   "cell_type": "code",
   "execution_count": 6,
   "id": "6be28c31-c021-4e88-b413-e0e39f805762",
   "metadata": {},
   "outputs": [],
   "source": [
    "import warnings\n",
    "warnings.filterwarnings('ignore')"
   ]
  },
  {
   "cell_type": "code",
   "execution_count": 7,
   "id": "636d1ac5-78ae-49c9-ac1f-1d0002a1d5b3",
   "metadata": {},
   "outputs": [
    {
     "data": {
      "application/javascript": [
       "\n",
       "        if (window._pyforest_update_imports_cell) { window._pyforest_update_imports_cell('import matplotlib.pyplot as plt'); }\n",
       "    "
      ],
      "text/plain": [
       "<IPython.core.display.Javascript object>"
      ]
     },
     "metadata": {},
     "output_type": "display_data"
    },
    {
     "data": {
      "application/javascript": [
       "\n",
       "        if (window._pyforest_update_imports_cell) { window._pyforest_update_imports_cell('import matplotlib.pyplot as plt\\nimport seaborn as sns'); }\n",
       "    "
      ],
      "text/plain": [
       "<IPython.core.display.Javascript object>"
      ]
     },
     "metadata": {},
     "output_type": "display_data"
    },
    {
     "data": {
      "application/javascript": [
       "\n",
       "        if (window._pyforest_update_imports_cell) { window._pyforest_update_imports_cell('import matplotlib.pyplot as plt\\nimport seaborn as sns'); }\n",
       "    "
      ],
      "text/plain": [
       "<IPython.core.display.Javascript object>"
      ]
     },
     "metadata": {},
     "output_type": "display_data"
    },
    {
     "data": {
      "application/javascript": [
       "\n",
       "        if (window._pyforest_update_imports_cell) { window._pyforest_update_imports_cell('import matplotlib.pyplot as plt\\nimport seaborn as sns'); }\n",
       "    "
      ],
      "text/plain": [
       "<IPython.core.display.Javascript object>"
      ]
     },
     "metadata": {},
     "output_type": "display_data"
    },
    {
     "data": {
      "application/javascript": [
       "\n",
       "        if (window._pyforest_update_imports_cell) { window._pyforest_update_imports_cell('import matplotlib.pyplot as plt\\nimport seaborn as sns'); }\n",
       "    "
      ],
      "text/plain": [
       "<IPython.core.display.Javascript object>"
      ]
     },
     "metadata": {},
     "output_type": "display_data"
    },
    {
     "data": {
      "application/javascript": [
       "\n",
       "        if (window._pyforest_update_imports_cell) { window._pyforest_update_imports_cell('import matplotlib.pyplot as plt\\nimport seaborn as sns'); }\n",
       "    "
      ],
      "text/plain": [
       "<IPython.core.display.Javascript object>"
      ]
     },
     "metadata": {},
     "output_type": "display_data"
    },
    {
     "data": {
      "application/javascript": [
       "\n",
       "        if (window._pyforest_update_imports_cell) { window._pyforest_update_imports_cell('import matplotlib.pyplot as plt\\nimport seaborn as sns'); }\n",
       "    "
      ],
      "text/plain": [
       "<IPython.core.display.Javascript object>"
      ]
     },
     "metadata": {},
     "output_type": "display_data"
    },
    {
     "data": {
      "application/javascript": [
       "\n",
       "        if (window._pyforest_update_imports_cell) { window._pyforest_update_imports_cell('import matplotlib.pyplot as plt\\nimport seaborn as sns'); }\n",
       "    "
      ],
      "text/plain": [
       "<IPython.core.display.Javascript object>"
      ]
     },
     "metadata": {},
     "output_type": "display_data"
    },
    {
     "data": {
      "application/javascript": [
       "\n",
       "        if (window._pyforest_update_imports_cell) { window._pyforest_update_imports_cell('import matplotlib.pyplot as plt\\nimport seaborn as sns'); }\n",
       "    "
      ],
      "text/plain": [
       "<IPython.core.display.Javascript object>"
      ]
     },
     "metadata": {},
     "output_type": "display_data"
    },
    {
     "data": {
      "application/javascript": [
       "\n",
       "        if (window._pyforest_update_imports_cell) { window._pyforest_update_imports_cell('import matplotlib.pyplot as plt\\nimport seaborn as sns'); }\n",
       "    "
      ],
      "text/plain": [
       "<IPython.core.display.Javascript object>"
      ]
     },
     "metadata": {},
     "output_type": "display_data"
    },
    {
     "data": {
      "application/javascript": [
       "\n",
       "        if (window._pyforest_update_imports_cell) { window._pyforest_update_imports_cell('import matplotlib.pyplot as plt\\nimport seaborn as sns'); }\n",
       "    "
      ],
      "text/plain": [
       "<IPython.core.display.Javascript object>"
      ]
     },
     "metadata": {},
     "output_type": "display_data"
    },
    {
     "data": {
      "application/javascript": [
       "\n",
       "        if (window._pyforest_update_imports_cell) { window._pyforest_update_imports_cell('import matplotlib.pyplot as plt\\nimport seaborn as sns'); }\n",
       "    "
      ],
      "text/plain": [
       "<IPython.core.display.Javascript object>"
      ]
     },
     "metadata": {},
     "output_type": "display_data"
    },
    {
     "data": {
      "application/javascript": [
       "\n",
       "        if (window._pyforest_update_imports_cell) { window._pyforest_update_imports_cell('import matplotlib.pyplot as plt\\nimport seaborn as sns'); }\n",
       "    "
      ],
      "text/plain": [
       "<IPython.core.display.Javascript object>"
      ]
     },
     "metadata": {},
     "output_type": "display_data"
    },
    {
     "data": {
      "application/javascript": [
       "\n",
       "        if (window._pyforest_update_imports_cell) { window._pyforest_update_imports_cell('import matplotlib.pyplot as plt\\nimport seaborn as sns'); }\n",
       "    "
      ],
      "text/plain": [
       "<IPython.core.display.Javascript object>"
      ]
     },
     "metadata": {},
     "output_type": "display_data"
    },
    {
     "data": {
      "application/javascript": [
       "\n",
       "        if (window._pyforest_update_imports_cell) { window._pyforest_update_imports_cell('import matplotlib.pyplot as plt\\nimport seaborn as sns'); }\n",
       "    "
      ],
      "text/plain": [
       "<IPython.core.display.Javascript object>"
      ]
     },
     "metadata": {},
     "output_type": "display_data"
    },
    {
     "data": {
      "application/javascript": [
       "\n",
       "        if (window._pyforest_update_imports_cell) { window._pyforest_update_imports_cell('import matplotlib.pyplot as plt\\nimport seaborn as sns'); }\n",
       "    "
      ],
      "text/plain": [
       "<IPython.core.display.Javascript object>"
      ]
     },
     "metadata": {},
     "output_type": "display_data"
    },
    {
     "data": {
      "application/javascript": [
       "\n",
       "        if (window._pyforest_update_imports_cell) { window._pyforest_update_imports_cell('import matplotlib.pyplot as plt\\nimport seaborn as sns'); }\n",
       "    "
      ],
      "text/plain": [
       "<IPython.core.display.Javascript object>"
      ]
     },
     "metadata": {},
     "output_type": "display_data"
    },
    {
     "data": {
      "application/javascript": [
       "\n",
       "        if (window._pyforest_update_imports_cell) { window._pyforest_update_imports_cell('import matplotlib.pyplot as plt\\nimport seaborn as sns'); }\n",
       "    "
      ],
      "text/plain": [
       "<IPython.core.display.Javascript object>"
      ]
     },
     "metadata": {},
     "output_type": "display_data"
    },
    {
     "data": {
      "application/javascript": [
       "\n",
       "        if (window._pyforest_update_imports_cell) { window._pyforest_update_imports_cell('import matplotlib.pyplot as plt\\nimport seaborn as sns'); }\n",
       "    "
      ],
      "text/plain": [
       "<IPython.core.display.Javascript object>"
      ]
     },
     "metadata": {},
     "output_type": "display_data"
    },
    {
     "data": {
      "application/javascript": [
       "\n",
       "        if (window._pyforest_update_imports_cell) { window._pyforest_update_imports_cell('import matplotlib.pyplot as plt\\nimport seaborn as sns'); }\n",
       "    "
      ],
      "text/plain": [
       "<IPython.core.display.Javascript object>"
      ]
     },
     "metadata": {},
     "output_type": "display_data"
    },
    {
     "data": {
      "image/png": "[encoded data removed]",
      "text/plain": [
       "<Figure size 720x720 with 1 Axes>"
      ]
     },
     "metadata": {
      "needs_background": "light"
     },
     "output_type": "display_data"
    },
    {
     "data": {
      "image/png": "[encoded data removed]",
      "text/plain": [
       "<Figure size 720x720 with 1 Axes>"
      ]
     },
     "metadata": {
      "needs_background": "light"
     },
     "output_type": "display_data"
    },
    {
     "data": {
      "image/png": "[encoded data removed]",
      "text/plain": [
       "<Figure size 720x720 with 1 Axes>"
      ]
     },
     "metadata": {
      "needs_background": "light"
     },
     "output_type": "display_data"
    },
    {
     "data": {
      "image/png": "[encoded data removed]",
      "text/plain": [
       "<Figure size 720x720 with 1 Axes>"
      ]
     },
     "metadata": {
      "needs_background": "light"
     },
     "output_type": "display_data"
    },
    {
     "data": {
      "image/png": "[encoded data removed]",
      "text/plain": [
       "<Figure size 720x720 with 1 Axes>"
      ]
     },
     "metadata": {
      "needs_background": "light"
     },
     "output_type": "display_data"
    },
    {
     "data": {
      "image/png": "[encoded data removed]",
      "text/plain": [
       "<Figure size 720x720 with 1 Axes>"
      ]
     },
     "metadata": {
      "needs_background": "light"
     },
     "output_type": "display_data"
    },
    {
     "data": {
      "image/png": "[encoded data removed]",
      "text/plain": [
       "<Figure size 720x720 with 1 Axes>"
      ]
     },
     "metadata": {
      "needs_background": "light"
     },
     "output_type": "display_data"
    },
    {
     "data": {
      "image/png": "[encoded data removed]",
      "text/plain": [
       "<Figure size 720x720 with 1 Axes>"
      ]
     },
     "metadata": {
      "needs_background": "light"
     },
     "output_type": "display_data"
    },
    {
     "data": {
      "image/png": "[encoded data removed]",
      "text/plain": [
       "<Figure size 720x720 with 1 Axes>"
      ]
     },
     "metadata": {
      "needs_background": "light"
     },
     "output_type": "display_data"
    },
    {
     "data": {
      "image/png": "[encoded data removed]",
      "text/plain": [
       "<Figure size 720x720 with 1 Axes>"
      ]
     },
     "metadata": {
      "needs_background": "light"
     },
     "output_type": "display_data"
    }
   ],
   "source": [
    "for i in traindf.describe().columns:\n",
    "    plt.figure(figsize = (10,10))\n",
    "    sns.distplot(traindf[i])\n",
    "    "
   ]
  },
  {
   "cell_type": "code",
   "execution_count": 8,
   "id": "e9a2f6d1-0efa-4678-9cc2-1f59b5b76dbe",
   "metadata": {},
   "outputs": [
    {
     "data": {
      "text/plain": [
       "ACTION                 2\n",
       "RESOURCE            7518\n",
       "MGR_ID              4243\n",
       "ROLE_ROLLUP_1        128\n",
       "ROLE_ROLLUP_2        177\n",
       "ROLE_DEPTNAME        449\n",
       "ROLE_TITLE           343\n",
       "ROLE_FAMILY_DESC    2358\n",
       "ROLE_FAMILY           67\n",
       "ROLE_CODE            343\n",
       "dtype: int64"
      ]
     },
     "execution_count": 8,
     "metadata": {},
     "output_type": "execute_result"
    }
   ],
   "source": [
    "traindf.apply(lambda x: len(x.unique()))\n"
   ]
  },
  {
   "cell_type": "markdown",
   "id": "423a029d-2b54-4301-af4b-141a5348a8f8",
   "metadata": {},
   "source": [
    "#### Boxplot"
   ]
  },
  {
   "cell_type": "code",
   "execution_count": 9,
   "id": "de3807b7-3343-4b73-86b2-9bb2779bdf30",
   "metadata": {},
   "outputs": [
    {
     "data": {
      "application/javascript": [
       "\n",
       "        if (window._pyforest_update_imports_cell) { window._pyforest_update_imports_cell('import matplotlib.pyplot as plt\\nimport seaborn as sns'); }\n",
       "    "
      ],
      "text/plain": [
       "<IPython.core.display.Javascript object>"
      ]
     },
     "metadata": {},
     "output_type": "display_data"
    },
    {
     "data": {
      "application/javascript": [
       "\n",
       "        if (window._pyforest_update_imports_cell) { window._pyforest_update_imports_cell('import matplotlib.pyplot as plt\\nimport seaborn as sns'); }\n",
       "    "
      ],
      "text/plain": [
       "<IPython.core.display.Javascript object>"
      ]
     },
     "metadata": {},
     "output_type": "display_data"
    },
    {
     "data": {
      "application/javascript": [
       "\n",
       "        if (window._pyforest_update_imports_cell) { window._pyforest_update_imports_cell('import matplotlib.pyplot as plt\\nimport seaborn as sns'); }\n",
       "    "
      ],
      "text/plain": [
       "<IPython.core.display.Javascript object>"
      ]
     },
     "metadata": {},
     "output_type": "display_data"
    },
    {
     "data": {
      "application/javascript": [
       "\n",
       "        if (window._pyforest_update_imports_cell) { window._pyforest_update_imports_cell('import matplotlib.pyplot as plt\\nimport seaborn as sns'); }\n",
       "    "
      ],
      "text/plain": [
       "<IPython.core.display.Javascript object>"
      ]
     },
     "metadata": {},
     "output_type": "display_data"
    },
    {
     "data": {
      "application/javascript": [
       "\n",
       "        if (window._pyforest_update_imports_cell) { window._pyforest_update_imports_cell('import matplotlib.pyplot as plt\\nimport seaborn as sns'); }\n",
       "    "
      ],
      "text/plain": [
       "<IPython.core.display.Javascript object>"
      ]
     },
     "metadata": {},
     "output_type": "display_data"
    },
    {
     "data": {
      "application/javascript": [
       "\n",
       "        if (window._pyforest_update_imports_cell) { window._pyforest_update_imports_cell('import matplotlib.pyplot as plt\\nimport seaborn as sns'); }\n",
       "    "
      ],
      "text/plain": [
       "<IPython.core.display.Javascript object>"
      ]
     },
     "metadata": {},
     "output_type": "display_data"
    },
    {
     "data": {
      "application/javascript": [
       "\n",
       "        if (window._pyforest_update_imports_cell) { window._pyforest_update_imports_cell('import matplotlib.pyplot as plt\\nimport seaborn as sns'); }\n",
       "    "
      ],
      "text/plain": [
       "<IPython.core.display.Javascript object>"
      ]
     },
     "metadata": {},
     "output_type": "display_data"
    },
    {
     "data": {
      "application/javascript": [
       "\n",
       "        if (window._pyforest_update_imports_cell) { window._pyforest_update_imports_cell('import matplotlib.pyplot as plt\\nimport seaborn as sns'); }\n",
       "    "
      ],
      "text/plain": [
       "<IPython.core.display.Javascript object>"
      ]
     },
     "metadata": {},
     "output_type": "display_data"
    },
    {
     "data": {
      "application/javascript": [
       "\n",
       "        if (window._pyforest_update_imports_cell) { window._pyforest_update_imports_cell('import matplotlib.pyplot as plt\\nimport seaborn as sns'); }\n",
       "    "
      ],
      "text/plain": [
       "<IPython.core.display.Javascript object>"
      ]
     },
     "metadata": {},
     "output_type": "display_data"
    },
    {
     "data": {
      "application/javascript": [
       "\n",
       "        if (window._pyforest_update_imports_cell) { window._pyforest_update_imports_cell('import matplotlib.pyplot as plt\\nimport seaborn as sns'); }\n",
       "    "
      ],
      "text/plain": [
       "<IPython.core.display.Javascript object>"
      ]
     },
     "metadata": {},
     "output_type": "display_data"
    },
    {
     "data": {
      "application/javascript": [
       "\n",
       "        if (window._pyforest_update_imports_cell) { window._pyforest_update_imports_cell('import matplotlib.pyplot as plt\\nimport seaborn as sns'); }\n",
       "    "
      ],
      "text/plain": [
       "<IPython.core.display.Javascript object>"
      ]
     },
     "metadata": {},
     "output_type": "display_data"
    },
    {
     "data": {
      "application/javascript": [
       "\n",
       "        if (window._pyforest_update_imports_cell) { window._pyforest_update_imports_cell('import matplotlib.pyplot as plt\\nimport seaborn as sns'); }\n",
       "    "
      ],
      "text/plain": [
       "<IPython.core.display.Javascript object>"
      ]
     },
     "metadata": {},
     "output_type": "display_data"
    },
    {
     "data": {
      "application/javascript": [
       "\n",
       "        if (window._pyforest_update_imports_cell) { window._pyforest_update_imports_cell('import matplotlib.pyplot as plt\\nimport seaborn as sns'); }\n",
       "    "
      ],
      "text/plain": [
       "<IPython.core.display.Javascript object>"
      ]
     },
     "metadata": {},
     "output_type": "display_data"
    },
    {
     "data": {
      "application/javascript": [
       "\n",
       "        if (window._pyforest_update_imports_cell) { window._pyforest_update_imports_cell('import matplotlib.pyplot as plt\\nimport seaborn as sns'); }\n",
       "    "
      ],
      "text/plain": [
       "<IPython.core.display.Javascript object>"
      ]
     },
     "metadata": {},
     "output_type": "display_data"
    },
    {
     "data": {
      "application/javascript": [
       "\n",
       "        if (window._pyforest_update_imports_cell) { window._pyforest_update_imports_cell('import matplotlib.pyplot as plt\\nimport seaborn as sns'); }\n",
       "    "
      ],
      "text/plain": [
       "<IPython.core.display.Javascript object>"
      ]
     },
     "metadata": {},
     "output_type": "display_data"
    },
    {
     "data": {
      "application/javascript": [
       "\n",
       "        if (window._pyforest_update_imports_cell) { window._pyforest_update_imports_cell('import matplotlib.pyplot as plt\\nimport seaborn as sns'); }\n",
       "    "
      ],
      "text/plain": [
       "<IPython.core.display.Javascript object>"
      ]
     },
     "metadata": {},
     "output_type": "display_data"
    },
    {
     "data": {
      "application/javascript": [
       "\n",
       "        if (window._pyforest_update_imports_cell) { window._pyforest_update_imports_cell('import matplotlib.pyplot as plt\\nimport seaborn as sns'); }\n",
       "    "
      ],
      "text/plain": [
       "<IPython.core.display.Javascript object>"
      ]
     },
     "metadata": {},
     "output_type": "display_data"
    },
    {
     "data": {
      "application/javascript": [
       "\n",
       "        if (window._pyforest_update_imports_cell) { window._pyforest_update_imports_cell('import matplotlib.pyplot as plt\\nimport seaborn as sns'); }\n",
       "    "
      ],
      "text/plain": [
       "<IPython.core.display.Javascript object>"
      ]
     },
     "metadata": {},
     "output_type": "display_data"
    },
    {
     "data": {
      "application/javascript": [
       "\n",
       "        if (window._pyforest_update_imports_cell) { window._pyforest_update_imports_cell('import matplotlib.pyplot as plt\\nimport seaborn as sns'); }\n",
       "    "
      ],
      "text/plain": [
       "<IPython.core.display.Javascript object>"
      ]
     },
     "metadata": {},
     "output_type": "display_data"
    },
    {
     "data": {
      "application/javascript": [
       "\n",
       "        if (window._pyforest_update_imports_cell) { window._pyforest_update_imports_cell('import matplotlib.pyplot as plt\\nimport seaborn as sns'); }\n",
       "    "
      ],
      "text/plain": [
       "<IPython.core.display.Javascript object>"
      ]
     },
     "metadata": {},
     "output_type": "display_data"
    },
    {
     "data": {
      "image/png": "[encoded data removed]",
      "text/plain": [
       "<Figure size 360x360 with 1 Axes>"
      ]
     },
     "metadata": {
      "needs_background": "light"
     },
     "output_type": "display_data"
    },
    {
     "data": {
      "image/png": "[encoded data removed]",
      "text/plain": [
       "<Figure size 360x360 with 1 Axes>"
      ]
     },
     "metadata": {
      "needs_background": "light"
     },
     "output_type": "display_data"
    },
    {
     "data": {
      "image/png": "[encoded data removed]",
      "text/plain": [
       "<Figure size 360x360 with 1 Axes>"
      ]
     },
     "metadata": {
      "needs_background": "light"
     },
     "output_type": "display_data"
    },
    {
     "data": {
      "image/png": "[encoded data removed]",
      "text/plain": [
       "<Figure size 360x360 with 1 Axes>"
      ]
     },
     "metadata": {
      "needs_background": "light"
     },
     "output_type": "display_data"
    },
    {
     "data": {
      "image/png": "[encoded data removed]",
      "text/plain": [
       "<Figure size 360x360 with 1 Axes>"
      ]
     },
     "metadata": {
      "needs_background": "light"
     },
     "output_type": "display_data"
    },
    {
     "data": {
      "image/png": "[encoded data removed]",
      "text/plain": [
       "<Figure size 360x360 with 1 Axes>"
      ]
     },
     "metadata": {
      "needs_background": "light"
     },
     "output_type": "display_data"
    },
    {
     "data": {
      "image/png": "[encoded data removed]",
      "text/plain": [
       "<Figure size 360x360 with 1 Axes>"
      ]
     },
     "metadata": {
      "needs_background": "light"
     },
     "output_type": "display_data"
    },
    {
     "data": {
      "image/png": "[encoded data removed]",
      "text/plain": [
       "<Figure size 360x360 with 1 Axes>"
      ]
     },
     "metadata": {
      "needs_background": "light"
     },
     "output_type": "display_data"
    },
    {
     "data": {
      "image/png": "[encoded data removed]",
      "text/plain": [
       "<Figure size 360x360 with 1 Axes>"
      ]
     },
     "metadata": {
      "needs_background": "light"
     },
     "output_type": "display_data"
    },
    {
     "data": {
      "image/png": "[encoded data removed]",
      "text/plain": [
       "<Figure size 360x360 with 1 Axes>"
      ]
     },
     "metadata": {
      "needs_background": "light"
     },
     "output_type": "display_data"
    }
   ],
   "source": [
    "for i in traindf.describe().columns:\n",
    "    plt.figure(figsize = (5,5))\n",
    "    sns.boxplot(traindf[i].dropna())"
   ]
  },
  {
   "cell_type": "markdown",
   "id": "c6adec60-fc8a-40f4-a418-83b1630ecaad",
   "metadata": {},
   "source": [
    "#### Correlation"
   ]
  },
  {
   "cell_type": "code",
   "execution_count": 10,
   "id": "d1ce89ce-cb02-4868-87e5-fe9d54e6e354",
   "metadata": {},
   "outputs": [
    {
     "data": {
      "application/javascript": [
       "\n",
       "        if (window._pyforest_update_imports_cell) { window._pyforest_update_imports_cell('import matplotlib.pyplot as plt\\nimport seaborn as sns'); }\n",
       "    "
      ],
      "text/plain": [
       "<IPython.core.display.Javascript object>"
      ]
     },
     "metadata": {},
     "output_type": "display_data"
    },
    {
     "data": {
      "application/javascript": [
       "\n",
       "        if (window._pyforest_update_imports_cell) { window._pyforest_update_imports_cell('import matplotlib.pyplot as plt\\nimport seaborn as sns'); }\n",
       "    "
      ],
      "text/plain": [
       "<IPython.core.display.Javascript object>"
      ]
     },
     "metadata": {},
     "output_type": "display_data"
    },
    {
     "data": {
      "text/plain": [
       "<AxesSubplot:>"
      ]
     },
     "execution_count": 10,
     "metadata": {},
     "output_type": "execute_result"
    },
    {
     "data": {
      "image/png": "[encoded data removed]",
      "text/plain": [
       "<Figure size 1152x720 with 2 Axes>"
      ]
     },
     "metadata": {
      "needs_background": "light"
     },
     "output_type": "display_data"
    }
   ],
   "source": [
    "plt.figure(figsize = (16,10))\n",
    "sns.heatmap(traindf.corr(), annot = True, cmap = 'inferno')"
   ]
  },
  {
   "cell_type": "markdown",
   "id": "42537651-7fcb-4cb3-944b-06e2ccaf65cb",
   "metadata": {},
   "source": [
    "no significant correlation spotted"
   ]
  },
  {
   "cell_type": "markdown",
   "id": "e78893e8-6009-4d7f-81f6-27748867567c",
   "metadata": {},
   "source": [
    "# Model Building"
   ]
  },
  {
   "cell_type": "code",
   "execution_count": 11,
   "id": "595c3d52-83e1-4e6e-a1c0-01f9a2b61c17",
   "metadata": {},
   "outputs": [
    {
     "data": {
      "text/html": [
       "<div>\n",
       "<style scoped>\n",
       "    .dataframe tbody tr th:only-of-type {\n",
       "        vertical-align: middle;\n",
       "    }\n",
       "\n",
       "    .dataframe tbody tr th {\n",
       "        vertical-align: top;\n",
       "    }\n",
       "\n",
       "    .dataframe thead th {\n",
       "        text-align: right;\n",
       "    }\n",
       "</style>\n",
       "<table border=\"1\" class=\"dataframe\">\n",
       "  <thead>\n",
       "    <tr style=\"text-align: right;\">\n",
       "      <th></th>\n",
       "      <th>ACTION</th>\n",
       "      <th>RESOURCE</th>\n",
       "      <th>MGR_ID</th>\n",
       "      <th>ROLE_ROLLUP_1</th>\n",
       "      <th>ROLE_ROLLUP_2</th>\n",
       "      <th>ROLE_DEPTNAME</th>\n",
       "      <th>ROLE_TITLE</th>\n",
       "      <th>ROLE_FAMILY_DESC</th>\n",
       "      <th>ROLE_FAMILY</th>\n",
       "      <th>ROLE_CODE</th>\n",
       "    </tr>\n",
       "  </thead>\n",
       "  <tbody>\n",
       "    <tr>\n",
       "      <th>0</th>\n",
       "      <td>1</td>\n",
       "      <td>39353</td>\n",
       "      <td>85475</td>\n",
       "      <td>117961</td>\n",
       "      <td>118300</td>\n",
       "      <td>123472</td>\n",
       "      <td>117905</td>\n",
       "      <td>117906</td>\n",
       "      <td>290919</td>\n",
       "      <td>117908</td>\n",
       "    </tr>\n",
       "    <tr>\n",
       "      <th>1</th>\n",
       "      <td>1</td>\n",
       "      <td>17183</td>\n",
       "      <td>1540</td>\n",
       "      <td>117961</td>\n",
       "      <td>118343</td>\n",
       "      <td>123125</td>\n",
       "      <td>118536</td>\n",
       "      <td>118536</td>\n",
       "      <td>308574</td>\n",
       "      <td>118539</td>\n",
       "    </tr>\n",
       "    <tr>\n",
       "      <th>2</th>\n",
       "      <td>1</td>\n",
       "      <td>36724</td>\n",
       "      <td>14457</td>\n",
       "      <td>118219</td>\n",
       "      <td>118220</td>\n",
       "      <td>117884</td>\n",
       "      <td>117879</td>\n",
       "      <td>267952</td>\n",
       "      <td>19721</td>\n",
       "      <td>117880</td>\n",
       "    </tr>\n",
       "    <tr>\n",
       "      <th>3</th>\n",
       "      <td>1</td>\n",
       "      <td>36135</td>\n",
       "      <td>5396</td>\n",
       "      <td>117961</td>\n",
       "      <td>118343</td>\n",
       "      <td>119993</td>\n",
       "      <td>118321</td>\n",
       "      <td>240983</td>\n",
       "      <td>290919</td>\n",
       "      <td>118322</td>\n",
       "    </tr>\n",
       "    <tr>\n",
       "      <th>4</th>\n",
       "      <td>1</td>\n",
       "      <td>42680</td>\n",
       "      <td>5905</td>\n",
       "      <td>117929</td>\n",
       "      <td>117930</td>\n",
       "      <td>119569</td>\n",
       "      <td>119323</td>\n",
       "      <td>123932</td>\n",
       "      <td>19793</td>\n",
       "      <td>119325</td>\n",
       "    </tr>\n",
       "  </tbody>\n",
       "</table>\n",
       "</div>"
      ],
      "text/plain": [
       "   ACTION  RESOURCE  MGR_ID  ROLE_ROLLUP_1  ROLE_ROLLUP_2  ROLE_DEPTNAME  \\\n",
       "0       1     39353   85475         117961         118300         123472   \n",
       "1       1     17183    1540         117961         118343         123125   \n",
       "2       1     36724   14457         118219         118220         117884   \n",
       "3       1     36135    5396         117961         118343         119993   \n",
       "4       1     42680    5905         117929         117930         119569   \n",
       "\n",
       "   ROLE_TITLE  ROLE_FAMILY_DESC  ROLE_FAMILY  ROLE_CODE  \n",
       "0      117905            117906       290919     117908  \n",
       "1      118536            118536       308574     118539  \n",
       "2      117879            267952        19721     117880  \n",
       "3      118321            240983       290919     118322  \n",
       "4      119323            123932        19793     119325  "
      ]
     },
     "execution_count": 11,
     "metadata": {},
     "output_type": "execute_result"
    }
   ],
   "source": [
    "traindf.head()"
   ]
  },
  {
   "cell_type": "code",
   "execution_count": 12,
   "id": "dec613ff-812d-4f2d-97c6-836cd6a89b13",
   "metadata": {},
   "outputs": [],
   "source": [
    "X = traindf.drop('ACTION', axis = 1)\n",
    "y = traindf['ACTION']"
   ]
  },
  {
   "cell_type": "code",
   "execution_count": 13,
   "id": "cbeadc10-a413-41e4-b2da-8bfff8bcfa1c",
   "metadata": {},
   "outputs": [
    {
     "data": {
      "text/html": [
       "<div>\n",
       "<style scoped>\n",
       "    .dataframe tbody tr th:only-of-type {\n",
       "        vertical-align: middle;\n",
       "    }\n",
       "\n",
       "    .dataframe tbody tr th {\n",
       "        vertical-align: top;\n",
       "    }\n",
       "\n",
       "    .dataframe thead th {\n",
       "        text-align: right;\n",
       "    }\n",
       "</style>\n",
       "<table border=\"1\" class=\"dataframe\">\n",
       "  <thead>\n",
       "    <tr style=\"text-align: right;\">\n",
       "      <th></th>\n",
       "      <th>id</th>\n",
       "      <th>RESOURCE</th>\n",
       "      <th>MGR_ID</th>\n",
       "      <th>ROLE_ROLLUP_1</th>\n",
       "      <th>ROLE_ROLLUP_2</th>\n",
       "      <th>ROLE_DEPTNAME</th>\n",
       "      <th>ROLE_TITLE</th>\n",
       "      <th>ROLE_FAMILY_DESC</th>\n",
       "      <th>ROLE_FAMILY</th>\n",
       "      <th>ROLE_CODE</th>\n",
       "    </tr>\n",
       "  </thead>\n",
       "  <tbody>\n",
       "    <tr>\n",
       "      <th>0</th>\n",
       "      <td>1</td>\n",
       "      <td>78766</td>\n",
       "      <td>72734</td>\n",
       "      <td>118079</td>\n",
       "      <td>118080</td>\n",
       "      <td>117878</td>\n",
       "      <td>117879</td>\n",
       "      <td>118177</td>\n",
       "      <td>19721</td>\n",
       "      <td>117880</td>\n",
       "    </tr>\n",
       "    <tr>\n",
       "      <th>1</th>\n",
       "      <td>2</td>\n",
       "      <td>40644</td>\n",
       "      <td>4378</td>\n",
       "      <td>117961</td>\n",
       "      <td>118327</td>\n",
       "      <td>118507</td>\n",
       "      <td>118863</td>\n",
       "      <td>122008</td>\n",
       "      <td>118398</td>\n",
       "      <td>118865</td>\n",
       "    </tr>\n",
       "    <tr>\n",
       "      <th>2</th>\n",
       "      <td>3</td>\n",
       "      <td>75443</td>\n",
       "      <td>2395</td>\n",
       "      <td>117961</td>\n",
       "      <td>118300</td>\n",
       "      <td>119488</td>\n",
       "      <td>118172</td>\n",
       "      <td>301534</td>\n",
       "      <td>249618</td>\n",
       "      <td>118175</td>\n",
       "    </tr>\n",
       "    <tr>\n",
       "      <th>3</th>\n",
       "      <td>4</td>\n",
       "      <td>43219</td>\n",
       "      <td>19986</td>\n",
       "      <td>117961</td>\n",
       "      <td>118225</td>\n",
       "      <td>118403</td>\n",
       "      <td>120773</td>\n",
       "      <td>136187</td>\n",
       "      <td>118960</td>\n",
       "      <td>120774</td>\n",
       "    </tr>\n",
       "    <tr>\n",
       "      <th>4</th>\n",
       "      <td>5</td>\n",
       "      <td>42093</td>\n",
       "      <td>50015</td>\n",
       "      <td>117961</td>\n",
       "      <td>118343</td>\n",
       "      <td>119598</td>\n",
       "      <td>118422</td>\n",
       "      <td>300136</td>\n",
       "      <td>118424</td>\n",
       "      <td>118425</td>\n",
       "    </tr>\n",
       "  </tbody>\n",
       "</table>\n",
       "</div>"
      ],
      "text/plain": [
       "   id  RESOURCE  MGR_ID  ROLE_ROLLUP_1  ROLE_ROLLUP_2  ROLE_DEPTNAME  \\\n",
       "0   1     78766   72734         118079         118080         117878   \n",
       "1   2     40644    4378         117961         118327         118507   \n",
       "2   3     75443    2395         117961         118300         119488   \n",
       "3   4     43219   19986         117961         118225         118403   \n",
       "4   5     42093   50015         117961         118343         119598   \n",
       "\n",
       "   ROLE_TITLE  ROLE_FAMILY_DESC  ROLE_FAMILY  ROLE_CODE  \n",
       "0      117879            118177        19721     117880  \n",
       "1      118863            122008       118398     118865  \n",
       "2      118172            301534       249618     118175  \n",
       "3      120773            136187       118960     120774  \n",
       "4      118422            300136       118424     118425  "
      ]
     },
     "execution_count": 13,
     "metadata": {},
     "output_type": "execute_result"
    }
   ],
   "source": [
    "testdf.head()"
   ]
  },
  {
   "cell_type": "code",
   "execution_count": 14,
   "id": "ca510dca-7efd-4c59-8f4c-cbb5767faaef",
   "metadata": {},
   "outputs": [],
   "source": [
    "X_test = testdf.drop('id', axis = 1)"
   ]
  },
  {
   "cell_type": "code",
   "execution_count": 15,
   "id": "54a65fe2-d37e-4617-bc8c-492c6435f4fb",
   "metadata": {},
   "outputs": [],
   "source": [
    "from sklearn.model_selection import train_test_split\n",
    "X_train,X_valid,y_train,y_valid = train_test_split(X,y,test_size = 0.25, random_state = 1)"
   ]
  },
  {
   "cell_type": "markdown",
   "id": "cafe2d05-456a-475a-bcb2-362ba3cf683e",
   "metadata": {},
   "source": [
    "## CatBoost"
   ]
  },
  {
   "cell_type": "code",
   "execution_count": 18,
   "id": "ccc252ea-54fe-4272-b169-f8125a39730e",
   "metadata": {},
   "outputs": [
    {
     "name": "stdout",
     "output_type": "stream",
     "text": [
      "Learning rate set to 0.069882\n",
      "0:\ttest: 0.5400959\tbest: 0.5400959 (0)\ttotal: 9.14ms\tremaining: 9.13s\n",
      "250:\ttest: 0.8105665\tbest: 0.8106179 (248)\ttotal: 1.68s\tremaining: 5.01s\n",
      "500:\ttest: 0.8277386\tbest: 0.8278763 (496)\ttotal: 3.3s\tremaining: 3.29s\n",
      "750:\ttest: 0.8355878\tbest: 0.8359259 (741)\ttotal: 4.96s\tremaining: 1.64s\n",
      "999:\ttest: 0.8391134\tbest: 0.8393624 (997)\ttotal: 6.56s\tremaining: 0us\n",
      "\n",
      "bestTest = 0.839362362\n",
      "bestIteration = 997\n",
      "\n",
      "Shrink model to first 998 iterations.\n",
      "Wall time: 6.66 s\n"
     ]
    },
    {
     "data": {
      "text/plain": [
       "<catboost.core.CatBoostClassifier at 0x2678c120eb0>"
      ]
     },
     "execution_count": 18,
     "metadata": {},
     "output_type": "execute_result"
    }
   ],
   "source": [
    "%%time\n",
    "from catboost import CatBoostClassifier\n",
    "\n",
    "parameters = {'loss_function' :'Logloss',\n",
    "              'eval_metric' : 'AUC',\n",
    "              'verbose' : 250,\n",
    "              'random_seed' : 1}\n",
    "\n",
    "\n",
    "cat = CatBoostClassifier(**parameters) # double stars are mandatory to pass variable input \n",
    "#an argument with single asterisk (star) prefixed to it helps in receiving variable number of arguments from calling environment.\n",
    "#argument with double asterisks (stars) is used in function definition when variable number of keyword arguments have to be passed to a function.\n",
    "\n",
    "\n",
    "cat.fit(X_train,y_train,eval_set = (X_valid,y_valid), use_best_model = True);"
   ]
  },
  {
   "cell_type": "code",
   "execution_count": 19,
   "id": "f6165940-9818-454e-8ed4-91aa6d08870c",
   "metadata": {},
   "outputs": [
    {
     "data": {
      "image/svg+xml": [
       "<?xml version=\"1.0\" encoding=\"UTF-8\" standalone=\"no\"?>\r\n",
       "<!DOCTYPE svg PUBLIC \"-//W3C//DTD SVG 1.1//EN\"\r\n",
       " \"http://www.w3.org/Graphics/SVG/1.1/DTD/svg11.dtd\">\r\n",
       "<!-- Generated by graphviz version 2.38.0 (20140413.2041)\r\n",
       " -->\r\n",
       "<!-- Title: %3 Pages: 1 -->\r\n",
       "<svg width=\"6198pt\" height=\"566pt\"\r\n",
       " viewBox=\"0.00 0.00 6198.00 566.00\" xmlns=\"http://www.w3.org/2000/svg\" xmlns:xlink=\"http://www.w3.org/1999/xlink\">\r\n",
       "<g id=\"graph0\" class=\"graph\" transform=\"scale(1 1) rotate(0) translate(4 562)\">\r\n",
       "<title>%3</title>\r\n",
       "<polygon fill=\"white\" stroke=\"none\" points=\"-4,4 -4,-562 6194,-562 6194,4 -4,4\"/>\r\n",
       "<!-- 0 -->\r\n",
       "<g id=\"node1\" class=\"node\"><title>0</title>\r\n",
       "<ellipse fill=\"none\" stroke=\"black\" cx=\"3279.5\" cy=\"-540\" rx=\"70.3881\" ry=\"18\"/>\r\n",
       "<text text-anchor=\"middle\" x=\"3279.5\" y=\"-536.3\" font-family=\"Times New Roman,serif\" font-size=\"14.00\">8, value&gt;131824</text>\r\n",
       "</g>\r\n",
       "<!-- 1 -->\r\n",
       "<g id=\"node2\" class=\"node\"><title>1</title>\r\n",
       "<ellipse fill=\"none\" stroke=\"black\" cx=\"2171.5\" cy=\"-453\" rx=\"72.5877\" ry=\"18\"/>\r\n",
       "<text text-anchor=\"middle\" x=\"2171.5\" y=\"-449.3\" font-family=\"Times New Roman,serif\" font-size=\"14.00\">0, value&gt;45345.5</text>\r\n",
       "</g>\r\n",
       "<!-- 0&#45;&gt;1 -->\r\n",
       "<g id=\"edge1\" class=\"edge\"><title>0&#45;&gt;1</title>\r\n",
       "<path fill=\"none\" stroke=\"black\" d=\"M3213.1,-533.906C3019.8,-519.077 2458.05,-475.983 2250.11,-460.031\"/>\r\n",
       "<polygon fill=\"black\" stroke=\"black\" points=\"2250.13,-456.522 2239.89,-459.246 2249.59,-463.501 2250.13,-456.522\"/>\r\n",
       "<text text-anchor=\"middle\" x=\"2801.5\" y=\"-492.8\" font-family=\"Times New Roman,serif\" font-size=\"14.00\">No</text>\r\n",
       "</g>\r\n",
       "<!-- 2 -->\r\n",
       "<g id=\"node3\" class=\"node\"><title>2</title>\r\n",
       "<ellipse fill=\"none\" stroke=\"black\" cx=\"3925.5\" cy=\"-453\" rx=\"72.5877\" ry=\"18\"/>\r\n",
       "<text text-anchor=\"middle\" x=\"3925.5\" y=\"-449.3\" font-family=\"Times New Roman,serif\" font-size=\"14.00\">0, value&gt;45345.5</text>\r\n",
       "</g>\r\n",
       "<!-- 0&#45;&gt;2 -->\r\n",
       "<g id=\"edge2\" class=\"edge\"><title>0&#45;&gt;2</title>\r\n",
       "<path fill=\"none\" stroke=\"black\" d=\"M3340.57,-530.965C3459.99,-515.251 3724,-480.513 3852.45,-463.611\"/>\r\n",
       "<polygon fill=\"black\" stroke=\"black\" points=\"3853.13,-467.053 3862.59,-462.278 3852.22,-460.113 3853.13,-467.053\"/>\r\n",
       "<text text-anchor=\"middle\" x=\"3652.5\" y=\"-492.8\" font-family=\"Times New Roman,serif\" font-size=\"14.00\">Yes</text>\r\n",
       "</g>\r\n",
       "<!-- 3 -->\r\n",
       "<g id=\"node4\" class=\"node\"><title>3</title>\r\n",
       "<ellipse fill=\"none\" stroke=\"black\" cx=\"1124.5\" cy=\"-366\" rx=\"72.5877\" ry=\"18\"/>\r\n",
       "<text text-anchor=\"middle\" x=\"1124.5\" y=\"-362.3\" font-family=\"Times New Roman,serif\" font-size=\"14.00\">1, value&gt;51065.5</text>\r\n",
       "</g>\r\n",
       "<!-- 1&#45;&gt;3 -->\r\n",
       "<g id=\"edge3\" class=\"edge\"><title>1&#45;&gt;3</title>\r\n",
       "<path fill=\"none\" stroke=\"black\" d=\"M2103.61,-446.488C1917.54,-431.383 1400.19,-389.382 1202.59,-373.34\"/>\r\n",
       "<polygon fill=\"black\" stroke=\"black\" points=\"1202.83,-369.847 1192.58,-372.527 1202.26,-376.824 1202.83,-369.847\"/>\r\n",
       "<text text-anchor=\"middle\" x=\"1720.5\" y=\"-405.8\" font-family=\"Times New Roman,serif\" font-size=\"14.00\">No</text>\r\n",
       "</g>\r\n",
       "<!-- 4 -->\r\n",
       "<g id=\"node5\" class=\"node\"><title>4</title>\r\n",
       "<ellipse fill=\"none\" stroke=\"black\" cx=\"2171.5\" cy=\"-366\" rx=\"72.5877\" ry=\"18\"/>\r\n",
       "<text text-anchor=\"middle\" x=\"2171.5\" y=\"-362.3\" font-family=\"Times New Roman,serif\" font-size=\"14.00\">1, value&gt;51065.5</text>\r\n",
       "</g>\r\n",
       "<!-- 1&#45;&gt;4 -->\r\n",
       "<g id=\"edge4\" class=\"edge\"><title>1&#45;&gt;4</title>\r\n",
       "<path fill=\"none\" stroke=\"black\" d=\"M2171.5,-434.799C2171.5,-423.163 2171.5,-407.548 2171.5,-394.237\"/>\r\n",
       "<polygon fill=\"black\" stroke=\"black\" points=\"2175,-394.175 2171.5,-384.175 2168,-394.175 2175,-394.175\"/>\r\n",
       "<text text-anchor=\"middle\" x=\"2182.5\" y=\"-405.8\" font-family=\"Times New Roman,serif\" font-size=\"14.00\">Yes</text>\r\n",
       "</g>\r\n",
       "<!-- 5 -->\r\n",
       "<g id=\"node6\" class=\"node\"><title>5</title>\r\n",
       "<ellipse fill=\"none\" stroke=\"black\" cx=\"3925.5\" cy=\"-366\" rx=\"72.5877\" ry=\"18\"/>\r\n",
       "<text text-anchor=\"middle\" x=\"3925.5\" y=\"-362.3\" font-family=\"Times New Roman,serif\" font-size=\"14.00\">1, value&gt;51065.5</text>\r\n",
       "</g>\r\n",
       "<!-- 2&#45;&gt;5 -->\r\n",
       "<g id=\"edge5\" class=\"edge\"><title>2&#45;&gt;5</title>\r\n",
       "<path fill=\"none\" stroke=\"black\" d=\"M3925.5,-434.799C3925.5,-423.163 3925.5,-407.548 3925.5,-394.237\"/>\r\n",
       "<polygon fill=\"black\" stroke=\"black\" points=\"3929,-394.175 3925.5,-384.175 3922,-394.175 3929,-394.175\"/>\r\n",
       "<text text-anchor=\"middle\" x=\"3934.5\" y=\"-405.8\" font-family=\"Times New Roman,serif\" font-size=\"14.00\">No</text>\r\n",
       "</g>\r\n",
       "<!-- 6 -->\r\n",
       "<g id=\"node7\" class=\"node\"><title>6</title>\r\n",
       "<ellipse fill=\"none\" stroke=\"black\" cx=\"5075.5\" cy=\"-366\" rx=\"72.5877\" ry=\"18\"/>\r\n",
       "<text text-anchor=\"middle\" x=\"5075.5\" y=\"-362.3\" font-family=\"Times New Roman,serif\" font-size=\"14.00\">1, value&gt;51065.5</text>\r\n",
       "</g>\r\n",
       "<!-- 2&#45;&gt;6 -->\r\n",
       "<g id=\"edge6\" class=\"edge\"><title>2&#45;&gt;6</title>\r\n",
       "<path fill=\"none\" stroke=\"black\" d=\"M3994.42,-446.906C4195.86,-432.017 4782.83,-388.632 4996.52,-372.838\"/>\r\n",
       "<polygon fill=\"black\" stroke=\"black\" points=\"4997,-376.312 5006.71,-372.084 4996.48,-369.331 4997,-376.312\"/>\r\n",
       "<text text-anchor=\"middle\" x=\"4580.5\" y=\"-405.8\" font-family=\"Times New Roman,serif\" font-size=\"14.00\">Yes</text>\r\n",
       "</g>\r\n",
       "<!-- 7 -->\r\n",
       "<g id=\"node8\" class=\"node\"><title>7</title>\r\n",
       "<ellipse fill=\"none\" stroke=\"black\" cx=\"562.5\" cy=\"-279\" rx=\"70.3881\" ry=\"18\"/>\r\n",
       "<text text-anchor=\"middle\" x=\"562.5\" y=\"-275.3\" font-family=\"Times New Roman,serif\" font-size=\"14.00\">2, value&gt;213070</text>\r\n",
       "</g>\r\n",
       "<!-- 3&#45;&gt;7 -->\r\n",
       "<g id=\"edge7\" class=\"edge\"><title>3&#45;&gt;7</title>\r\n",
       "<path fill=\"none\" stroke=\"black\" d=\"M1064.09,-355.863C958.797,-339.938 742.323,-307.197 631.376,-290.417\"/>\r\n",
       "<polygon fill=\"black\" stroke=\"black\" points=\"631.711,-286.928 621.3,-288.893 630.664,-293.849 631.711,-286.928\"/>\r\n",
       "<text text-anchor=\"middle\" x=\"886.5\" y=\"-318.8\" font-family=\"Times New Roman,serif\" font-size=\"14.00\">No</text>\r\n",
       "</g>\r\n",
       "<!-- 8 -->\r\n",
       "<g id=\"node9\" class=\"node\"><title>8</title>\r\n",
       "<ellipse fill=\"none\" stroke=\"black\" cx=\"1124.5\" cy=\"-279\" rx=\"70.3881\" ry=\"18\"/>\r\n",
       "<text text-anchor=\"middle\" x=\"1124.5\" y=\"-275.3\" font-family=\"Times New Roman,serif\" font-size=\"14.00\">2, value&gt;213070</text>\r\n",
       "</g>\r\n",
       "<!-- 3&#45;&gt;8 -->\r\n",
       "<g id=\"edge8\" class=\"edge\"><title>3&#45;&gt;8</title>\r\n",
       "<path fill=\"none\" stroke=\"black\" d=\"M1124.5,-347.799C1124.5,-336.163 1124.5,-320.548 1124.5,-307.237\"/>\r\n",
       "<polygon fill=\"black\" stroke=\"black\" points=\"1128,-307.175 1124.5,-297.175 1121,-307.175 1128,-307.175\"/>\r\n",
       "<text text-anchor=\"middle\" x=\"1135.5\" y=\"-318.8\" font-family=\"Times New Roman,serif\" font-size=\"14.00\">Yes</text>\r\n",
       "</g>\r\n",
       "<!-- 9 -->\r\n",
       "<g id=\"node10\" class=\"node\"><title>9</title>\r\n",
       "<ellipse fill=\"none\" stroke=\"black\" cx=\"2027.5\" cy=\"-279\" rx=\"70.3881\" ry=\"18\"/>\r\n",
       "<text text-anchor=\"middle\" x=\"2027.5\" y=\"-275.3\" font-family=\"Times New Roman,serif\" font-size=\"14.00\">2, value&gt;213070</text>\r\n",
       "</g>\r\n",
       "<!-- 4&#45;&gt;9 -->\r\n",
       "<g id=\"edge9\" class=\"edge\"><title>4&#45;&gt;9</title>\r\n",
       "<path fill=\"none\" stroke=\"black\" d=\"M2144.75,-349.211C2121.72,-335.614 2088.29,-315.882 2063.01,-300.963\"/>\r\n",
       "<polygon fill=\"black\" stroke=\"black\" points=\"2064.5,-297.773 2054.1,-295.704 2060.94,-303.801 2064.5,-297.773\"/>\r\n",
       "<text text-anchor=\"middle\" x=\"2117.5\" y=\"-318.8\" font-family=\"Times New Roman,serif\" font-size=\"14.00\">No</text>\r\n",
       "</g>\r\n",
       "<!-- 10 -->\r\n",
       "<g id=\"node11\" class=\"node\"><title>10</title>\r\n",
       "<ellipse fill=\"none\" stroke=\"black\" cx=\"2480.5\" cy=\"-279\" rx=\"70.3881\" ry=\"18\"/>\r\n",
       "<text text-anchor=\"middle\" x=\"2480.5\" y=\"-275.3\" font-family=\"Times New Roman,serif\" font-size=\"14.00\">2, value&gt;213070</text>\r\n",
       "</g>\r\n",
       "<!-- 4&#45;&gt;10 -->\r\n",
       "<g id=\"edge10\" class=\"edge\"><title>4&#45;&gt;10</title>\r\n",
       "<path fill=\"none\" stroke=\"black\" d=\"M2218.43,-352.09C2273.73,-336.878 2365.53,-311.625 2424.5,-295.404\"/>\r\n",
       "<polygon fill=\"black\" stroke=\"black\" points=\"2425.68,-298.71 2434.39,-292.683 2423.82,-291.961 2425.68,-298.71\"/>\r\n",
       "<text text-anchor=\"middle\" x=\"2356.5\" y=\"-318.8\" font-family=\"Times New Roman,serif\" font-size=\"14.00\">Yes</text>\r\n",
       "</g>\r\n",
       "<!-- 11 -->\r\n",
       "<g id=\"node12\" class=\"node\"><title>11</title>\r\n",
       "<ellipse fill=\"none\" stroke=\"black\" cx=\"3688.5\" cy=\"-279\" rx=\"70.3881\" ry=\"18\"/>\r\n",
       "<text text-anchor=\"middle\" x=\"3688.5\" y=\"-275.3\" font-family=\"Times New Roman,serif\" font-size=\"14.00\">2, value&gt;213070</text>\r\n",
       "</g>\r\n",
       "<!-- 5&#45;&gt;11 -->\r\n",
       "<g id=\"edge11\" class=\"edge\"><title>5&#45;&gt;11</title>\r\n",
       "<path fill=\"none\" stroke=\"black\" d=\"M3885.83,-350.773C3844.91,-336.098 3781.05,-313.192 3737.12,-297.436\"/>\r\n",
       "<polygon fill=\"black\" stroke=\"black\" points=\"3738.1,-294.072 3727.51,-293.991 3735.74,-300.661 3738.1,-294.072\"/>\r\n",
       "<text text-anchor=\"middle\" x=\"3830.5\" y=\"-318.8\" font-family=\"Times New Roman,serif\" font-size=\"14.00\">No</text>\r\n",
       "</g>\r\n",
       "<!-- 12 -->\r\n",
       "<g id=\"node13\" class=\"node\"><title>12</title>\r\n",
       "<ellipse fill=\"none\" stroke=\"black\" cx=\"4032.5\" cy=\"-279\" rx=\"70.3881\" ry=\"18\"/>\r\n",
       "<text text-anchor=\"middle\" x=\"4032.5\" y=\"-275.3\" font-family=\"Times New Roman,serif\" font-size=\"14.00\">2, value&gt;213070</text>\r\n",
       "</g>\r\n",
       "<!-- 5&#45;&gt;12 -->\r\n",
       "<g id=\"edge12\" class=\"edge\"><title>5&#45;&gt;12</title>\r\n",
       "<path fill=\"none\" stroke=\"black\" d=\"M3946.13,-348.611C3962.56,-335.559 3985.75,-317.141 4003.96,-302.674\"/>\r\n",
       "<polygon fill=\"black\" stroke=\"black\" points=\"4006.28,-305.299 4011.93,-296.339 4001.93,-299.818 4006.28,-305.299\"/>\r\n",
       "<text text-anchor=\"middle\" x=\"3996.5\" y=\"-318.8\" font-family=\"Times New Roman,serif\" font-size=\"14.00\">Yes</text>\r\n",
       "</g>\r\n",
       "<!-- 13 -->\r\n",
       "<g id=\"node14\" class=\"node\"><title>13</title>\r\n",
       "<ellipse fill=\"none\" stroke=\"black\" cx=\"5075.5\" cy=\"-279\" rx=\"70.3881\" ry=\"18\"/>\r\n",
       "<text text-anchor=\"middle\" x=\"5075.5\" y=\"-275.3\" font-family=\"Times New Roman,serif\" font-size=\"14.00\">2, value&gt;213070</text>\r\n",
       "</g>\r\n",
       "<!-- 6&#45;&gt;13 -->\r\n",
       "<g id=\"edge13\" class=\"edge\"><title>6&#45;&gt;13</title>\r\n",
       "<path fill=\"none\" stroke=\"black\" d=\"M5075.5,-347.799C5075.5,-336.163 5075.5,-320.548 5075.5,-307.237\"/>\r\n",
       "<polygon fill=\"black\" stroke=\"black\" points=\"5079,-307.175 5075.5,-297.175 5072,-307.175 5079,-307.175\"/>\r\n",
       "<text text-anchor=\"middle\" x=\"5084.5\" y=\"-318.8\" font-family=\"Times New Roman,serif\" font-size=\"14.00\">No</text>\r\n",
       "</g>\r\n",
       "<!-- 14 -->\r\n",
       "<g id=\"node15\" class=\"node\"><title>14</title>\r\n",
       "<ellipse fill=\"none\" stroke=\"black\" cx=\"5643.5\" cy=\"-279\" rx=\"70.3881\" ry=\"18\"/>\r\n",
       "<text text-anchor=\"middle\" x=\"5643.5\" y=\"-275.3\" font-family=\"Times New Roman,serif\" font-size=\"14.00\">2, value&gt;213070</text>\r\n",
       "</g>\r\n",
       "<!-- 6&#45;&gt;14 -->\r\n",
       "<g id=\"edge14\" class=\"edge\"><title>6&#45;&gt;14</title>\r\n",
       "<path fill=\"none\" stroke=\"black\" d=\"M5136.02,-355.944C5242.32,-340.035 5461.94,-307.171 5574.17,-290.375\"/>\r\n",
       "<polygon fill=\"black\" stroke=\"black\" points=\"5574.99,-293.791 5584.36,-288.85 5573.95,-286.868 5574.99,-293.791\"/>\r\n",
       "<text text-anchor=\"middle\" x=\"5405.5\" y=\"-318.8\" font-family=\"Times New Roman,serif\" font-size=\"14.00\">Yes</text>\r\n",
       "</g>\r\n",
       "<!-- 15 -->\r\n",
       "<g id=\"node16\" class=\"node\"><title>15</title>\r\n",
       "<ellipse fill=\"none\" stroke=\"black\" cx=\"312.5\" cy=\"-192\" rx=\"70.3881\" ry=\"18\"/>\r\n",
       "<text text-anchor=\"middle\" x=\"312.5\" y=\"-188.3\" font-family=\"Times New Roman,serif\" font-size=\"14.00\">8, value&gt;121563</text>\r\n",
       "</g>\r\n",
       "<!-- 7&#45;&gt;15 -->\r\n",
       "<g id=\"edge15\" class=\"edge\"><title>7&#45;&gt;15</title>\r\n",
       "<path fill=\"none\" stroke=\"black\" d=\"M522.055,-264.249C478.577,-249.466 409.404,-225.947 362.533,-210.011\"/>\r\n",
       "<polygon fill=\"black\" stroke=\"black\" points=\"363.481,-206.637 352.887,-206.731 361.228,-213.264 363.481,-206.637\"/>\r\n",
       "<text text-anchor=\"middle\" x=\"461.5\" y=\"-231.8\" font-family=\"Times New Roman,serif\" font-size=\"14.00\">No</text>\r\n",
       "</g>\r\n",
       "<!-- 16 -->\r\n",
       "<g id=\"node17\" class=\"node\"><title>16</title>\r\n",
       "<ellipse fill=\"none\" stroke=\"black\" cx=\"562.5\" cy=\"-192\" rx=\"70.3881\" ry=\"18\"/>\r\n",
       "<text text-anchor=\"middle\" x=\"562.5\" y=\"-188.3\" font-family=\"Times New Roman,serif\" font-size=\"14.00\">8, value&gt;121563</text>\r\n",
       "</g>\r\n",
       "<!-- 7&#45;&gt;16 -->\r\n",
       "<g id=\"edge16\" class=\"edge\"><title>7&#45;&gt;16</title>\r\n",
       "<path fill=\"none\" stroke=\"black\" d=\"M562.5,-260.799C562.5,-249.163 562.5,-233.548 562.5,-220.237\"/>\r\n",
       "<polygon fill=\"black\" stroke=\"black\" points=\"566,-220.175 562.5,-210.175 559,-220.175 566,-220.175\"/>\r\n",
       "<text text-anchor=\"middle\" x=\"573.5\" y=\"-231.8\" font-family=\"Times New Roman,serif\" font-size=\"14.00\">Yes</text>\r\n",
       "</g>\r\n",
       "<!-- 17 -->\r\n",
       "<g id=\"node18\" class=\"node\"><title>17</title>\r\n",
       "<ellipse fill=\"none\" stroke=\"black\" cx=\"1073.5\" cy=\"-192\" rx=\"70.3881\" ry=\"18\"/>\r\n",
       "<text text-anchor=\"middle\" x=\"1073.5\" y=\"-188.3\" font-family=\"Times New Roman,serif\" font-size=\"14.00\">8, value&gt;121563</text>\r\n",
       "</g>\r\n",
       "<!-- 8&#45;&gt;17 -->\r\n",
       "<g id=\"edge17\" class=\"edge\"><title>8&#45;&gt;17</title>\r\n",
       "<path fill=\"none\" stroke=\"black\" d=\"M1114.18,-260.799C1106.94,-248.738 1097.14,-232.403 1088.97,-218.79\"/>\r\n",
       "<polygon fill=\"black\" stroke=\"black\" points=\"1091.78,-216.66 1083.63,-209.885 1085.77,-220.261 1091.78,-216.66\"/>\r\n",
       "<text text-anchor=\"middle\" x=\"1111.5\" y=\"-231.8\" font-family=\"Times New Roman,serif\" font-size=\"14.00\">No</text>\r\n",
       "</g>\r\n",
       "<!-- 18 -->\r\n",
       "<g id=\"node19\" class=\"node\"><title>18</title>\r\n",
       "<ellipse fill=\"none\" stroke=\"black\" cx=\"1236.5\" cy=\"-192\" rx=\"70.3881\" ry=\"18\"/>\r\n",
       "<text text-anchor=\"middle\" x=\"1236.5\" y=\"-188.3\" font-family=\"Times New Roman,serif\" font-size=\"14.00\">8, value&gt;121563</text>\r\n",
       "</g>\r\n",
       "<!-- 8&#45;&gt;18 -->\r\n",
       "<g id=\"edge18\" class=\"edge\"><title>8&#45;&gt;18</title>\r\n",
       "<path fill=\"none\" stroke=\"black\" d=\"M1145.83,-261.812C1163.08,-248.721 1187.56,-230.139 1206.74,-215.583\"/>\r\n",
       "<polygon fill=\"black\" stroke=\"black\" points=\"1209.02,-218.251 1214.87,-209.417 1204.79,-212.675 1209.02,-218.251\"/>\r\n",
       "<text text-anchor=\"middle\" x=\"1198.5\" y=\"-231.8\" font-family=\"Times New Roman,serif\" font-size=\"14.00\">Yes</text>\r\n",
       "</g>\r\n",
       "<!-- 19 -->\r\n",
       "<g id=\"node20\" class=\"node\"><title>19</title>\r\n",
       "<ellipse fill=\"none\" stroke=\"black\" cx=\"1858.5\" cy=\"-192\" rx=\"70.3881\" ry=\"18\"/>\r\n",
       "<text text-anchor=\"middle\" x=\"1858.5\" y=\"-188.3\" font-family=\"Times New Roman,serif\" font-size=\"14.00\">8, value&gt;121563</text>\r\n",
       "</g>\r\n",
       "<!-- 9&#45;&gt;19 -->\r\n",
       "<g id=\"edge19\" class=\"edge\"><title>9&#45;&gt;19</title>\r\n",
       "<path fill=\"none\" stroke=\"black\" d=\"M1996.9,-262.607C1969.14,-248.646 1928.07,-227.988 1897.87,-212.802\"/>\r\n",
       "<polygon fill=\"black\" stroke=\"black\" points=\"1899.38,-209.645 1888.88,-208.278 1896.24,-215.898 1899.38,-209.645\"/>\r\n",
       "<text text-anchor=\"middle\" x=\"1962.5\" y=\"-231.8\" font-family=\"Times New Roman,serif\" font-size=\"14.00\">No</text>\r\n",
       "</g>\r\n",
       "<!-- 20 -->\r\n",
       "<g id=\"node21\" class=\"node\"><title>20</title>\r\n",
       "<ellipse fill=\"none\" stroke=\"black\" cx=\"2027.5\" cy=\"-192\" rx=\"70.3881\" ry=\"18\"/>\r\n",
       "<text text-anchor=\"middle\" x=\"2027.5\" y=\"-188.3\" font-family=\"Times New Roman,serif\" font-size=\"14.00\">8, value&gt;121563</text>\r\n",
       "</g>\r\n",
       "<!-- 9&#45;&gt;20 -->\r\n",
       "<g id=\"edge20\" class=\"edge\"><title>9&#45;&gt;20</title>\r\n",
       "<path fill=\"none\" stroke=\"black\" d=\"M2027.5,-260.799C2027.5,-249.163 2027.5,-233.548 2027.5,-220.237\"/>\r\n",
       "<polygon fill=\"black\" stroke=\"black\" points=\"2031,-220.175 2027.5,-210.175 2024,-220.175 2031,-220.175\"/>\r\n",
       "<text text-anchor=\"middle\" x=\"2038.5\" y=\"-231.8\" font-family=\"Times New Roman,serif\" font-size=\"14.00\">Yes</text>\r\n",
       "</g>\r\n",
       "<!-- 21 -->\r\n",
       "<g id=\"node22\" class=\"node\"><title>21</title>\r\n",
       "<ellipse fill=\"none\" stroke=\"black\" cx=\"2480.5\" cy=\"-192\" rx=\"70.3881\" ry=\"18\"/>\r\n",
       "<text text-anchor=\"middle\" x=\"2480.5\" y=\"-188.3\" font-family=\"Times New Roman,serif\" font-size=\"14.00\">8, value&gt;121563</text>\r\n",
       "</g>\r\n",
       "<!-- 10&#45;&gt;21 -->\r\n",
       "<g id=\"edge21\" class=\"edge\"><title>10&#45;&gt;21</title>\r\n",
       "<path fill=\"none\" stroke=\"black\" d=\"M2480.5,-260.799C2480.5,-249.163 2480.5,-233.548 2480.5,-220.237\"/>\r\n",
       "<polygon fill=\"black\" stroke=\"black\" points=\"2484,-220.175 2480.5,-210.175 2477,-220.175 2484,-220.175\"/>\r\n",
       "<text text-anchor=\"middle\" x=\"2489.5\" y=\"-231.8\" font-family=\"Times New Roman,serif\" font-size=\"14.00\">No</text>\r\n",
       "</g>\r\n",
       "<!-- 22 -->\r\n",
       "<g id=\"node23\" class=\"node\"><title>22</title>\r\n",
       "<ellipse fill=\"none\" stroke=\"black\" cx=\"2773.5\" cy=\"-192\" rx=\"70.3881\" ry=\"18\"/>\r\n",
       "<text text-anchor=\"middle\" x=\"2773.5\" y=\"-188.3\" font-family=\"Times New Roman,serif\" font-size=\"14.00\">8, value&gt;121563</text>\r\n",
       "</g>\r\n",
       "<!-- 10&#45;&gt;22 -->\r\n",
       "<g id=\"edge22\" class=\"edge\"><title>10&#45;&gt;22</title>\r\n",
       "<path fill=\"none\" stroke=\"black\" d=\"M2525.32,-264.998C2577.34,-249.906 2663.12,-225.022 2718.96,-208.821\"/>\r\n",
       "<polygon fill=\"black\" stroke=\"black\" points=\"2720.06,-212.148 2728.69,-206.001 2718.11,-205.426 2720.06,-212.148\"/>\r\n",
       "<text text-anchor=\"middle\" x=\"2656.5\" y=\"-231.8\" font-family=\"Times New Roman,serif\" font-size=\"14.00\">Yes</text>\r\n",
       "</g>\r\n",
       "<!-- 23 -->\r\n",
       "<g id=\"node24\" class=\"node\"><title>23</title>\r\n",
       "<ellipse fill=\"none\" stroke=\"black\" cx=\"3416.5\" cy=\"-192\" rx=\"70.3881\" ry=\"18\"/>\r\n",
       "<text text-anchor=\"middle\" x=\"3416.5\" y=\"-188.3\" font-family=\"Times New Roman,serif\" font-size=\"14.00\">8, value&gt;121563</text>\r\n",
       "</g>\r\n",
       "<!-- 11&#45;&gt;23 -->\r\n",
       "<g id=\"edge23\" class=\"edge\"><title>11&#45;&gt;23</title>\r\n",
       "<path fill=\"none\" stroke=\"black\" d=\"M3645.7,-264.625C3597.91,-249.692 3520.55,-225.515 3469.11,-209.439\"/>\r\n",
       "<polygon fill=\"black\" stroke=\"black\" points=\"3470.09,-206.079 3459.5,-206.437 3468,-212.76 3470.09,-206.079\"/>\r\n",
       "<text text-anchor=\"middle\" x=\"3578.5\" y=\"-231.8\" font-family=\"Times New Roman,serif\" font-size=\"14.00\">No</text>\r\n",
       "</g>\r\n",
       "<!-- 24 -->\r\n",
       "<g id=\"node25\" class=\"node\"><title>24</title>\r\n",
       "<ellipse fill=\"none\" stroke=\"black\" cx=\"3688.5\" cy=\"-192\" rx=\"70.3881\" ry=\"18\"/>\r\n",
       "<text text-anchor=\"middle\" x=\"3688.5\" y=\"-188.3\" font-family=\"Times New Roman,serif\" font-size=\"14.00\">8, value&gt;121563</text>\r\n",
       "</g>\r\n",
       "<!-- 11&#45;&gt;24 -->\r\n",
       "<g id=\"edge24\" class=\"edge\"><title>11&#45;&gt;24</title>\r\n",
       "<path fill=\"none\" stroke=\"black\" d=\"M3688.5,-260.799C3688.5,-249.163 3688.5,-233.548 3688.5,-220.237\"/>\r\n",
       "<polygon fill=\"black\" stroke=\"black\" points=\"3692,-220.175 3688.5,-210.175 3685,-220.175 3692,-220.175\"/>\r\n",
       "<text text-anchor=\"middle\" x=\"3699.5\" y=\"-231.8\" font-family=\"Times New Roman,serif\" font-size=\"14.00\">Yes</text>\r\n",
       "</g>\r\n",
       "<!-- 25 -->\r\n",
       "<g id=\"node26\" class=\"node\"><title>25</title>\r\n",
       "<ellipse fill=\"none\" stroke=\"black\" cx=\"4032.5\" cy=\"-192\" rx=\"70.3881\" ry=\"18\"/>\r\n",
       "<text text-anchor=\"middle\" x=\"4032.5\" y=\"-188.3\" font-family=\"Times New Roman,serif\" font-size=\"14.00\">8, value&gt;121563</text>\r\n",
       "</g>\r\n",
       "<!-- 12&#45;&gt;25 -->\r\n",
       "<g id=\"edge25\" class=\"edge\"><title>12&#45;&gt;25</title>\r\n",
       "<path fill=\"none\" stroke=\"black\" d=\"M4032.5,-260.799C4032.5,-249.163 4032.5,-233.548 4032.5,-220.237\"/>\r\n",
       "<polygon fill=\"black\" stroke=\"black\" points=\"4036,-220.175 4032.5,-210.175 4029,-220.175 4036,-220.175\"/>\r\n",
       "<text text-anchor=\"middle\" x=\"4041.5\" y=\"-231.8\" font-family=\"Times New Roman,serif\" font-size=\"14.00\">No</text>\r\n",
       "</g>\r\n",
       "<!-- 26 -->\r\n",
       "<g id=\"node27\" class=\"node\"><title>26</title>\r\n",
       "<ellipse fill=\"none\" stroke=\"black\" cx=\"4325.5\" cy=\"-192\" rx=\"70.3881\" ry=\"18\"/>\r\n",
       "<text text-anchor=\"middle\" x=\"4325.5\" y=\"-188.3\" font-family=\"Times New Roman,serif\" font-size=\"14.00\">8, value&gt;121563</text>\r\n",
       "</g>\r\n",
       "<!-- 12&#45;&gt;26 -->\r\n",
       "<g id=\"edge26\" class=\"edge\"><title>12&#45;&gt;26</title>\r\n",
       "<path fill=\"none\" stroke=\"black\" d=\"M4077.32,-264.998C4129.34,-249.906 4215.12,-225.022 4270.96,-208.821\"/>\r\n",
       "<polygon fill=\"black\" stroke=\"black\" points=\"4272.06,-212.148 4280.69,-206.001 4270.11,-205.426 4272.06,-212.148\"/>\r\n",
       "<text text-anchor=\"middle\" x=\"4208.5\" y=\"-231.8\" font-family=\"Times New Roman,serif\" font-size=\"14.00\">Yes</text>\r\n",
       "</g>\r\n",
       "<!-- 27 -->\r\n",
       "<g id=\"node28\" class=\"node\"><title>27</title>\r\n",
       "<ellipse fill=\"none\" stroke=\"black\" cx=\"4955.5\" cy=\"-192\" rx=\"70.3881\" ry=\"18\"/>\r\n",
       "<text text-anchor=\"middle\" x=\"4955.5\" y=\"-188.3\" font-family=\"Times New Roman,serif\" font-size=\"14.00\">8, value&gt;121563</text>\r\n",
       "</g>\r\n",
       "<!-- 13&#45;&gt;27 -->\r\n",
       "<g id=\"edge27\" class=\"edge\"><title>13&#45;&gt;27</title>\r\n",
       "<path fill=\"none\" stroke=\"black\" d=\"M5052.65,-261.812C5033.88,-248.519 5007.12,-229.564 4986.44,-214.912\"/>\r\n",
       "<polygon fill=\"black\" stroke=\"black\" points=\"4988.45,-212.052 4978.27,-209.128 4984.41,-217.764 4988.45,-212.052\"/>\r\n",
       "<text text-anchor=\"middle\" x=\"5032.5\" y=\"-231.8\" font-family=\"Times New Roman,serif\" font-size=\"14.00\">No</text>\r\n",
       "</g>\r\n",
       "<!-- 28 -->\r\n",
       "<g id=\"node29\" class=\"node\"><title>28</title>\r\n",
       "<ellipse fill=\"none\" stroke=\"black\" cx=\"5116.5\" cy=\"-192\" rx=\"70.3881\" ry=\"18\"/>\r\n",
       "<text text-anchor=\"middle\" x=\"5116.5\" y=\"-188.3\" font-family=\"Times New Roman,serif\" font-size=\"14.00\">8, value&gt;121563</text>\r\n",
       "</g>\r\n",
       "<!-- 13&#45;&gt;28 -->\r\n",
       "<g id=\"edge28\" class=\"edge\"><title>13&#45;&gt;28</title>\r\n",
       "<path fill=\"none\" stroke=\"black\" d=\"M5083.8,-260.799C5089.56,-248.854 5097.34,-232.717 5103.87,-219.183\"/>\r\n",
       "<polygon fill=\"black\" stroke=\"black\" points=\"5107.16,-220.413 5108.36,-209.885 5100.86,-217.372 5107.16,-220.413\"/>\r\n",
       "<text text-anchor=\"middle\" x=\"5109.5\" y=\"-231.8\" font-family=\"Times New Roman,serif\" font-size=\"14.00\">Yes</text>\r\n",
       "</g>\r\n",
       "<!-- 29 -->\r\n",
       "<g id=\"node30\" class=\"node\"><title>29</title>\r\n",
       "<ellipse fill=\"none\" stroke=\"black\" cx=\"5643.5\" cy=\"-192\" rx=\"70.3881\" ry=\"18\"/>\r\n",
       "<text text-anchor=\"middle\" x=\"5643.5\" y=\"-188.3\" font-family=\"Times New Roman,serif\" font-size=\"14.00\">8, value&gt;121563</text>\r\n",
       "</g>\r\n",
       "<!-- 14&#45;&gt;29 -->\r\n",
       "<g id=\"edge29\" class=\"edge\"><title>14&#45;&gt;29</title>\r\n",
       "<path fill=\"none\" stroke=\"black\" d=\"M5643.5,-260.799C5643.5,-249.163 5643.5,-233.548 5643.5,-220.237\"/>\r\n",
       "<polygon fill=\"black\" stroke=\"black\" points=\"5647,-220.175 5643.5,-210.175 5640,-220.175 5647,-220.175\"/>\r\n",
       "<text text-anchor=\"middle\" x=\"5652.5\" y=\"-231.8\" font-family=\"Times New Roman,serif\" font-size=\"14.00\">No</text>\r\n",
       "</g>\r\n",
       "<!-- 30 -->\r\n",
       "<g id=\"node31\" class=\"node\"><title>30</title>\r\n",
       "<ellipse fill=\"none\" stroke=\"black\" cx=\"5877.5\" cy=\"-192\" rx=\"70.3881\" ry=\"18\"/>\r\n",
       "<text text-anchor=\"middle\" x=\"5877.5\" y=\"-188.3\" font-family=\"Times New Roman,serif\" font-size=\"14.00\">8, value&gt;121563</text>\r\n",
       "</g>\r\n",
       "<!-- 14&#45;&gt;30 -->\r\n",
       "<g id=\"edge30\" class=\"edge\"><title>14&#45;&gt;30</title>\r\n",
       "<path fill=\"none\" stroke=\"black\" d=\"M5682.14,-263.964C5722.45,-249.322 5785.72,-226.339 5829.28,-210.517\"/>\r\n",
       "<polygon fill=\"black\" stroke=\"black\" points=\"5830.6,-213.761 5838.8,-207.057 5828.21,-207.181 5830.6,-213.761\"/>\r\n",
       "<text text-anchor=\"middle\" x=\"5786.5\" y=\"-231.8\" font-family=\"Times New Roman,serif\" font-size=\"14.00\">Yes</text>\r\n",
       "</g>\r\n",
       "<!-- 31 -->\r\n",
       "<g id=\"node32\" class=\"node\"><title>31</title>\r\n",
       "<ellipse fill=\"none\" stroke=\"black\" cx=\"136.5\" cy=\"-105\" rx=\"70.3881\" ry=\"18\"/>\r\n",
       "<text text-anchor=\"middle\" x=\"136.5\" y=\"-101.3\" font-family=\"Times New Roman,serif\" font-size=\"14.00\">2, value&gt;122706</text>\r\n",
       "</g>\r\n",
       "<!-- 15&#45;&gt;31 -->\r\n",
       "<g id=\"edge31\" class=\"edge\"><title>15&#45;&gt;31</title>\r\n",
       "<path fill=\"none\" stroke=\"black\" d=\"M281.035,-175.804C252.092,-161.826 209.001,-141.015 177.399,-125.752\"/>\r\n",
       "<polygon fill=\"black\" stroke=\"black\" points=\"178.516,-122.405 167.989,-121.208 175.472,-128.708 178.516,-122.405\"/>\r\n",
       "<text text-anchor=\"middle\" x=\"244.5\" y=\"-144.8\" font-family=\"Times New Roman,serif\" font-size=\"14.00\">No</text>\r\n",
       "</g>\r\n",
       "<!-- 32 -->\r\n",
       "<g id=\"node33\" class=\"node\"><title>32</title>\r\n",
       "<ellipse fill=\"none\" stroke=\"black\" cx=\"312.5\" cy=\"-105\" rx=\"70.3881\" ry=\"18\"/>\r\n",
       "<text text-anchor=\"middle\" x=\"312.5\" y=\"-101.3\" font-family=\"Times New Roman,serif\" font-size=\"14.00\">2, value&gt;122706</text>\r\n",
       "</g>\r\n",
       "<!-- 15&#45;&gt;32 -->\r\n",
       "<g id=\"edge32\" class=\"edge\"><title>15&#45;&gt;32</title>\r\n",
       "<path fill=\"none\" stroke=\"black\" d=\"M312.5,-173.799C312.5,-162.163 312.5,-146.548 312.5,-133.237\"/>\r\n",
       "<polygon fill=\"black\" stroke=\"black\" points=\"316,-133.175 312.5,-123.175 309,-133.175 316,-133.175\"/>\r\n",
       "<text text-anchor=\"middle\" x=\"323.5\" y=\"-144.8\" font-family=\"Times New Roman,serif\" font-size=\"14.00\">Yes</text>\r\n",
       "</g>\r\n",
       "<!-- 33 -->\r\n",
       "<g id=\"node34\" class=\"node\"><title>33</title>\r\n",
       "<ellipse fill=\"none\" stroke=\"black\" cx=\"497.5\" cy=\"-105\" rx=\"70.3881\" ry=\"18\"/>\r\n",
       "<text text-anchor=\"middle\" x=\"497.5\" y=\"-101.3\" font-family=\"Times New Roman,serif\" font-size=\"14.00\">2, value&gt;122706</text>\r\n",
       "</g>\r\n",
       "<!-- 16&#45;&gt;33 -->\r\n",
       "<g id=\"edge33\" class=\"edge\"><title>16&#45;&gt;33</title>\r\n",
       "<path fill=\"none\" stroke=\"black\" d=\"M549.658,-174.207C540.221,-161.866 527.243,-144.894 516.593,-130.967\"/>\r\n",
       "<polygon fill=\"black\" stroke=\"black\" points=\"519.17,-128.576 510.315,-122.758 513.61,-132.828 519.17,-128.576\"/>\r\n",
       "<text text-anchor=\"middle\" x=\"543.5\" y=\"-144.8\" font-family=\"Times New Roman,serif\" font-size=\"14.00\">No</text>\r\n",
       "</g>\r\n",
       "<!-- 34 -->\r\n",
       "<g id=\"node35\" class=\"node\"><title>34</title>\r\n",
       "<ellipse fill=\"none\" stroke=\"black\" cx=\"655.5\" cy=\"-105\" rx=\"70.3881\" ry=\"18\"/>\r\n",
       "<text text-anchor=\"middle\" x=\"655.5\" y=\"-101.3\" font-family=\"Times New Roman,serif\" font-size=\"14.00\">2, value&gt;122706</text>\r\n",
       "</g>\r\n",
       "<!-- 16&#45;&gt;34 -->\r\n",
       "<g id=\"edge34\" class=\"edge\"><title>16&#45;&gt;34</title>\r\n",
       "<path fill=\"none\" stroke=\"black\" d=\"M580.874,-174.207C594.848,-161.435 614.251,-143.701 629.769,-129.518\"/>\r\n",
       "<polygon fill=\"black\" stroke=\"black\" points=\"632.461,-131.799 637.481,-122.469 627.738,-126.632 632.461,-131.799\"/>\r\n",
       "<text text-anchor=\"middle\" x=\"626.5\" y=\"-144.8\" font-family=\"Times New Roman,serif\" font-size=\"14.00\">Yes</text>\r\n",
       "</g>\r\n",
       "<!-- 35 -->\r\n",
       "<g id=\"node36\" class=\"node\"><title>35</title>\r\n",
       "<ellipse fill=\"none\" stroke=\"black\" cx=\"912.5\" cy=\"-105\" rx=\"70.3881\" ry=\"18\"/>\r\n",
       "<text text-anchor=\"middle\" x=\"912.5\" y=\"-101.3\" font-family=\"Times New Roman,serif\" font-size=\"14.00\">2, value&gt;122706</text>\r\n",
       "</g>\r\n",
       "<!-- 17&#45;&gt;35 -->\r\n",
       "<g id=\"edge35\" class=\"edge\"><title>17&#45;&gt;35</title>\r\n",
       "<path fill=\"none\" stroke=\"black\" d=\"M1044.34,-175.607C1018.1,-161.75 979.351,-141.294 950.648,-126.14\"/>\r\n",
       "<polygon fill=\"black\" stroke=\"black\" points=\"952.188,-122.995 941.711,-121.422 948.92,-129.186 952.188,-122.995\"/>\r\n",
       "<text text-anchor=\"middle\" x=\"1012.5\" y=\"-144.8\" font-family=\"Times New Roman,serif\" font-size=\"14.00\">No</text>\r\n",
       "</g>\r\n",
       "<!-- 36 -->\r\n",
       "<g id=\"node37\" class=\"node\"><title>36</title>\r\n",
       "<ellipse fill=\"none\" stroke=\"black\" cx=\"1073.5\" cy=\"-105\" rx=\"70.3881\" ry=\"18\"/>\r\n",
       "<text text-anchor=\"middle\" x=\"1073.5\" y=\"-101.3\" font-family=\"Times New Roman,serif\" font-size=\"14.00\">2, value&gt;122706</text>\r\n",
       "</g>\r\n",
       "<!-- 17&#45;&gt;36 -->\r\n",
       "<g id=\"edge36\" class=\"edge\"><title>17&#45;&gt;36</title>\r\n",
       "<path fill=\"none\" stroke=\"black\" d=\"M1073.5,-173.799C1073.5,-162.163 1073.5,-146.548 1073.5,-133.237\"/>\r\n",
       "<polygon fill=\"black\" stroke=\"black\" points=\"1077,-133.175 1073.5,-123.175 1070,-133.175 1077,-133.175\"/>\r\n",
       "<text text-anchor=\"middle\" x=\"1084.5\" y=\"-144.8\" font-family=\"Times New Roman,serif\" font-size=\"14.00\">Yes</text>\r\n",
       "</g>\r\n",
       "<!-- 37 -->\r\n",
       "<g id=\"node38\" class=\"node\"><title>37</title>\r\n",
       "<ellipse fill=\"none\" stroke=\"black\" cx=\"1236.5\" cy=\"-105\" rx=\"70.3881\" ry=\"18\"/>\r\n",
       "<text text-anchor=\"middle\" x=\"1236.5\" y=\"-101.3\" font-family=\"Times New Roman,serif\" font-size=\"14.00\">2, value&gt;122706</text>\r\n",
       "</g>\r\n",
       "<!-- 18&#45;&gt;37 -->\r\n",
       "<g id=\"edge37\" class=\"edge\"><title>18&#45;&gt;37</title>\r\n",
       "<path fill=\"none\" stroke=\"black\" d=\"M1236.5,-173.799C1236.5,-162.163 1236.5,-146.548 1236.5,-133.237\"/>\r\n",
       "<polygon fill=\"black\" stroke=\"black\" points=\"1240,-133.175 1236.5,-123.175 1233,-133.175 1240,-133.175\"/>\r\n",
       "<text text-anchor=\"middle\" x=\"1245.5\" y=\"-144.8\" font-family=\"Times New Roman,serif\" font-size=\"14.00\">No</text>\r\n",
       "</g>\r\n",
       "<!-- 38 -->\r\n",
       "<g id=\"node39\" class=\"node\"><title>38</title>\r\n",
       "<ellipse fill=\"none\" stroke=\"black\" cx=\"1397.5\" cy=\"-105\" rx=\"70.3881\" ry=\"18\"/>\r\n",
       "<text text-anchor=\"middle\" x=\"1397.5\" y=\"-101.3\" font-family=\"Times New Roman,serif\" font-size=\"14.00\">2, value&gt;122706</text>\r\n",
       "</g>\r\n",
       "<!-- 18&#45;&gt;38 -->\r\n",
       "<g id=\"edge38\" class=\"edge\"><title>18&#45;&gt;38</title>\r\n",
       "<path fill=\"none\" stroke=\"black\" d=\"M1265.66,-175.607C1291.9,-161.75 1330.65,-141.294 1359.35,-126.14\"/>\r\n",
       "<polygon fill=\"black\" stroke=\"black\" points=\"1361.08,-129.186 1368.29,-121.422 1357.81,-122.995 1361.08,-129.186\"/>\r\n",
       "<text text-anchor=\"middle\" x=\"1338.5\" y=\"-144.8\" font-family=\"Times New Roman,serif\" font-size=\"14.00\">Yes</text>\r\n",
       "</g>\r\n",
       "<!-- 39 -->\r\n",
       "<g id=\"node40\" class=\"node\"><title>39</title>\r\n",
       "<ellipse fill=\"none\" stroke=\"black\" cx=\"1688.5\" cy=\"-105\" rx=\"70.3881\" ry=\"18\"/>\r\n",
       "<text text-anchor=\"middle\" x=\"1688.5\" y=\"-101.3\" font-family=\"Times New Roman,serif\" font-size=\"14.00\">2, value&gt;122706</text>\r\n",
       "</g>\r\n",
       "<!-- 19&#45;&gt;39 -->\r\n",
       "<g id=\"edge39\" class=\"edge\"><title>19&#45;&gt;39</title>\r\n",
       "<path fill=\"none\" stroke=\"black\" d=\"M1827.71,-175.607C1799.79,-161.646 1758.48,-140.988 1728.1,-125.802\"/>\r\n",
       "<polygon fill=\"black\" stroke=\"black\" points=\"1729.57,-122.62 1719.06,-121.278 1726.44,-128.881 1729.57,-122.62\"/>\r\n",
       "<text text-anchor=\"middle\" x=\"1793.5\" y=\"-144.8\" font-family=\"Times New Roman,serif\" font-size=\"14.00\">No</text>\r\n",
       "</g>\r\n",
       "<!-- 40 -->\r\n",
       "<g id=\"node41\" class=\"node\"><title>40</title>\r\n",
       "<ellipse fill=\"none\" stroke=\"black\" cx=\"1858.5\" cy=\"-105\" rx=\"70.3881\" ry=\"18\"/>\r\n",
       "<text text-anchor=\"middle\" x=\"1858.5\" y=\"-101.3\" font-family=\"Times New Roman,serif\" font-size=\"14.00\">2, value&gt;122706</text>\r\n",
       "</g>\r\n",
       "<!-- 19&#45;&gt;40 -->\r\n",
       "<g id=\"edge40\" class=\"edge\"><title>19&#45;&gt;40</title>\r\n",
       "<path fill=\"none\" stroke=\"black\" d=\"M1858.5,-173.799C1858.5,-162.163 1858.5,-146.548 1858.5,-133.237\"/>\r\n",
       "<polygon fill=\"black\" stroke=\"black\" points=\"1862,-133.175 1858.5,-123.175 1855,-133.175 1862,-133.175\"/>\r\n",
       "<text text-anchor=\"middle\" x=\"1869.5\" y=\"-144.8\" font-family=\"Times New Roman,serif\" font-size=\"14.00\">Yes</text>\r\n",
       "</g>\r\n",
       "<!-- 41 -->\r\n",
       "<g id=\"node42\" class=\"node\"><title>41</title>\r\n",
       "<ellipse fill=\"none\" stroke=\"black\" cx=\"2027.5\" cy=\"-105\" rx=\"70.3881\" ry=\"18\"/>\r\n",
       "<text text-anchor=\"middle\" x=\"2027.5\" y=\"-101.3\" font-family=\"Times New Roman,serif\" font-size=\"14.00\">2, value&gt;122706</text>\r\n",
       "</g>\r\n",
       "<!-- 20&#45;&gt;41 -->\r\n",
       "<g id=\"edge41\" class=\"edge\"><title>20&#45;&gt;41</title>\r\n",
       "<path fill=\"none\" stroke=\"black\" d=\"M2027.5,-173.799C2027.5,-162.163 2027.5,-146.548 2027.5,-133.237\"/>\r\n",
       "<polygon fill=\"black\" stroke=\"black\" points=\"2031,-133.175 2027.5,-123.175 2024,-133.175 2031,-133.175\"/>\r\n",
       "<text text-anchor=\"middle\" x=\"2036.5\" y=\"-144.8\" font-family=\"Times New Roman,serif\" font-size=\"14.00\">No</text>\r\n",
       "</g>\r\n",
       "<!-- 42 -->\r\n",
       "<g id=\"node43\" class=\"node\"><title>42</title>\r\n",
       "<ellipse fill=\"none\" stroke=\"black\" cx=\"2185.5\" cy=\"-105\" rx=\"70.3881\" ry=\"18\"/>\r\n",
       "<text text-anchor=\"middle\" x=\"2185.5\" y=\"-101.3\" font-family=\"Times New Roman,serif\" font-size=\"14.00\">2, value&gt;122706</text>\r\n",
       "</g>\r\n",
       "<!-- 20&#45;&gt;42 -->\r\n",
       "<g id=\"edge42\" class=\"edge\"><title>20&#45;&gt;42</title>\r\n",
       "<path fill=\"none\" stroke=\"black\" d=\"M2056.48,-175.41C2082.09,-161.631 2119.62,-141.441 2147.61,-126.384\"/>\r\n",
       "<polygon fill=\"black\" stroke=\"black\" points=\"2149.56,-129.311 2156.7,-121.491 2146.24,-123.147 2149.56,-129.311\"/>\r\n",
       "<text text-anchor=\"middle\" x=\"2127.5\" y=\"-144.8\" font-family=\"Times New Roman,serif\" font-size=\"14.00\">Yes</text>\r\n",
       "</g>\r\n",
       "<!-- 43 -->\r\n",
       "<g id=\"node44\" class=\"node\"><title>43</title>\r\n",
       "<ellipse fill=\"none\" stroke=\"black\" cx=\"2430.5\" cy=\"-105\" rx=\"70.3881\" ry=\"18\"/>\r\n",
       "<text text-anchor=\"middle\" x=\"2430.5\" y=\"-101.3\" font-family=\"Times New Roman,serif\" font-size=\"14.00\">2, value&gt;122706</text>\r\n",
       "</g>\r\n",
       "<!-- 21&#45;&gt;43 -->\r\n",
       "<g id=\"edge43\" class=\"edge\"><title>21&#45;&gt;43</title>\r\n",
       "<path fill=\"none\" stroke=\"black\" d=\"M2470.38,-173.799C2463.29,-161.738 2453.68,-145.403 2445.67,-131.79\"/>\r\n",
       "<polygon fill=\"black\" stroke=\"black\" points=\"2448.52,-129.73 2440.43,-122.885 2442.49,-133.279 2448.52,-129.73\"/>\r\n",
       "<text text-anchor=\"middle\" x=\"2467.5\" y=\"-144.8\" font-family=\"Times New Roman,serif\" font-size=\"14.00\">No</text>\r\n",
       "</g>\r\n",
       "<!-- 44 -->\r\n",
       "<g id=\"node45\" class=\"node\"><title>44</title>\r\n",
       "<ellipse fill=\"none\" stroke=\"black\" cx=\"2588.5\" cy=\"-105\" rx=\"70.3881\" ry=\"18\"/>\r\n",
       "<text text-anchor=\"middle\" x=\"2588.5\" y=\"-101.3\" font-family=\"Times New Roman,serif\" font-size=\"14.00\">2, value&gt;122706</text>\r\n",
       "</g>\r\n",
       "<!-- 21&#45;&gt;44 -->\r\n",
       "<g id=\"edge44\" class=\"edge\"><title>21&#45;&gt;44</title>\r\n",
       "<path fill=\"none\" stroke=\"black\" d=\"M2501.32,-174.611C2517.91,-161.559 2541.31,-143.141 2559.69,-128.674\"/>\r\n",
       "<polygon fill=\"black\" stroke=\"black\" points=\"2562.05,-131.274 2567.74,-122.339 2557.72,-125.773 2562.05,-131.274\"/>\r\n",
       "<text text-anchor=\"middle\" x=\"2552.5\" y=\"-144.8\" font-family=\"Times New Roman,serif\" font-size=\"14.00\">Yes</text>\r\n",
       "</g>\r\n",
       "<!-- 45 -->\r\n",
       "<g id=\"node46\" class=\"node\"><title>45</title>\r\n",
       "<ellipse fill=\"none\" stroke=\"black\" cx=\"2773.5\" cy=\"-105\" rx=\"70.3881\" ry=\"18\"/>\r\n",
       "<text text-anchor=\"middle\" x=\"2773.5\" y=\"-101.3\" font-family=\"Times New Roman,serif\" font-size=\"14.00\">2, value&gt;122706</text>\r\n",
       "</g>\r\n",
       "<!-- 22&#45;&gt;45 -->\r\n",
       "<g id=\"edge45\" class=\"edge\"><title>22&#45;&gt;45</title>\r\n",
       "<path fill=\"none\" stroke=\"black\" d=\"M2773.5,-173.799C2773.5,-162.163 2773.5,-146.548 2773.5,-133.237\"/>\r\n",
       "<polygon fill=\"black\" stroke=\"black\" points=\"2777,-133.175 2773.5,-123.175 2770,-133.175 2777,-133.175\"/>\r\n",
       "<text text-anchor=\"middle\" x=\"2782.5\" y=\"-144.8\" font-family=\"Times New Roman,serif\" font-size=\"14.00\">No</text>\r\n",
       "</g>\r\n",
       "<!-- 46 -->\r\n",
       "<g id=\"node47\" class=\"node\"><title>46</title>\r\n",
       "<ellipse fill=\"none\" stroke=\"black\" cx=\"2949.5\" cy=\"-105\" rx=\"70.3881\" ry=\"18\"/>\r\n",
       "<text text-anchor=\"middle\" x=\"2949.5\" y=\"-101.3\" font-family=\"Times New Roman,serif\" font-size=\"14.00\">2, value&gt;122706</text>\r\n",
       "</g>\r\n",
       "<!-- 22&#45;&gt;46 -->\r\n",
       "<g id=\"edge46\" class=\"edge\"><title>22&#45;&gt;46</title>\r\n",
       "<path fill=\"none\" stroke=\"black\" d=\"M2804.97,-175.804C2833.91,-161.826 2877,-141.015 2908.6,-125.752\"/>\r\n",
       "<polygon fill=\"black\" stroke=\"black\" points=\"2910.53,-128.708 2918.01,-121.208 2907.48,-122.405 2910.53,-128.708\"/>\r\n",
       "<text text-anchor=\"middle\" x=\"2883.5\" y=\"-144.8\" font-family=\"Times New Roman,serif\" font-size=\"14.00\">Yes</text>\r\n",
       "</g>\r\n",
       "<!-- 47 -->\r\n",
       "<g id=\"node48\" class=\"node\"><title>47</title>\r\n",
       "<ellipse fill=\"none\" stroke=\"black\" cx=\"3240.5\" cy=\"-105\" rx=\"70.3881\" ry=\"18\"/>\r\n",
       "<text text-anchor=\"middle\" x=\"3240.5\" y=\"-101.3\" font-family=\"Times New Roman,serif\" font-size=\"14.00\">2, value&gt;122706</text>\r\n",
       "</g>\r\n",
       "<!-- 23&#45;&gt;47 -->\r\n",
       "<g id=\"edge47\" class=\"edge\"><title>23&#45;&gt;47</title>\r\n",
       "<path fill=\"none\" stroke=\"black\" d=\"M3385.03,-175.804C3356.09,-161.826 3313,-141.015 3281.4,-125.752\"/>\r\n",
       "<polygon fill=\"black\" stroke=\"black\" points=\"3282.52,-122.405 3271.99,-121.208 3279.47,-128.708 3282.52,-122.405\"/>\r\n",
       "<text text-anchor=\"middle\" x=\"3348.5\" y=\"-144.8\" font-family=\"Times New Roman,serif\" font-size=\"14.00\">No</text>\r\n",
       "</g>\r\n",
       "<!-- 48 -->\r\n",
       "<g id=\"node49\" class=\"node\"><title>48</title>\r\n",
       "<ellipse fill=\"none\" stroke=\"black\" cx=\"3416.5\" cy=\"-105\" rx=\"70.3881\" ry=\"18\"/>\r\n",
       "<text text-anchor=\"middle\" x=\"3416.5\" y=\"-101.3\" font-family=\"Times New Roman,serif\" font-size=\"14.00\">2, value&gt;122706</text>\r\n",
       "</g>\r\n",
       "<!-- 23&#45;&gt;48 -->\r\n",
       "<g id=\"edge48\" class=\"edge\"><title>23&#45;&gt;48</title>\r\n",
       "<path fill=\"none\" stroke=\"black\" d=\"M3416.5,-173.799C3416.5,-162.163 3416.5,-146.548 3416.5,-133.237\"/>\r\n",
       "<polygon fill=\"black\" stroke=\"black\" points=\"3420,-133.175 3416.5,-123.175 3413,-133.175 3420,-133.175\"/>\r\n",
       "<text text-anchor=\"middle\" x=\"3427.5\" y=\"-144.8\" font-family=\"Times New Roman,serif\" font-size=\"14.00\">Yes</text>\r\n",
       "</g>\r\n",
       "<!-- 49 -->\r\n",
       "<g id=\"node50\" class=\"node\"><title>49</title>\r\n",
       "<ellipse fill=\"none\" stroke=\"black\" cx=\"3610.5\" cy=\"-105\" rx=\"70.3881\" ry=\"18\"/>\r\n",
       "<text text-anchor=\"middle\" x=\"3610.5\" y=\"-101.3\" font-family=\"Times New Roman,serif\" font-size=\"14.00\">2, value&gt;122706</text>\r\n",
       "</g>\r\n",
       "<!-- 24&#45;&gt;49 -->\r\n",
       "<g id=\"edge49\" class=\"edge\"><title>24&#45;&gt;49</title>\r\n",
       "<path fill=\"none\" stroke=\"black\" d=\"M3673.09,-174.207C3661.55,-161.633 3645.6,-144.252 3632.69,-130.182\"/>\r\n",
       "<polygon fill=\"black\" stroke=\"black\" points=\"3635.22,-127.76 3625.88,-122.758 3630.06,-132.493 3635.22,-127.76\"/>\r\n",
       "<text text-anchor=\"middle\" x=\"3663.5\" y=\"-144.8\" font-family=\"Times New Roman,serif\" font-size=\"14.00\">No</text>\r\n",
       "</g>\r\n",
       "<!-- 50 -->\r\n",
       "<g id=\"node51\" class=\"node\"><title>50</title>\r\n",
       "<ellipse fill=\"none\" stroke=\"black\" cx=\"3768.5\" cy=\"-105\" rx=\"70.3881\" ry=\"18\"/>\r\n",
       "<text text-anchor=\"middle\" x=\"3768.5\" y=\"-101.3\" font-family=\"Times New Roman,serif\" font-size=\"14.00\">2, value&gt;122706</text>\r\n",
       "</g>\r\n",
       "<!-- 24&#45;&gt;50 -->\r\n",
       "<g id=\"edge50\" class=\"edge\"><title>24&#45;&gt;50</title>\r\n",
       "<path fill=\"none\" stroke=\"black\" d=\"M3704.31,-174.207C3716.14,-161.633 3732.5,-144.252 3745.74,-130.182\"/>\r\n",
       "<polygon fill=\"black\" stroke=\"black\" points=\"3748.42,-132.439 3752.73,-122.758 3743.33,-127.642 3748.42,-132.439\"/>\r\n",
       "<text text-anchor=\"middle\" x=\"3744.5\" y=\"-144.8\" font-family=\"Times New Roman,serif\" font-size=\"14.00\">Yes</text>\r\n",
       "</g>\r\n",
       "<!-- 51 -->\r\n",
       "<g id=\"node52\" class=\"node\"><title>51</title>\r\n",
       "<ellipse fill=\"none\" stroke=\"black\" cx=\"3982.5\" cy=\"-105\" rx=\"70.3881\" ry=\"18\"/>\r\n",
       "<text text-anchor=\"middle\" x=\"3982.5\" y=\"-101.3\" font-family=\"Times New Roman,serif\" font-size=\"14.00\">2, value&gt;122706</text>\r\n",
       "</g>\r\n",
       "<!-- 25&#45;&gt;51 -->\r\n",
       "<g id=\"edge51\" class=\"edge\"><title>25&#45;&gt;51</title>\r\n",
       "<path fill=\"none\" stroke=\"black\" d=\"M4022.38,-173.799C4015.29,-161.738 4005.68,-145.403 3997.67,-131.79\"/>\r\n",
       "<polygon fill=\"black\" stroke=\"black\" points=\"4000.52,-129.73 3992.43,-122.885 3994.49,-133.279 4000.52,-129.73\"/>\r\n",
       "<text text-anchor=\"middle\" x=\"4019.5\" y=\"-144.8\" font-family=\"Times New Roman,serif\" font-size=\"14.00\">No</text>\r\n",
       "</g>\r\n",
       "<!-- 52 -->\r\n",
       "<g id=\"node53\" class=\"node\"><title>52</title>\r\n",
       "<ellipse fill=\"none\" stroke=\"black\" cx=\"4140.5\" cy=\"-105\" rx=\"70.3881\" ry=\"18\"/>\r\n",
       "<text text-anchor=\"middle\" x=\"4140.5\" y=\"-101.3\" font-family=\"Times New Roman,serif\" font-size=\"14.00\">2, value&gt;122706</text>\r\n",
       "</g>\r\n",
       "<!-- 25&#45;&gt;52 -->\r\n",
       "<g id=\"edge52\" class=\"edge\"><title>25&#45;&gt;52</title>\r\n",
       "<path fill=\"none\" stroke=\"black\" d=\"M4053.32,-174.611C4069.91,-161.559 4093.31,-143.141 4111.69,-128.674\"/>\r\n",
       "<polygon fill=\"black\" stroke=\"black\" points=\"4114.05,-131.274 4119.74,-122.339 4109.72,-125.773 4114.05,-131.274\"/>\r\n",
       "<text text-anchor=\"middle\" x=\"4104.5\" y=\"-144.8\" font-family=\"Times New Roman,serif\" font-size=\"14.00\">Yes</text>\r\n",
       "</g>\r\n",
       "<!-- 53 -->\r\n",
       "<g id=\"node54\" class=\"node\"><title>53</title>\r\n",
       "<ellipse fill=\"none\" stroke=\"black\" cx=\"4325.5\" cy=\"-105\" rx=\"70.3881\" ry=\"18\"/>\r\n",
       "<text text-anchor=\"middle\" x=\"4325.5\" y=\"-101.3\" font-family=\"Times New Roman,serif\" font-size=\"14.00\">2, value&gt;122706</text>\r\n",
       "</g>\r\n",
       "<!-- 26&#45;&gt;53 -->\r\n",
       "<g id=\"edge53\" class=\"edge\"><title>26&#45;&gt;53</title>\r\n",
       "<path fill=\"none\" stroke=\"black\" d=\"M4325.5,-173.799C4325.5,-162.163 4325.5,-146.548 4325.5,-133.237\"/>\r\n",
       "<polygon fill=\"black\" stroke=\"black\" points=\"4329,-133.175 4325.5,-123.175 4322,-133.175 4329,-133.175\"/>\r\n",
       "<text text-anchor=\"middle\" x=\"4334.5\" y=\"-144.8\" font-family=\"Times New Roman,serif\" font-size=\"14.00\">No</text>\r\n",
       "</g>\r\n",
       "<!-- 54 -->\r\n",
       "<g id=\"node55\" class=\"node\"><title>54</title>\r\n",
       "<ellipse fill=\"none\" stroke=\"black\" cx=\"4501.5\" cy=\"-105\" rx=\"70.3881\" ry=\"18\"/>\r\n",
       "<text text-anchor=\"middle\" x=\"4501.5\" y=\"-101.3\" font-family=\"Times New Roman,serif\" font-size=\"14.00\">2, value&gt;122706</text>\r\n",
       "</g>\r\n",
       "<!-- 26&#45;&gt;54 -->\r\n",
       "<g id=\"edge54\" class=\"edge\"><title>26&#45;&gt;54</title>\r\n",
       "<path fill=\"none\" stroke=\"black\" d=\"M4356.97,-175.804C4385.91,-161.826 4429,-141.015 4460.6,-125.752\"/>\r\n",
       "<polygon fill=\"black\" stroke=\"black\" points=\"4462.53,-128.708 4470.01,-121.208 4459.48,-122.405 4462.53,-128.708\"/>\r\n",
       "<text text-anchor=\"middle\" x=\"4435.5\" y=\"-144.8\" font-family=\"Times New Roman,serif\" font-size=\"14.00\">Yes</text>\r\n",
       "</g>\r\n",
       "<!-- 55 -->\r\n",
       "<g id=\"node56\" class=\"node\"><title>55</title>\r\n",
       "<ellipse fill=\"none\" stroke=\"black\" cx=\"4792.5\" cy=\"-105\" rx=\"70.3881\" ry=\"18\"/>\r\n",
       "<text text-anchor=\"middle\" x=\"4792.5\" y=\"-101.3\" font-family=\"Times New Roman,serif\" font-size=\"14.00\">2, value&gt;122706</text>\r\n",
       "</g>\r\n",
       "<!-- 27&#45;&gt;55 -->\r\n",
       "<g id=\"edge55\" class=\"edge\"><title>27&#45;&gt;55</title>\r\n",
       "<path fill=\"none\" stroke=\"black\" d=\"M4925.98,-175.607C4899.41,-161.75 4860.18,-141.294 4831.12,-126.14\"/>\r\n",
       "<polygon fill=\"black\" stroke=\"black\" points=\"4832.56,-122.942 4822.07,-121.422 4829.32,-129.149 4832.56,-122.942\"/>\r\n",
       "<text text-anchor=\"middle\" x=\"4893.5\" y=\"-144.8\" font-family=\"Times New Roman,serif\" font-size=\"14.00\">No</text>\r\n",
       "</g>\r\n",
       "<!-- 56 -->\r\n",
       "<g id=\"node57\" class=\"node\"><title>56</title>\r\n",
       "<ellipse fill=\"none\" stroke=\"black\" cx=\"4955.5\" cy=\"-105\" rx=\"70.3881\" ry=\"18\"/>\r\n",
       "<text text-anchor=\"middle\" x=\"4955.5\" y=\"-101.3\" font-family=\"Times New Roman,serif\" font-size=\"14.00\">2, value&gt;122706</text>\r\n",
       "</g>\r\n",
       "<!-- 27&#45;&gt;56 -->\r\n",
       "<g id=\"edge56\" class=\"edge\"><title>27&#45;&gt;56</title>\r\n",
       "<path fill=\"none\" stroke=\"black\" d=\"M4955.5,-173.799C4955.5,-162.163 4955.5,-146.548 4955.5,-133.237\"/>\r\n",
       "<polygon fill=\"black\" stroke=\"black\" points=\"4959,-133.175 4955.5,-123.175 4952,-133.175 4959,-133.175\"/>\r\n",
       "<text text-anchor=\"middle\" x=\"4966.5\" y=\"-144.8\" font-family=\"Times New Roman,serif\" font-size=\"14.00\">Yes</text>\r\n",
       "</g>\r\n",
       "<!-- 57 -->\r\n",
       "<g id=\"node58\" class=\"node\"><title>57</title>\r\n",
       "<ellipse fill=\"none\" stroke=\"black\" cx=\"5116.5\" cy=\"-105\" rx=\"70.3881\" ry=\"18\"/>\r\n",
       "<text text-anchor=\"middle\" x=\"5116.5\" y=\"-101.3\" font-family=\"Times New Roman,serif\" font-size=\"14.00\">2, value&gt;122706</text>\r\n",
       "</g>\r\n",
       "<!-- 28&#45;&gt;57 -->\r\n",
       "<g id=\"edge57\" class=\"edge\"><title>28&#45;&gt;57</title>\r\n",
       "<path fill=\"none\" stroke=\"black\" d=\"M5116.5,-173.799C5116.5,-162.163 5116.5,-146.548 5116.5,-133.237\"/>\r\n",
       "<polygon fill=\"black\" stroke=\"black\" points=\"5120,-133.175 5116.5,-123.175 5113,-133.175 5120,-133.175\"/>\r\n",
       "<text text-anchor=\"middle\" x=\"5125.5\" y=\"-144.8\" font-family=\"Times New Roman,serif\" font-size=\"14.00\">No</text>\r\n",
       "</g>\r\n",
       "<!-- 58 -->\r\n",
       "<g id=\"node59\" class=\"node\"><title>58</title>\r\n",
       "<ellipse fill=\"none\" stroke=\"black\" cx=\"5277.5\" cy=\"-105\" rx=\"70.3881\" ry=\"18\"/>\r\n",
       "<text text-anchor=\"middle\" x=\"5277.5\" y=\"-101.3\" font-family=\"Times New Roman,serif\" font-size=\"14.00\">2, value&gt;122706</text>\r\n",
       "</g>\r\n",
       "<!-- 28&#45;&gt;58 -->\r\n",
       "<g id=\"edge58\" class=\"edge\"><title>28&#45;&gt;58</title>\r\n",
       "<path fill=\"none\" stroke=\"black\" d=\"M5145.66,-175.607C5171.9,-161.75 5210.65,-141.294 5239.35,-126.14\"/>\r\n",
       "<polygon fill=\"black\" stroke=\"black\" points=\"5241.08,-129.186 5248.29,-121.422 5237.81,-122.995 5241.08,-129.186\"/>\r\n",
       "<text text-anchor=\"middle\" x=\"5218.5\" y=\"-144.8\" font-family=\"Times New Roman,serif\" font-size=\"14.00\">Yes</text>\r\n",
       "</g>\r\n",
       "<!-- 59 -->\r\n",
       "<g id=\"node60\" class=\"node\"><title>59</title>\r\n",
       "<ellipse fill=\"none\" stroke=\"black\" cx=\"5525.5\" cy=\"-105\" rx=\"70.3881\" ry=\"18\"/>\r\n",
       "<text text-anchor=\"middle\" x=\"5525.5\" y=\"-101.3\" font-family=\"Times New Roman,serif\" font-size=\"14.00\">2, value&gt;122706</text>\r\n",
       "</g>\r\n",
       "<!-- 29&#45;&gt;59 -->\r\n",
       "<g id=\"edge59\" class=\"edge\"><title>29&#45;&gt;59</title>\r\n",
       "<path fill=\"none\" stroke=\"black\" d=\"M5621.03,-174.812C5602.66,-161.578 5576.49,-142.732 5556.19,-128.108\"/>\r\n",
       "<polygon fill=\"black\" stroke=\"black\" points=\"5558.05,-125.133 5547.89,-122.128 5553.96,-130.812 5558.05,-125.133\"/>\r\n",
       "<text text-anchor=\"middle\" x=\"5601.5\" y=\"-144.8\" font-family=\"Times New Roman,serif\" font-size=\"14.00\">No</text>\r\n",
       "</g>\r\n",
       "<!-- 60 -->\r\n",
       "<g id=\"node61\" class=\"node\"><title>60</title>\r\n",
       "<ellipse fill=\"none\" stroke=\"black\" cx=\"5683.5\" cy=\"-105\" rx=\"70.3881\" ry=\"18\"/>\r\n",
       "<text text-anchor=\"middle\" x=\"5683.5\" y=\"-101.3\" font-family=\"Times New Roman,serif\" font-size=\"14.00\">2, value&gt;122706</text>\r\n",
       "</g>\r\n",
       "<!-- 29&#45;&gt;60 -->\r\n",
       "<g id=\"edge60\" class=\"edge\"><title>29&#45;&gt;60</title>\r\n",
       "<path fill=\"none\" stroke=\"black\" d=\"M5651.59,-173.799C5657.22,-161.854 5664.81,-145.717 5671.18,-132.183\"/>\r\n",
       "<polygon fill=\"black\" stroke=\"black\" points=\"5674.46,-133.424 5675.55,-122.885 5668.13,-130.443 5674.46,-133.424\"/>\r\n",
       "<text text-anchor=\"middle\" x=\"5677.5\" y=\"-144.8\" font-family=\"Times New Roman,serif\" font-size=\"14.00\">Yes</text>\r\n",
       "</g>\r\n",
       "<!-- 61 -->\r\n",
       "<g id=\"node62\" class=\"node\"><title>61</title>\r\n",
       "<ellipse fill=\"none\" stroke=\"black\" cx=\"5877.5\" cy=\"-105\" rx=\"70.3881\" ry=\"18\"/>\r\n",
       "<text text-anchor=\"middle\" x=\"5877.5\" y=\"-101.3\" font-family=\"Times New Roman,serif\" font-size=\"14.00\">2, value&gt;122706</text>\r\n",
       "</g>\r\n",
       "<!-- 30&#45;&gt;61 -->\r\n",
       "<g id=\"edge61\" class=\"edge\"><title>30&#45;&gt;61</title>\r\n",
       "<path fill=\"none\" stroke=\"black\" d=\"M5877.5,-173.799C5877.5,-162.163 5877.5,-146.548 5877.5,-133.237\"/>\r\n",
       "<polygon fill=\"black\" stroke=\"black\" points=\"5881,-133.175 5877.5,-123.175 5874,-133.175 5881,-133.175\"/>\r\n",
       "<text text-anchor=\"middle\" x=\"5886.5\" y=\"-144.8\" font-family=\"Times New Roman,serif\" font-size=\"14.00\">No</text>\r\n",
       "</g>\r\n",
       "<!-- 62 -->\r\n",
       "<g id=\"node63\" class=\"node\"><title>62</title>\r\n",
       "<ellipse fill=\"none\" stroke=\"black\" cx=\"6053.5\" cy=\"-105\" rx=\"70.3881\" ry=\"18\"/>\r\n",
       "<text text-anchor=\"middle\" x=\"6053.5\" y=\"-101.3\" font-family=\"Times New Roman,serif\" font-size=\"14.00\">2, value&gt;122706</text>\r\n",
       "</g>\r\n",
       "<!-- 30&#45;&gt;62 -->\r\n",
       "<g id=\"edge62\" class=\"edge\"><title>30&#45;&gt;62</title>\r\n",
       "<path fill=\"none\" stroke=\"black\" d=\"M5908.97,-175.804C5937.91,-161.826 5981,-141.015 6012.6,-125.752\"/>\r\n",
       "<polygon fill=\"black\" stroke=\"black\" points=\"6014.53,-128.708 6022.01,-121.208 6011.48,-122.405 6014.53,-128.708\"/>\r\n",
       "<text text-anchor=\"middle\" x=\"5987.5\" y=\"-144.8\" font-family=\"Times New Roman,serif\" font-size=\"14.00\">Yes</text>\r\n",
       "</g>\r\n",
       "<!-- 63 -->\r\n",
       "<g id=\"node64\" class=\"node\"><title>63</title>\r\n",
       "<polygon fill=\"none\" stroke=\"red\" points=\"79,-36 0,-36 0,-0 79,-0 79,-36\"/>\r\n",
       "<text text-anchor=\"middle\" x=\"39.5\" y=\"-14.3\" font-family=\"Times New Roman,serif\" font-size=\"14.00\">val = 0.193</text>\r\n",
       "</g>\r\n",
       "<!-- 31&#45;&gt;63 -->\r\n",
       "<g id=\"edge63\" class=\"edge\"><title>31&#45;&gt;63</title>\r\n",
       "<path fill=\"none\" stroke=\"black\" d=\"M117.797,-87.6111C103.32,-74.925 83.0598,-57.1709 66.7758,-42.9014\"/>\r\n",
       "<polygon fill=\"black\" stroke=\"black\" points=\"68.9717,-40.172 59.144,-36.2138 64.3583,-45.4367 68.9717,-40.172\"/>\r\n",
       "<text text-anchor=\"middle\" x=\"103.5\" y=\"-57.8\" font-family=\"Times New Roman,serif\" font-size=\"14.00\">No</text>\r\n",
       "</g>\r\n",
       "<!-- 64 -->\r\n",
       "<g id=\"node65\" class=\"node\"><title>64</title>\r\n",
       "<polygon fill=\"none\" stroke=\"red\" points=\"176,-36 97,-36 97,-0 176,-0 176,-36\"/>\r\n",
       "<text text-anchor=\"middle\" x=\"136.5\" y=\"-14.3\" font-family=\"Times New Roman,serif\" font-size=\"14.00\">val = 0.229</text>\r\n",
       "</g>\r\n",
       "<!-- 31&#45;&gt;64 -->\r\n",
       "<g id=\"edge64\" class=\"edge\"><title>31&#45;&gt;64</title>\r\n",
       "<path fill=\"none\" stroke=\"black\" d=\"M136.5,-86.799C136.5,-75.1626 136.5,-59.5479 136.5,-46.2368\"/>\r\n",
       "<polygon fill=\"black\" stroke=\"black\" points=\"140,-46.1754 136.5,-36.1754 133,-46.1755 140,-46.1754\"/>\r\n",
       "<text text-anchor=\"middle\" x=\"147.5\" y=\"-57.8\" font-family=\"Times New Roman,serif\" font-size=\"14.00\">Yes</text>\r\n",
       "</g>\r\n",
       "<!-- 65 -->\r\n",
       "<g id=\"node66\" class=\"node\"><title>65</title>\r\n",
       "<polygon fill=\"none\" stroke=\"red\" points=\"273,-36 194,-36 194,-0 273,-0 273,-36\"/>\r\n",
       "<text text-anchor=\"middle\" x=\"233.5\" y=\"-14.3\" font-family=\"Times New Roman,serif\" font-size=\"14.00\">val = 0.211</text>\r\n",
       "</g>\r\n",
       "<!-- 32&#45;&gt;65 -->\r\n",
       "<g id=\"edge65\" class=\"edge\"><title>32&#45;&gt;65</title>\r\n",
       "<path fill=\"none\" stroke=\"black\" d=\"M296.892,-87.2067C285.282,-74.7151 269.261,-57.4775 256.231,-43.457\"/>\r\n",
       "<polygon fill=\"black\" stroke=\"black\" points=\"258.717,-40.9915 249.346,-36.0493 253.59,-45.757 258.717,-40.9915\"/>\r\n",
       "<text text-anchor=\"middle\" x=\"287.5\" y=\"-57.8\" font-family=\"Times New Roman,serif\" font-size=\"14.00\">No</text>\r\n",
       "</g>\r\n",
       "<!-- 66 -->\r\n",
       "<g id=\"node67\" class=\"node\"><title>66</title>\r\n",
       "<polygon fill=\"none\" stroke=\"red\" points=\"370,-36 291,-36 291,-0 370,-0 370,-36\"/>\r\n",
       "<text text-anchor=\"middle\" x=\"330.5\" y=\"-14.3\" font-family=\"Times New Roman,serif\" font-size=\"14.00\">val = 0.090</text>\r\n",
       "</g>\r\n",
       "<!-- 32&#45;&gt;66 -->\r\n",
       "<g id=\"edge66\" class=\"edge\"><title>32&#45;&gt;66</title>\r\n",
       "<path fill=\"none\" stroke=\"black\" d=\"M316.143,-86.799C318.607,-75.1626 321.913,-59.5479 324.732,-46.2368\"/>\r\n",
       "<polygon fill=\"black\" stroke=\"black\" points=\"328.215,-46.6836 326.863,-36.1754 321.367,-45.2334 328.215,-46.6836\"/>\r\n",
       "<text text-anchor=\"middle\" x=\"334.5\" y=\"-57.8\" font-family=\"Times New Roman,serif\" font-size=\"14.00\">Yes</text>\r\n",
       "</g>\r\n",
       "<!-- 67 -->\r\n",
       "<g id=\"node68\" class=\"node\"><title>67</title>\r\n",
       "<polygon fill=\"none\" stroke=\"red\" points=\"467,-36 388,-36 388,-0 467,-0 467,-36\"/>\r\n",
       "<text text-anchor=\"middle\" x=\"427.5\" y=\"-14.3\" font-family=\"Times New Roman,serif\" font-size=\"14.00\">val = 0.000</text>\r\n",
       "</g>\r\n",
       "<!-- 33&#45;&gt;67 -->\r\n",
       "<g id=\"edge67\" class=\"edge\"><title>33&#45;&gt;67</title>\r\n",
       "<path fill=\"none\" stroke=\"black\" d=\"M483.67,-87.2067C473.478,-74.8308 459.45,-57.7963 447.962,-43.8472\"/>\r\n",
       "<polygon fill=\"black\" stroke=\"black\" points=\"450.599,-41.5437 441.541,-36.0493 445.196,-45.9936 450.599,-41.5437\"/>\r\n",
       "<text text-anchor=\"middle\" x=\"476.5\" y=\"-57.8\" font-family=\"Times New Roman,serif\" font-size=\"14.00\">No</text>\r\n",
       "</g>\r\n",
       "<!-- 68 -->\r\n",
       "<g id=\"node69\" class=\"node\"><title>68</title>\r\n",
       "<polygon fill=\"none\" stroke=\"red\" points=\"564,-36 485,-36 485,-0 564,-0 564,-36\"/>\r\n",
       "<text text-anchor=\"middle\" x=\"524.5\" y=\"-14.3\" font-family=\"Times New Roman,serif\" font-size=\"14.00\">val = 0.166</text>\r\n",
       "</g>\r\n",
       "<!-- 33&#45;&gt;68 -->\r\n",
       "<g id=\"edge68\" class=\"edge\"><title>33&#45;&gt;68</title>\r\n",
       "<path fill=\"none\" stroke=\"black\" d=\"M502.964,-86.799C506.697,-75.0474 511.718,-59.2383 515.974,-45.8421\"/>\r\n",
       "<polygon fill=\"black\" stroke=\"black\" points=\"519.353,-46.7658 519.044,-36.1754 512.681,-44.6466 519.353,-46.7658\"/>\r\n",
       "<text text-anchor=\"middle\" x=\"524.5\" y=\"-57.8\" font-family=\"Times New Roman,serif\" font-size=\"14.00\">Yes</text>\r\n",
       "</g>\r\n",
       "<!-- 69 -->\r\n",
       "<g id=\"node70\" class=\"node\"><title>69</title>\r\n",
       "<polygon fill=\"none\" stroke=\"red\" points=\"661,-36 582,-36 582,-0 661,-0 661,-36\"/>\r\n",
       "<text text-anchor=\"middle\" x=\"621.5\" y=\"-14.3\" font-family=\"Times New Roman,serif\" font-size=\"14.00\">val = 0.000</text>\r\n",
       "</g>\r\n",
       "<!-- 34&#45;&gt;69 -->\r\n",
       "<g id=\"edge69\" class=\"edge\"><title>34&#45;&gt;69</title>\r\n",
       "<path fill=\"none\" stroke=\"black\" d=\"M648.62,-86.799C643.919,-75.0474 637.595,-59.2383 632.237,-45.8421\"/>\r\n",
       "<polygon fill=\"black\" stroke=\"black\" points=\"635.334,-44.1603 628.37,-36.1754 628.834,-46.7601 635.334,-44.1603\"/>\r\n",
       "<text text-anchor=\"middle\" x=\"650.5\" y=\"-57.8\" font-family=\"Times New Roman,serif\" font-size=\"14.00\">No</text>\r\n",
       "</g>\r\n",
       "<!-- 70 -->\r\n",
       "<g id=\"node71\" class=\"node\"><title>70</title>\r\n",
       "<polygon fill=\"none\" stroke=\"red\" points=\"758,-36 679,-36 679,-0 758,-0 758,-36\"/>\r\n",
       "<text text-anchor=\"middle\" x=\"718.5\" y=\"-14.3\" font-family=\"Times New Roman,serif\" font-size=\"14.00\">val = 0.000</text>\r\n",
       "</g>\r\n",
       "<!-- 34&#45;&gt;70 -->\r\n",
       "<g id=\"edge70\" class=\"edge\"><title>34&#45;&gt;70</title>\r\n",
       "<path fill=\"none\" stroke=\"black\" d=\"M667.947,-87.2067C677.034,-74.9464 689.509,-58.1143 699.793,-44.2391\"/>\r\n",
       "<polygon fill=\"black\" stroke=\"black\" points=\"702.721,-46.1673 705.863,-36.0493 697.097,-41.9991 702.721,-46.1673\"/>\r\n",
       "<text text-anchor=\"middle\" x=\"702.5\" y=\"-57.8\" font-family=\"Times New Roman,serif\" font-size=\"14.00\">Yes</text>\r\n",
       "</g>\r\n",
       "<!-- 71 -->\r\n",
       "<g id=\"node72\" class=\"node\"><title>71</title>\r\n",
       "<polygon fill=\"none\" stroke=\"red\" points=\"855,-36 776,-36 776,-0 855,-0 855,-36\"/>\r\n",
       "<text text-anchor=\"middle\" x=\"815.5\" y=\"-14.3\" font-family=\"Times New Roman,serif\" font-size=\"14.00\">val = 0.177</text>\r\n",
       "</g>\r\n",
       "<!-- 35&#45;&gt;71 -->\r\n",
       "<g id=\"edge71\" class=\"edge\"><title>35&#45;&gt;71</title>\r\n",
       "<path fill=\"none\" stroke=\"black\" d=\"M893.797,-87.6111C879.32,-74.925 859.06,-57.1709 842.776,-42.9014\"/>\r\n",
       "<polygon fill=\"black\" stroke=\"black\" points=\"844.972,-40.172 835.144,-36.2138 840.358,-45.4367 844.972,-40.172\"/>\r\n",
       "<text text-anchor=\"middle\" x=\"879.5\" y=\"-57.8\" font-family=\"Times New Roman,serif\" font-size=\"14.00\">No</text>\r\n",
       "</g>\r\n",
       "<!-- 72 -->\r\n",
       "<g id=\"node73\" class=\"node\"><title>72</title>\r\n",
       "<polygon fill=\"none\" stroke=\"red\" points=\"952,-36 873,-36 873,-0 952,-0 952,-36\"/>\r\n",
       "<text text-anchor=\"middle\" x=\"912.5\" y=\"-14.3\" font-family=\"Times New Roman,serif\" font-size=\"14.00\">val = 0.233</text>\r\n",
       "</g>\r\n",
       "<!-- 35&#45;&gt;72 -->\r\n",
       "<g id=\"edge72\" class=\"edge\"><title>35&#45;&gt;72</title>\r\n",
       "<path fill=\"none\" stroke=\"black\" d=\"M912.5,-86.799C912.5,-75.1626 912.5,-59.5479 912.5,-46.2368\"/>\r\n",
       "<polygon fill=\"black\" stroke=\"black\" points=\"916,-46.1754 912.5,-36.1754 909,-46.1755 916,-46.1754\"/>\r\n",
       "<text text-anchor=\"middle\" x=\"923.5\" y=\"-57.8\" font-family=\"Times New Roman,serif\" font-size=\"14.00\">Yes</text>\r\n",
       "</g>\r\n",
       "<!-- 73 -->\r\n",
       "<g id=\"node74\" class=\"node\"><title>73</title>\r\n",
       "<polygon fill=\"none\" stroke=\"red\" points=\"1049,-36 970,-36 970,-0 1049,-0 1049,-36\"/>\r\n",
       "<text text-anchor=\"middle\" x=\"1009.5\" y=\"-14.3\" font-family=\"Times New Roman,serif\" font-size=\"14.00\">val = 0.150</text>\r\n",
       "</g>\r\n",
       "<!-- 36&#45;&gt;73 -->\r\n",
       "<g id=\"edge73\" class=\"edge\"><title>36&#45;&gt;73</title>\r\n",
       "<path fill=\"none\" stroke=\"black\" d=\"M1060.86,-87.2067C1051.62,-74.9464 1038.95,-58.1143 1028.5,-44.2391\"/>\r\n",
       "<polygon fill=\"black\" stroke=\"black\" points=\"1031.15,-41.9328 1022.34,-36.0493 1025.56,-46.1433 1031.15,-41.9328\"/>\r\n",
       "<text text-anchor=\"middle\" x=\"1054.5\" y=\"-57.8\" font-family=\"Times New Roman,serif\" font-size=\"14.00\">No</text>\r\n",
       "</g>\r\n",
       "<!-- 74 -->\r\n",
       "<g id=\"node75\" class=\"node\"><title>74</title>\r\n",
       "<polygon fill=\"none\" stroke=\"red\" points=\"1146,-36 1067,-36 1067,-0 1146,-0 1146,-36\"/>\r\n",
       "<text text-anchor=\"middle\" x=\"1106.5\" y=\"-14.3\" font-family=\"Times New Roman,serif\" font-size=\"14.00\">val = 0.146</text>\r\n",
       "</g>\r\n",
       "<!-- 36&#45;&gt;74 -->\r\n",
       "<g id=\"edge74\" class=\"edge\"><title>36&#45;&gt;74</title>\r\n",
       "<path fill=\"none\" stroke=\"black\" d=\"M1080.18,-86.799C1084.74,-75.0474 1090.88,-59.2383 1096.08,-45.8421\"/>\r\n",
       "<polygon fill=\"black\" stroke=\"black\" points=\"1099.48,-46.7643 1099.83,-36.1754 1092.95,-44.2308 1099.48,-46.7643\"/>\r\n",
       "<text text-anchor=\"middle\" x=\"1103.5\" y=\"-57.8\" font-family=\"Times New Roman,serif\" font-size=\"14.00\">Yes</text>\r\n",
       "</g>\r\n",
       "<!-- 75 -->\r\n",
       "<g id=\"node76\" class=\"node\"><title>75</title>\r\n",
       "<polygon fill=\"none\" stroke=\"red\" points=\"1243,-36 1164,-36 1164,-0 1243,-0 1243,-36\"/>\r\n",
       "<text text-anchor=\"middle\" x=\"1203.5\" y=\"-14.3\" font-family=\"Times New Roman,serif\" font-size=\"14.00\">val = 0.000</text>\r\n",
       "</g>\r\n",
       "<!-- 37&#45;&gt;75 -->\r\n",
       "<g id=\"edge75\" class=\"edge\"><title>37&#45;&gt;75</title>\r\n",
       "<path fill=\"none\" stroke=\"black\" d=\"M1229.82,-86.799C1225.26,-75.0474 1219.12,-59.2383 1213.92,-45.8421\"/>\r\n",
       "<polygon fill=\"black\" stroke=\"black\" points=\"1217.05,-44.2308 1210.17,-36.1754 1210.52,-46.7643 1217.05,-44.2308\"/>\r\n",
       "<text text-anchor=\"middle\" x=\"1231.5\" y=\"-57.8\" font-family=\"Times New Roman,serif\" font-size=\"14.00\">No</text>\r\n",
       "</g>\r\n",
       "<!-- 76 -->\r\n",
       "<g id=\"node77\" class=\"node\"><title>76</title>\r\n",
       "<polygon fill=\"none\" stroke=\"red\" points=\"1340,-36 1261,-36 1261,-0 1340,-0 1340,-36\"/>\r\n",
       "<text text-anchor=\"middle\" x=\"1300.5\" y=\"-14.3\" font-family=\"Times New Roman,serif\" font-size=\"14.00\">val = 0.166</text>\r\n",
       "</g>\r\n",
       "<!-- 37&#45;&gt;76 -->\r\n",
       "<g id=\"edge76\" class=\"edge\"><title>37&#45;&gt;76</title>\r\n",
       "<path fill=\"none\" stroke=\"black\" d=\"M1249.14,-87.2067C1258.38,-74.9464 1271.05,-58.1143 1281.5,-44.2391\"/>\r\n",
       "<polygon fill=\"black\" stroke=\"black\" points=\"1284.44,-46.1433 1287.66,-36.0493 1278.85,-41.9328 1284.44,-46.1433\"/>\r\n",
       "<text text-anchor=\"middle\" x=\"1283.5\" y=\"-57.8\" font-family=\"Times New Roman,serif\" font-size=\"14.00\">Yes</text>\r\n",
       "</g>\r\n",
       "<!-- 77 -->\r\n",
       "<g id=\"node78\" class=\"node\"><title>77</title>\r\n",
       "<polygon fill=\"none\" stroke=\"red\" points=\"1437,-36 1358,-36 1358,-0 1437,-0 1437,-36\"/>\r\n",
       "<text text-anchor=\"middle\" x=\"1397.5\" y=\"-14.3\" font-family=\"Times New Roman,serif\" font-size=\"14.00\">val = 0.000</text>\r\n",
       "</g>\r\n",
       "<!-- 38&#45;&gt;77 -->\r\n",
       "<g id=\"edge77\" class=\"edge\"><title>38&#45;&gt;77</title>\r\n",
       "<path fill=\"none\" stroke=\"black\" d=\"M1397.5,-86.799C1397.5,-75.1626 1397.5,-59.5479 1397.5,-46.2368\"/>\r\n",
       "<polygon fill=\"black\" stroke=\"black\" points=\"1401,-46.1754 1397.5,-36.1754 1394,-46.1755 1401,-46.1754\"/>\r\n",
       "<text text-anchor=\"middle\" x=\"1406.5\" y=\"-57.8\" font-family=\"Times New Roman,serif\" font-size=\"14.00\">No</text>\r\n",
       "</g>\r\n",
       "<!-- 78 -->\r\n",
       "<g id=\"node79\" class=\"node\"><title>78</title>\r\n",
       "<polygon fill=\"none\" stroke=\"red\" points=\"1534,-36 1455,-36 1455,-0 1534,-0 1534,-36\"/>\r\n",
       "<text text-anchor=\"middle\" x=\"1494.5\" y=\"-14.3\" font-family=\"Times New Roman,serif\" font-size=\"14.00\">val = 0.000</text>\r\n",
       "</g>\r\n",
       "<!-- 38&#45;&gt;78 -->\r\n",
       "<g id=\"edge78\" class=\"edge\"><title>38&#45;&gt;78</title>\r\n",
       "<path fill=\"none\" stroke=\"black\" d=\"M1416.2,-87.6111C1430.68,-74.925 1450.94,-57.1709 1467.22,-42.9014\"/>\r\n",
       "<polygon fill=\"black\" stroke=\"black\" points=\"1469.64,-45.4367 1474.86,-36.2138 1465.03,-40.172 1469.64,-45.4367\"/>\r\n",
       "<text text-anchor=\"middle\" x=\"1463.5\" y=\"-57.8\" font-family=\"Times New Roman,serif\" font-size=\"14.00\">Yes</text>\r\n",
       "</g>\r\n",
       "<!-- 79 -->\r\n",
       "<g id=\"node80\" class=\"node\"><title>79</title>\r\n",
       "<polygon fill=\"none\" stroke=\"red\" points=\"1631,-36 1552,-36 1552,-0 1631,-0 1631,-36\"/>\r\n",
       "<text text-anchor=\"middle\" x=\"1591.5\" y=\"-14.3\" font-family=\"Times New Roman,serif\" font-size=\"14.00\">val = 0.200</text>\r\n",
       "</g>\r\n",
       "<!-- 39&#45;&gt;79 -->\r\n",
       "<g id=\"edge79\" class=\"edge\"><title>39&#45;&gt;79</title>\r\n",
       "<path fill=\"none\" stroke=\"black\" d=\"M1669.8,-87.6111C1655.32,-74.925 1635.06,-57.1709 1618.78,-42.9014\"/>\r\n",
       "<polygon fill=\"black\" stroke=\"black\" points=\"1620.97,-40.172 1611.14,-36.2138 1616.36,-45.4367 1620.97,-40.172\"/>\r\n",
       "<text text-anchor=\"middle\" x=\"1655.5\" y=\"-57.8\" font-family=\"Times New Roman,serif\" font-size=\"14.00\">No</text>\r\n",
       "</g>\r\n",
       "<!-- 80 -->\r\n",
       "<g id=\"node81\" class=\"node\"><title>80</title>\r\n",
       "<polygon fill=\"none\" stroke=\"red\" points=\"1728,-36 1649,-36 1649,-0 1728,-0 1728,-36\"/>\r\n",
       "<text text-anchor=\"middle\" x=\"1688.5\" y=\"-14.3\" font-family=\"Times New Roman,serif\" font-size=\"14.00\">val = 0.196</text>\r\n",
       "</g>\r\n",
       "<!-- 39&#45;&gt;80 -->\r\n",
       "<g id=\"edge80\" class=\"edge\"><title>39&#45;&gt;80</title>\r\n",
       "<path fill=\"none\" stroke=\"black\" d=\"M1688.5,-86.799C1688.5,-75.1626 1688.5,-59.5479 1688.5,-46.2368\"/>\r\n",
       "<polygon fill=\"black\" stroke=\"black\" points=\"1692,-46.1754 1688.5,-36.1754 1685,-46.1755 1692,-46.1754\"/>\r\n",
       "<text text-anchor=\"middle\" x=\"1699.5\" y=\"-57.8\" font-family=\"Times New Roman,serif\" font-size=\"14.00\">Yes</text>\r\n",
       "</g>\r\n",
       "<!-- 81 -->\r\n",
       "<g id=\"node82\" class=\"node\"><title>81</title>\r\n",
       "<polygon fill=\"none\" stroke=\"red\" points=\"1825,-36 1746,-36 1746,-0 1825,-0 1825,-36\"/>\r\n",
       "<text text-anchor=\"middle\" x=\"1785.5\" y=\"-14.3\" font-family=\"Times New Roman,serif\" font-size=\"14.00\">val = 0.214</text>\r\n",
       "</g>\r\n",
       "<!-- 40&#45;&gt;81 -->\r\n",
       "<g id=\"edge81\" class=\"edge\"><title>40&#45;&gt;81</title>\r\n",
       "<path fill=\"none\" stroke=\"black\" d=\"M1844.08,-87.2067C1833.45,-74.8308 1818.82,-57.7963 1806.84,-43.8472\"/>\r\n",
       "<polygon fill=\"black\" stroke=\"black\" points=\"1809.31,-41.3553 1800.14,-36.0493 1804,-45.916 1809.31,-41.3553\"/>\r\n",
       "<text text-anchor=\"middle\" x=\"1835.5\" y=\"-57.8\" font-family=\"Times New Roman,serif\" font-size=\"14.00\">No</text>\r\n",
       "</g>\r\n",
       "<!-- 82 -->\r\n",
       "<g id=\"node83\" class=\"node\"><title>82</title>\r\n",
       "<polygon fill=\"none\" stroke=\"red\" points=\"1922,-36 1843,-36 1843,-0 1922,-0 1922,-36\"/>\r\n",
       "<text text-anchor=\"middle\" x=\"1882.5\" y=\"-14.3\" font-family=\"Times New Roman,serif\" font-size=\"14.00\">val = 0.000</text>\r\n",
       "</g>\r\n",
       "<!-- 40&#45;&gt;82 -->\r\n",
       "<g id=\"edge82\" class=\"edge\"><title>40&#45;&gt;82</title>\r\n",
       "<path fill=\"none\" stroke=\"black\" d=\"M1863.36,-86.799C1866.67,-75.0474 1871.14,-59.2383 1874.92,-45.8421\"/>\r\n",
       "<polygon fill=\"black\" stroke=\"black\" points=\"1878.3,-46.7503 1877.65,-36.1754 1871.56,-44.8481 1878.3,-46.7503\"/>\r\n",
       "<text text-anchor=\"middle\" x=\"1883.5\" y=\"-57.8\" font-family=\"Times New Roman,serif\" font-size=\"14.00\">Yes</text>\r\n",
       "</g>\r\n",
       "<!-- 83 -->\r\n",
       "<g id=\"node84\" class=\"node\"><title>83</title>\r\n",
       "<polygon fill=\"none\" stroke=\"red\" points=\"2019,-36 1940,-36 1940,-0 2019,-0 2019,-36\"/>\r\n",
       "<text text-anchor=\"middle\" x=\"1979.5\" y=\"-14.3\" font-family=\"Times New Roman,serif\" font-size=\"14.00\">val = 0.000</text>\r\n",
       "</g>\r\n",
       "<!-- 41&#45;&gt;83 -->\r\n",
       "<g id=\"edge83\" class=\"edge\"><title>41&#45;&gt;83</title>\r\n",
       "<path fill=\"none\" stroke=\"black\" d=\"M2017.79,-86.799C2011.02,-74.8169 2001.87,-58.6168 1994.21,-45.0569\"/>\r\n",
       "<polygon fill=\"black\" stroke=\"black\" points=\"1997.16,-43.1619 1989.2,-36.1754 1991.07,-46.604 1997.16,-43.1619\"/>\r\n",
       "<text text-anchor=\"middle\" x=\"2015.5\" y=\"-57.8\" font-family=\"Times New Roman,serif\" font-size=\"14.00\">No</text>\r\n",
       "</g>\r\n",
       "<!-- 84 -->\r\n",
       "<g id=\"node85\" class=\"node\"><title>84</title>\r\n",
       "<polygon fill=\"none\" stroke=\"red\" points=\"2116,-36 2037,-36 2037,-0 2116,-0 2116,-36\"/>\r\n",
       "<text text-anchor=\"middle\" x=\"2076.5\" y=\"-14.3\" font-family=\"Times New Roman,serif\" font-size=\"14.00\">val = 0.146</text>\r\n",
       "</g>\r\n",
       "<!-- 41&#45;&gt;84 -->\r\n",
       "<g id=\"edge84\" class=\"edge\"><title>41&#45;&gt;84</title>\r\n",
       "<path fill=\"none\" stroke=\"black\" d=\"M2037.42,-86.799C2044.32,-74.8169 2053.66,-58.6168 2061.48,-45.0569\"/>\r\n",
       "<polygon fill=\"black\" stroke=\"black\" points=\"2064.64,-46.587 2066.6,-36.1754 2058.57,-43.091 2064.64,-46.587\"/>\r\n",
       "<text text-anchor=\"middle\" x=\"2066.5\" y=\"-57.8\" font-family=\"Times New Roman,serif\" font-size=\"14.00\">Yes</text>\r\n",
       "</g>\r\n",
       "<!-- 85 -->\r\n",
       "<g id=\"node86\" class=\"node\"><title>85</title>\r\n",
       "<polygon fill=\"none\" stroke=\"red\" points=\"2213,-36 2134,-36 2134,-0 2213,-0 2213,-36\"/>\r\n",
       "<text text-anchor=\"middle\" x=\"2173.5\" y=\"-14.3\" font-family=\"Times New Roman,serif\" font-size=\"14.00\">val = 0.000</text>\r\n",
       "</g>\r\n",
       "<!-- 42&#45;&gt;85 -->\r\n",
       "<g id=\"edge85\" class=\"edge\"><title>42&#45;&gt;85</title>\r\n",
       "<path fill=\"none\" stroke=\"black\" d=\"M2183.07,-86.799C2181.43,-75.1626 2179.22,-59.5479 2177.35,-46.2368\"/>\r\n",
       "<polygon fill=\"black\" stroke=\"black\" points=\"2180.79,-45.588 2175.92,-36.1754 2173.86,-46.5665 2180.79,-45.588\"/>\r\n",
       "<text text-anchor=\"middle\" x=\"2189.5\" y=\"-57.8\" font-family=\"Times New Roman,serif\" font-size=\"14.00\">No</text>\r\n",
       "</g>\r\n",
       "<!-- 86 -->\r\n",
       "<g id=\"node87\" class=\"node\"><title>86</title>\r\n",
       "<polygon fill=\"none\" stroke=\"red\" points=\"2310,-36 2231,-36 2231,-0 2310,-0 2310,-36\"/>\r\n",
       "<text text-anchor=\"middle\" x=\"2270.5\" y=\"-14.3\" font-family=\"Times New Roman,serif\" font-size=\"14.00\">val = 0.000</text>\r\n",
       "</g>\r\n",
       "<!-- 42&#45;&gt;86 -->\r\n",
       "<g id=\"edge86\" class=\"edge\"><title>42&#45;&gt;86</title>\r\n",
       "<path fill=\"none\" stroke=\"black\" d=\"M2202.29,-87.2067C2214.78,-74.7151 2232.02,-57.4775 2246.04,-43.457\"/>\r\n",
       "<polygon fill=\"black\" stroke=\"black\" points=\"2248.85,-45.5953 2253.45,-36.0493 2243.9,-40.6455 2248.85,-45.5953\"/>\r\n",
       "<text text-anchor=\"middle\" x=\"2244.5\" y=\"-57.8\" font-family=\"Times New Roman,serif\" font-size=\"14.00\">Yes</text>\r\n",
       "</g>\r\n",
       "<!-- 87 -->\r\n",
       "<g id=\"node88\" class=\"node\"><title>87</title>\r\n",
       "<polygon fill=\"none\" stroke=\"red\" points=\"2407,-36 2328,-36 2328,-0 2407,-0 2407,-36\"/>\r\n",
       "<text text-anchor=\"middle\" x=\"2367.5\" y=\"-14.3\" font-family=\"Times New Roman,serif\" font-size=\"14.00\">val = 0.194</text>\r\n",
       "</g>\r\n",
       "<!-- 43&#45;&gt;87 -->\r\n",
       "<g id=\"edge87\" class=\"edge\"><title>43&#45;&gt;87</title>\r\n",
       "<path fill=\"none\" stroke=\"black\" d=\"M2418.05,-87.2067C2408.97,-74.9464 2396.49,-58.1143 2386.21,-44.2391\"/>\r\n",
       "<polygon fill=\"black\" stroke=\"black\" points=\"2388.9,-41.9991 2380.14,-36.0493 2383.28,-46.1673 2388.9,-41.9991\"/>\r\n",
       "<text text-anchor=\"middle\" x=\"2412.5\" y=\"-57.8\" font-family=\"Times New Roman,serif\" font-size=\"14.00\">No</text>\r\n",
       "</g>\r\n",
       "<!-- 88 -->\r\n",
       "<g id=\"node89\" class=\"node\"><title>88</title>\r\n",
       "<polygon fill=\"none\" stroke=\"red\" points=\"2504,-36 2425,-36 2425,-0 2504,-0 2504,-36\"/>\r\n",
       "<text text-anchor=\"middle\" x=\"2464.5\" y=\"-14.3\" font-family=\"Times New Roman,serif\" font-size=\"14.00\">val = 0.281</text>\r\n",
       "</g>\r\n",
       "<!-- 43&#45;&gt;88 -->\r\n",
       "<g id=\"edge88\" class=\"edge\"><title>43&#45;&gt;88</title>\r\n",
       "<path fill=\"none\" stroke=\"black\" d=\"M2437.38,-86.799C2442.08,-75.0474 2448.4,-59.2383 2453.76,-45.8421\"/>\r\n",
       "<polygon fill=\"black\" stroke=\"black\" points=\"2457.17,-46.7601 2457.63,-36.1754 2450.67,-44.1603 2457.17,-46.7601\"/>\r\n",
       "<text text-anchor=\"middle\" x=\"2461.5\" y=\"-57.8\" font-family=\"Times New Roman,serif\" font-size=\"14.00\">Yes</text>\r\n",
       "</g>\r\n",
       "<!-- 89 -->\r\n",
       "<g id=\"node90\" class=\"node\"><title>89</title>\r\n",
       "<polygon fill=\"none\" stroke=\"red\" points=\"2601,-36 2522,-36 2522,-0 2601,-0 2601,-36\"/>\r\n",
       "<text text-anchor=\"middle\" x=\"2561.5\" y=\"-14.3\" font-family=\"Times New Roman,serif\" font-size=\"14.00\">val = 0.252</text>\r\n",
       "</g>\r\n",
       "<!-- 44&#45;&gt;89 -->\r\n",
       "<g id=\"edge89\" class=\"edge\"><title>44&#45;&gt;89</title>\r\n",
       "<path fill=\"none\" stroke=\"black\" d=\"M2583.04,-86.799C2579.3,-75.0474 2574.28,-59.2383 2570.03,-45.8421\"/>\r\n",
       "<polygon fill=\"black\" stroke=\"black\" points=\"2573.32,-44.6466 2566.96,-36.1754 2566.65,-46.7658 2573.32,-44.6466\"/>\r\n",
       "<text text-anchor=\"middle\" x=\"2586.5\" y=\"-57.8\" font-family=\"Times New Roman,serif\" font-size=\"14.00\">No</text>\r\n",
       "</g>\r\n",
       "<!-- 90 -->\r\n",
       "<g id=\"node91\" class=\"node\"><title>90</title>\r\n",
       "<polygon fill=\"none\" stroke=\"red\" points=\"2698,-36 2619,-36 2619,-0 2698,-0 2698,-36\"/>\r\n",
       "<text text-anchor=\"middle\" x=\"2658.5\" y=\"-14.3\" font-family=\"Times New Roman,serif\" font-size=\"14.00\">val = 0.000</text>\r\n",
       "</g>\r\n",
       "<!-- 44&#45;&gt;90 -->\r\n",
       "<g id=\"edge90\" class=\"edge\"><title>44&#45;&gt;90</title>\r\n",
       "<path fill=\"none\" stroke=\"black\" d=\"M2602.33,-87.2067C2612.52,-74.8308 2626.55,-57.7963 2638.04,-43.8472\"/>\r\n",
       "<polygon fill=\"black\" stroke=\"black\" points=\"2640.8,-45.9936 2644.46,-36.0493 2635.4,-41.5437 2640.8,-45.9936\"/>\r\n",
       "<text text-anchor=\"middle\" x=\"2639.5\" y=\"-57.8\" font-family=\"Times New Roman,serif\" font-size=\"14.00\">Yes</text>\r\n",
       "</g>\r\n",
       "<!-- 91 -->\r\n",
       "<g id=\"node92\" class=\"node\"><title>91</title>\r\n",
       "<polygon fill=\"none\" stroke=\"red\" points=\"2795,-36 2716,-36 2716,-0 2795,-0 2795,-36\"/>\r\n",
       "<text text-anchor=\"middle\" x=\"2755.5\" y=\"-14.3\" font-family=\"Times New Roman,serif\" font-size=\"14.00\">val = 0.000</text>\r\n",
       "</g>\r\n",
       "<!-- 45&#45;&gt;91 -->\r\n",
       "<g id=\"edge91\" class=\"edge\"><title>45&#45;&gt;91</title>\r\n",
       "<path fill=\"none\" stroke=\"black\" d=\"M2769.86,-86.799C2767.39,-75.1626 2764.09,-59.5479 2761.27,-46.2368\"/>\r\n",
       "<polygon fill=\"black\" stroke=\"black\" points=\"2764.63,-45.2334 2759.14,-36.1754 2757.78,-46.6836 2764.63,-45.2334\"/>\r\n",
       "<text text-anchor=\"middle\" x=\"2775.5\" y=\"-57.8\" font-family=\"Times New Roman,serif\" font-size=\"14.00\">No</text>\r\n",
       "</g>\r\n",
       "<!-- 92 -->\r\n",
       "<g id=\"node93\" class=\"node\"><title>92</title>\r\n",
       "<polygon fill=\"none\" stroke=\"red\" points=\"2892,-36 2813,-36 2813,-0 2892,-0 2892,-36\"/>\r\n",
       "<text text-anchor=\"middle\" x=\"2852.5\" y=\"-14.3\" font-family=\"Times New Roman,serif\" font-size=\"14.00\">val = 0.146</text>\r\n",
       "</g>\r\n",
       "<!-- 45&#45;&gt;92 -->\r\n",
       "<g id=\"edge92\" class=\"edge\"><title>45&#45;&gt;92</title>\r\n",
       "<path fill=\"none\" stroke=\"black\" d=\"M2789.11,-87.2067C2800.72,-74.7151 2816.74,-57.4775 2829.77,-43.457\"/>\r\n",
       "<polygon fill=\"black\" stroke=\"black\" points=\"2832.41,-45.757 2836.65,-36.0493 2827.28,-40.9915 2832.41,-45.757\"/>\r\n",
       "<text text-anchor=\"middle\" x=\"2829.5\" y=\"-57.8\" font-family=\"Times New Roman,serif\" font-size=\"14.00\">Yes</text>\r\n",
       "</g>\r\n",
       "<!-- 93 -->\r\n",
       "<g id=\"node94\" class=\"node\"><title>93</title>\r\n",
       "<polygon fill=\"none\" stroke=\"red\" points=\"2989,-36 2910,-36 2910,-0 2989,-0 2989,-36\"/>\r\n",
       "<text text-anchor=\"middle\" x=\"2949.5\" y=\"-14.3\" font-family=\"Times New Roman,serif\" font-size=\"14.00\">val = 0.000</text>\r\n",
       "</g>\r\n",
       "<!-- 46&#45;&gt;93 -->\r\n",
       "<g id=\"edge93\" class=\"edge\"><title>46&#45;&gt;93</title>\r\n",
       "<path fill=\"none\" stroke=\"black\" d=\"M2949.5,-86.799C2949.5,-75.1626 2949.5,-59.5479 2949.5,-46.2368\"/>\r\n",
       "<polygon fill=\"black\" stroke=\"black\" points=\"2953,-46.1754 2949.5,-36.1754 2946,-46.1755 2953,-46.1754\"/>\r\n",
       "<text text-anchor=\"middle\" x=\"2958.5\" y=\"-57.8\" font-family=\"Times New Roman,serif\" font-size=\"14.00\">No</text>\r\n",
       "</g>\r\n",
       "<!-- 94 -->\r\n",
       "<g id=\"node95\" class=\"node\"><title>94</title>\r\n",
       "<polygon fill=\"none\" stroke=\"red\" points=\"3086,-36 3007,-36 3007,-0 3086,-0 3086,-36\"/>\r\n",
       "<text text-anchor=\"middle\" x=\"3046.5\" y=\"-14.3\" font-family=\"Times New Roman,serif\" font-size=\"14.00\">val = 0.000</text>\r\n",
       "</g>\r\n",
       "<!-- 46&#45;&gt;94 -->\r\n",
       "<g id=\"edge94\" class=\"edge\"><title>46&#45;&gt;94</title>\r\n",
       "<path fill=\"none\" stroke=\"black\" d=\"M2968.2,-87.6111C2982.68,-74.925 3002.94,-57.1709 3019.22,-42.9014\"/>\r\n",
       "<polygon fill=\"black\" stroke=\"black\" points=\"3021.64,-45.4367 3026.86,-36.2138 3017.03,-40.172 3021.64,-45.4367\"/>\r\n",
       "<text text-anchor=\"middle\" x=\"3015.5\" y=\"-57.8\" font-family=\"Times New Roman,serif\" font-size=\"14.00\">Yes</text>\r\n",
       "</g>\r\n",
       "<!-- 95 -->\r\n",
       "<g id=\"node96\" class=\"node\"><title>95</title>\r\n",
       "<polygon fill=\"none\" stroke=\"red\" points=\"3183,-36 3104,-36 3104,-0 3183,-0 3183,-36\"/>\r\n",
       "<text text-anchor=\"middle\" x=\"3143.5\" y=\"-14.3\" font-family=\"Times New Roman,serif\" font-size=\"14.00\">val = 0.000</text>\r\n",
       "</g>\r\n",
       "<!-- 47&#45;&gt;95 -->\r\n",
       "<g id=\"edge95\" class=\"edge\"><title>47&#45;&gt;95</title>\r\n",
       "<path fill=\"none\" stroke=\"black\" d=\"M3221.8,-87.6111C3207.32,-74.925 3187.06,-57.1709 3170.78,-42.9014\"/>\r\n",
       "<polygon fill=\"black\" stroke=\"black\" points=\"3172.97,-40.172 3163.14,-36.2138 3168.36,-45.4367 3172.97,-40.172\"/>\r\n",
       "<text text-anchor=\"middle\" x=\"3207.5\" y=\"-57.8\" font-family=\"Times New Roman,serif\" font-size=\"14.00\">No</text>\r\n",
       "</g>\r\n",
       "<!-- 96 -->\r\n",
       "<g id=\"node97\" class=\"node\"><title>96</title>\r\n",
       "<polygon fill=\"none\" stroke=\"red\" points=\"3280,-36 3201,-36 3201,-0 3280,-0 3280,-36\"/>\r\n",
       "<text text-anchor=\"middle\" x=\"3240.5\" y=\"-14.3\" font-family=\"Times New Roman,serif\" font-size=\"14.00\">val = 0.000</text>\r\n",
       "</g>\r\n",
       "<!-- 47&#45;&gt;96 -->\r\n",
       "<g id=\"edge96\" class=\"edge\"><title>47&#45;&gt;96</title>\r\n",
       "<path fill=\"none\" stroke=\"black\" d=\"M3240.5,-86.799C3240.5,-75.1626 3240.5,-59.5479 3240.5,-46.2368\"/>\r\n",
       "<polygon fill=\"black\" stroke=\"black\" points=\"3244,-46.1754 3240.5,-36.1754 3237,-46.1755 3244,-46.1754\"/>\r\n",
       "<text text-anchor=\"middle\" x=\"3251.5\" y=\"-57.8\" font-family=\"Times New Roman,serif\" font-size=\"14.00\">Yes</text>\r\n",
       "</g>\r\n",
       "<!-- 97 -->\r\n",
       "<g id=\"node98\" class=\"node\"><title>97</title>\r\n",
       "<polygon fill=\"none\" stroke=\"red\" points=\"3377,-36 3298,-36 3298,-0 3377,-0 3377,-36\"/>\r\n",
       "<text text-anchor=\"middle\" x=\"3337.5\" y=\"-14.3\" font-family=\"Times New Roman,serif\" font-size=\"14.00\">val = 0.245</text>\r\n",
       "</g>\r\n",
       "<!-- 48&#45;&gt;97 -->\r\n",
       "<g id=\"edge97\" class=\"edge\"><title>48&#45;&gt;97</title>\r\n",
       "<path fill=\"none\" stroke=\"black\" d=\"M3400.89,-87.2067C3389.28,-74.7151 3373.26,-57.4775 3360.23,-43.457\"/>\r\n",
       "<polygon fill=\"black\" stroke=\"black\" points=\"3362.72,-40.9915 3353.35,-36.0493 3357.59,-45.757 3362.72,-40.9915\"/>\r\n",
       "<text text-anchor=\"middle\" x=\"3391.5\" y=\"-57.8\" font-family=\"Times New Roman,serif\" font-size=\"14.00\">No</text>\r\n",
       "</g>\r\n",
       "<!-- 98 -->\r\n",
       "<g id=\"node99\" class=\"node\"><title>98</title>\r\n",
       "<polygon fill=\"none\" stroke=\"red\" points=\"3474,-36 3395,-36 3395,-0 3474,-0 3474,-36\"/>\r\n",
       "<text text-anchor=\"middle\" x=\"3434.5\" y=\"-14.3\" font-family=\"Times New Roman,serif\" font-size=\"14.00\">val = 0.120</text>\r\n",
       "</g>\r\n",
       "<!-- 48&#45;&gt;98 -->\r\n",
       "<g id=\"edge98\" class=\"edge\"><title>48&#45;&gt;98</title>\r\n",
       "<path fill=\"none\" stroke=\"black\" d=\"M3420.14,-86.799C3422.61,-75.1626 3425.91,-59.5479 3428.73,-46.2368\"/>\r\n",
       "<polygon fill=\"black\" stroke=\"black\" points=\"3432.22,-46.6836 3430.86,-36.1754 3425.37,-45.2334 3432.22,-46.6836\"/>\r\n",
       "<text text-anchor=\"middle\" x=\"3438.5\" y=\"-57.8\" font-family=\"Times New Roman,serif\" font-size=\"14.00\">Yes</text>\r\n",
       "</g>\r\n",
       "<!-- 99 -->\r\n",
       "<g id=\"node100\" class=\"node\"><title>99</title>\r\n",
       "<polygon fill=\"none\" stroke=\"red\" points=\"3571,-36 3492,-36 3492,-0 3571,-0 3571,-36\"/>\r\n",
       "<text text-anchor=\"middle\" x=\"3531.5\" y=\"-14.3\" font-family=\"Times New Roman,serif\" font-size=\"14.00\">val = 0.000</text>\r\n",
       "</g>\r\n",
       "<!-- 49&#45;&gt;99 -->\r\n",
       "<g id=\"edge99\" class=\"edge\"><title>49&#45;&gt;99</title>\r\n",
       "<path fill=\"none\" stroke=\"black\" d=\"M3594.89,-87.2067C3583.28,-74.7151 3567.26,-57.4775 3554.23,-43.457\"/>\r\n",
       "<polygon fill=\"black\" stroke=\"black\" points=\"3556.72,-40.9915 3547.35,-36.0493 3551.59,-45.757 3556.72,-40.9915\"/>\r\n",
       "<text text-anchor=\"middle\" x=\"3585.5\" y=\"-57.8\" font-family=\"Times New Roman,serif\" font-size=\"14.00\">No</text>\r\n",
       "</g>\r\n",
       "<!-- 100 -->\r\n",
       "<g id=\"node101\" class=\"node\"><title>100</title>\r\n",
       "<polygon fill=\"none\" stroke=\"red\" points=\"3668,-36 3589,-36 3589,-0 3668,-0 3668,-36\"/>\r\n",
       "<text text-anchor=\"middle\" x=\"3628.5\" y=\"-14.3\" font-family=\"Times New Roman,serif\" font-size=\"14.00\">val = 0.000</text>\r\n",
       "</g>\r\n",
       "<!-- 49&#45;&gt;100 -->\r\n",
       "<g id=\"edge100\" class=\"edge\"><title>49&#45;&gt;100</title>\r\n",
       "<path fill=\"none\" stroke=\"black\" d=\"M3614.14,-86.799C3616.61,-75.1626 3619.91,-59.5479 3622.73,-46.2368\"/>\r\n",
       "<polygon fill=\"black\" stroke=\"black\" points=\"3626.22,-46.6836 3624.86,-36.1754 3619.37,-45.2334 3626.22,-46.6836\"/>\r\n",
       "<text text-anchor=\"middle\" x=\"3632.5\" y=\"-57.8\" font-family=\"Times New Roman,serif\" font-size=\"14.00\">Yes</text>\r\n",
       "</g>\r\n",
       "<!-- 101 -->\r\n",
       "<g id=\"node102\" class=\"node\"><title>101</title>\r\n",
       "<polygon fill=\"none\" stroke=\"red\" points=\"3765,-36 3686,-36 3686,-0 3765,-0 3765,-36\"/>\r\n",
       "<text text-anchor=\"middle\" x=\"3725.5\" y=\"-14.3\" font-family=\"Times New Roman,serif\" font-size=\"14.00\">val = 0.000</text>\r\n",
       "</g>\r\n",
       "<!-- 50&#45;&gt;101 -->\r\n",
       "<g id=\"edge101\" class=\"edge\"><title>50&#45;&gt;101</title>\r\n",
       "<path fill=\"none\" stroke=\"black\" d=\"M3759.8,-86.799C3753.8,-74.9322 3745.7,-58.9279 3738.88,-45.4488\"/>\r\n",
       "<polygon fill=\"black\" stroke=\"black\" points=\"3741.83,-43.5187 3734.19,-36.1754 3735.58,-46.6786 3741.83,-43.5187\"/>\r\n",
       "<text text-anchor=\"middle\" x=\"3759.5\" y=\"-57.8\" font-family=\"Times New Roman,serif\" font-size=\"14.00\">No</text>\r\n",
       "</g>\r\n",
       "<!-- 102 -->\r\n",
       "<g id=\"node103\" class=\"node\"><title>102</title>\r\n",
       "<polygon fill=\"none\" stroke=\"red\" points=\"3862,-36 3783,-36 3783,-0 3862,-0 3862,-36\"/>\r\n",
       "<text text-anchor=\"middle\" x=\"3822.5\" y=\"-14.3\" font-family=\"Times New Roman,serif\" font-size=\"14.00\">val = 0.079</text>\r\n",
       "</g>\r\n",
       "<!-- 50&#45;&gt;102 -->\r\n",
       "<g id=\"edge102\" class=\"edge\"><title>50&#45;&gt;102</title>\r\n",
       "<path fill=\"none\" stroke=\"black\" d=\"M3779.17,-87.2067C3786.88,-75.0621 3797.45,-58.4315 3806.22,-44.6326\"/>\r\n",
       "<polygon fill=\"black\" stroke=\"black\" points=\"3809.26,-46.3669 3811.67,-36.0493 3803.35,-42.6132 3809.26,-46.3669\"/>\r\n",
       "<text text-anchor=\"middle\" x=\"3810.5\" y=\"-57.8\" font-family=\"Times New Roman,serif\" font-size=\"14.00\">Yes</text>\r\n",
       "</g>\r\n",
       "<!-- 103 -->\r\n",
       "<g id=\"node104\" class=\"node\"><title>103</title>\r\n",
       "<polygon fill=\"none\" stroke=\"red\" points=\"3959,-36 3880,-36 3880,-0 3959,-0 3959,-36\"/>\r\n",
       "<text text-anchor=\"middle\" x=\"3919.5\" y=\"-14.3\" font-family=\"Times New Roman,serif\" font-size=\"14.00\">val = 0.000</text>\r\n",
       "</g>\r\n",
       "<!-- 51&#45;&gt;103 -->\r\n",
       "<g id=\"edge103\" class=\"edge\"><title>51&#45;&gt;103</title>\r\n",
       "<path fill=\"none\" stroke=\"black\" d=\"M3970.05,-87.2067C3960.97,-74.9464 3948.49,-58.1143 3938.21,-44.2391\"/>\r\n",
       "<polygon fill=\"black\" stroke=\"black\" points=\"3940.9,-41.9991 3932.14,-36.0493 3935.28,-46.1673 3940.9,-41.9991\"/>\r\n",
       "<text text-anchor=\"middle\" x=\"3964.5\" y=\"-57.8\" font-family=\"Times New Roman,serif\" font-size=\"14.00\">No</text>\r\n",
       "</g>\r\n",
       "<!-- 104 -->\r\n",
       "<g id=\"node105\" class=\"node\"><title>104</title>\r\n",
       "<polygon fill=\"none\" stroke=\"red\" points=\"4056,-36 3977,-36 3977,-0 4056,-0 4056,-36\"/>\r\n",
       "<text text-anchor=\"middle\" x=\"4016.5\" y=\"-14.3\" font-family=\"Times New Roman,serif\" font-size=\"14.00\">val = 0.000</text>\r\n",
       "</g>\r\n",
       "<!-- 51&#45;&gt;104 -->\r\n",
       "<g id=\"edge104\" class=\"edge\"><title>51&#45;&gt;104</title>\r\n",
       "<path fill=\"none\" stroke=\"black\" d=\"M3989.38,-86.799C3994.08,-75.0474 4000.4,-59.2383 4005.76,-45.8421\"/>\r\n",
       "<polygon fill=\"black\" stroke=\"black\" points=\"4009.17,-46.7601 4009.63,-36.1754 4002.67,-44.1603 4009.17,-46.7601\"/>\r\n",
       "<text text-anchor=\"middle\" x=\"4013.5\" y=\"-57.8\" font-family=\"Times New Roman,serif\" font-size=\"14.00\">Yes</text>\r\n",
       "</g>\r\n",
       "<!-- 105 -->\r\n",
       "<g id=\"node106\" class=\"node\"><title>105</title>\r\n",
       "<polygon fill=\"none\" stroke=\"red\" points=\"4153,-36 4074,-36 4074,-0 4153,-0 4153,-36\"/>\r\n",
       "<text text-anchor=\"middle\" x=\"4113.5\" y=\"-14.3\" font-family=\"Times New Roman,serif\" font-size=\"14.00\">val = 0.256</text>\r\n",
       "</g>\r\n",
       "<!-- 52&#45;&gt;105 -->\r\n",
       "<g id=\"edge105\" class=\"edge\"><title>52&#45;&gt;105</title>\r\n",
       "<path fill=\"none\" stroke=\"black\" d=\"M4135.04,-86.799C4131.3,-75.0474 4126.28,-59.2383 4122.03,-45.8421\"/>\r\n",
       "<polygon fill=\"black\" stroke=\"black\" points=\"4125.32,-44.6466 4118.96,-36.1754 4118.65,-46.7658 4125.32,-44.6466\"/>\r\n",
       "<text text-anchor=\"middle\" x=\"4138.5\" y=\"-57.8\" font-family=\"Times New Roman,serif\" font-size=\"14.00\">No</text>\r\n",
       "</g>\r\n",
       "<!-- 106 -->\r\n",
       "<g id=\"node107\" class=\"node\"><title>106</title>\r\n",
       "<polygon fill=\"none\" stroke=\"red\" points=\"4250,-36 4171,-36 4171,-0 4250,-0 4250,-36\"/>\r\n",
       "<text text-anchor=\"middle\" x=\"4210.5\" y=\"-14.3\" font-family=\"Times New Roman,serif\" font-size=\"14.00\">val = 0.042</text>\r\n",
       "</g>\r\n",
       "<!-- 52&#45;&gt;106 -->\r\n",
       "<g id=\"edge106\" class=\"edge\"><title>52&#45;&gt;106</title>\r\n",
       "<path fill=\"none\" stroke=\"black\" d=\"M4154.33,-87.2067C4164.52,-74.8308 4178.55,-57.7963 4190.04,-43.8472\"/>\r\n",
       "<polygon fill=\"black\" stroke=\"black\" points=\"4192.8,-45.9936 4196.46,-36.0493 4187.4,-41.5437 4192.8,-45.9936\"/>\r\n",
       "<text text-anchor=\"middle\" x=\"4191.5\" y=\"-57.8\" font-family=\"Times New Roman,serif\" font-size=\"14.00\">Yes</text>\r\n",
       "</g>\r\n",
       "<!-- 107 -->\r\n",
       "<g id=\"node108\" class=\"node\"><title>107</title>\r\n",
       "<polygon fill=\"none\" stroke=\"red\" points=\"4347,-36 4268,-36 4268,-0 4347,-0 4347,-36\"/>\r\n",
       "<text text-anchor=\"middle\" x=\"4307.5\" y=\"-14.3\" font-family=\"Times New Roman,serif\" font-size=\"14.00\">val = 0.000</text>\r\n",
       "</g>\r\n",
       "<!-- 53&#45;&gt;107 -->\r\n",
       "<g id=\"edge107\" class=\"edge\"><title>53&#45;&gt;107</title>\r\n",
       "<path fill=\"none\" stroke=\"black\" d=\"M4321.86,-86.799C4319.39,-75.1626 4316.09,-59.5479 4313.27,-46.2368\"/>\r\n",
       "<polygon fill=\"black\" stroke=\"black\" points=\"4316.63,-45.2334 4311.14,-36.1754 4309.78,-46.6836 4316.63,-45.2334\"/>\r\n",
       "<text text-anchor=\"middle\" x=\"4327.5\" y=\"-57.8\" font-family=\"Times New Roman,serif\" font-size=\"14.00\">No</text>\r\n",
       "</g>\r\n",
       "<!-- 108 -->\r\n",
       "<g id=\"node109\" class=\"node\"><title>108</title>\r\n",
       "<polygon fill=\"none\" stroke=\"red\" points=\"4444,-36 4365,-36 4365,-0 4444,-0 4444,-36\"/>\r\n",
       "<text text-anchor=\"middle\" x=\"4404.5\" y=\"-14.3\" font-family=\"Times New Roman,serif\" font-size=\"14.00\">val = 0.000</text>\r\n",
       "</g>\r\n",
       "<!-- 53&#45;&gt;108 -->\r\n",
       "<g id=\"edge108\" class=\"edge\"><title>53&#45;&gt;108</title>\r\n",
       "<path fill=\"none\" stroke=\"black\" d=\"M4341.11,-87.2067C4352.72,-74.7151 4368.74,-57.4775 4381.77,-43.457\"/>\r\n",
       "<polygon fill=\"black\" stroke=\"black\" points=\"4384.41,-45.757 4388.65,-36.0493 4379.28,-40.9915 4384.41,-45.757\"/>\r\n",
       "<text text-anchor=\"middle\" x=\"4381.5\" y=\"-57.8\" font-family=\"Times New Roman,serif\" font-size=\"14.00\">Yes</text>\r\n",
       "</g>\r\n",
       "<!-- 109 -->\r\n",
       "<g id=\"node110\" class=\"node\"><title>109</title>\r\n",
       "<polygon fill=\"none\" stroke=\"red\" points=\"4541,-36 4462,-36 4462,-0 4541,-0 4541,-36\"/>\r\n",
       "<text text-anchor=\"middle\" x=\"4501.5\" y=\"-14.3\" font-family=\"Times New Roman,serif\" font-size=\"14.00\">val = 0.000</text>\r\n",
       "</g>\r\n",
       "<!-- 54&#45;&gt;109 -->\r\n",
       "<g id=\"edge109\" class=\"edge\"><title>54&#45;&gt;109</title>\r\n",
       "<path fill=\"none\" stroke=\"black\" d=\"M4501.5,-86.799C4501.5,-75.1626 4501.5,-59.5479 4501.5,-46.2368\"/>\r\n",
       "<polygon fill=\"black\" stroke=\"black\" points=\"4505,-46.1754 4501.5,-36.1754 4498,-46.1755 4505,-46.1754\"/>\r\n",
       "<text text-anchor=\"middle\" x=\"4510.5\" y=\"-57.8\" font-family=\"Times New Roman,serif\" font-size=\"14.00\">No</text>\r\n",
       "</g>\r\n",
       "<!-- 110 -->\r\n",
       "<g id=\"node111\" class=\"node\"><title>110</title>\r\n",
       "<polygon fill=\"none\" stroke=\"red\" points=\"4638,-36 4559,-36 4559,-0 4638,-0 4638,-36\"/>\r\n",
       "<text text-anchor=\"middle\" x=\"4598.5\" y=\"-14.3\" font-family=\"Times New Roman,serif\" font-size=\"14.00\">val = 0.000</text>\r\n",
       "</g>\r\n",
       "<!-- 54&#45;&gt;110 -->\r\n",
       "<g id=\"edge110\" class=\"edge\"><title>54&#45;&gt;110</title>\r\n",
       "<path fill=\"none\" stroke=\"black\" d=\"M4520.2,-87.6111C4534.68,-74.925 4554.94,-57.1709 4571.22,-42.9014\"/>\r\n",
       "<polygon fill=\"black\" stroke=\"black\" points=\"4573.64,-45.4367 4578.86,-36.2138 4569.03,-40.172 4573.64,-45.4367\"/>\r\n",
       "<text text-anchor=\"middle\" x=\"4567.5\" y=\"-57.8\" font-family=\"Times New Roman,serif\" font-size=\"14.00\">Yes</text>\r\n",
       "</g>\r\n",
       "<!-- 111 -->\r\n",
       "<g id=\"node112\" class=\"node\"><title>111</title>\r\n",
       "<polygon fill=\"none\" stroke=\"red\" points=\"4735,-36 4656,-36 4656,-0 4735,-0 4735,-36\"/>\r\n",
       "<text text-anchor=\"middle\" x=\"4695.5\" y=\"-14.3\" font-family=\"Times New Roman,serif\" font-size=\"14.00\">val = 0.000</text>\r\n",
       "</g>\r\n",
       "<!-- 55&#45;&gt;111 -->\r\n",
       "<g id=\"edge111\" class=\"edge\"><title>55&#45;&gt;111</title>\r\n",
       "<path fill=\"none\" stroke=\"black\" d=\"M4773.8,-87.6111C4759.32,-74.925 4739.06,-57.1709 4722.78,-42.9014\"/>\r\n",
       "<polygon fill=\"black\" stroke=\"black\" points=\"4724.97,-40.172 4715.14,-36.2138 4720.36,-45.4367 4724.97,-40.172\"/>\r\n",
       "<text text-anchor=\"middle\" x=\"4759.5\" y=\"-57.8\" font-family=\"Times New Roman,serif\" font-size=\"14.00\">No</text>\r\n",
       "</g>\r\n",
       "<!-- 112 -->\r\n",
       "<g id=\"node113\" class=\"node\"><title>112</title>\r\n",
       "<polygon fill=\"none\" stroke=\"red\" points=\"4832,-36 4753,-36 4753,-0 4832,-0 4832,-36\"/>\r\n",
       "<text text-anchor=\"middle\" x=\"4792.5\" y=\"-14.3\" font-family=\"Times New Roman,serif\" font-size=\"14.00\">val = 0.000</text>\r\n",
       "</g>\r\n",
       "<!-- 55&#45;&gt;112 -->\r\n",
       "<g id=\"edge112\" class=\"edge\"><title>55&#45;&gt;112</title>\r\n",
       "<path fill=\"none\" stroke=\"black\" d=\"M4792.5,-86.799C4792.5,-75.1626 4792.5,-59.5479 4792.5,-46.2368\"/>\r\n",
       "<polygon fill=\"black\" stroke=\"black\" points=\"4796,-46.1754 4792.5,-36.1754 4789,-46.1755 4796,-46.1754\"/>\r\n",
       "<text text-anchor=\"middle\" x=\"4803.5\" y=\"-57.8\" font-family=\"Times New Roman,serif\" font-size=\"14.00\">Yes</text>\r\n",
       "</g>\r\n",
       "<!-- 113 -->\r\n",
       "<g id=\"node114\" class=\"node\"><title>113</title>\r\n",
       "<polygon fill=\"none\" stroke=\"red\" points=\"4929,-36 4850,-36 4850,-0 4929,-0 4929,-36\"/>\r\n",
       "<text text-anchor=\"middle\" x=\"4889.5\" y=\"-14.3\" font-family=\"Times New Roman,serif\" font-size=\"14.00\">val = 0.277</text>\r\n",
       "</g>\r\n",
       "<!-- 56&#45;&gt;113 -->\r\n",
       "<g id=\"edge113\" class=\"edge\"><title>56&#45;&gt;113</title>\r\n",
       "<path fill=\"none\" stroke=\"black\" d=\"M4942.46,-87.2067C4932.94,-74.9464 4919.87,-58.1143 4909.1,-44.2391\"/>\r\n",
       "<polygon fill=\"black\" stroke=\"black\" points=\"4911.64,-41.8013 4902.74,-36.0493 4906.11,-46.0944 4911.64,-41.8013\"/>\r\n",
       "<text text-anchor=\"middle\" x=\"4935.5\" y=\"-57.8\" font-family=\"Times New Roman,serif\" font-size=\"14.00\">No</text>\r\n",
       "</g>\r\n",
       "<!-- 114 -->\r\n",
       "<g id=\"node115\" class=\"node\"><title>114</title>\r\n",
       "<polygon fill=\"none\" stroke=\"red\" points=\"5026,-36 4947,-36 4947,-0 5026,-0 5026,-36\"/>\r\n",
       "<text text-anchor=\"middle\" x=\"4986.5\" y=\"-14.3\" font-family=\"Times New Roman,serif\" font-size=\"14.00\">val = 0.000</text>\r\n",
       "</g>\r\n",
       "<!-- 56&#45;&gt;114 -->\r\n",
       "<g id=\"edge114\" class=\"edge\"><title>56&#45;&gt;114</title>\r\n",
       "<path fill=\"none\" stroke=\"black\" d=\"M4961.77,-86.799C4966.06,-75.0474 4971.82,-59.2383 4976.71,-45.8421\"/>\r\n",
       "<polygon fill=\"black\" stroke=\"black\" points=\"4980.1,-46.7694 4980.24,-36.1754 4973.52,-44.3709 4980.1,-46.7694\"/>\r\n",
       "<text text-anchor=\"middle\" x=\"4984.5\" y=\"-57.8\" font-family=\"Times New Roman,serif\" font-size=\"14.00\">Yes</text>\r\n",
       "</g>\r\n",
       "<!-- 115 -->\r\n",
       "<g id=\"node116\" class=\"node\"><title>115</title>\r\n",
       "<polygon fill=\"none\" stroke=\"red\" points=\"5123,-36 5044,-36 5044,-0 5123,-0 5123,-36\"/>\r\n",
       "<text text-anchor=\"middle\" x=\"5083.5\" y=\"-14.3\" font-family=\"Times New Roman,serif\" font-size=\"14.00\">val = 0.000</text>\r\n",
       "</g>\r\n",
       "<!-- 57&#45;&gt;115 -->\r\n",
       "<g id=\"edge115\" class=\"edge\"><title>57&#45;&gt;115</title>\r\n",
       "<path fill=\"none\" stroke=\"black\" d=\"M5109.82,-86.799C5105.26,-75.0474 5099.12,-59.2383 5093.92,-45.8421\"/>\r\n",
       "<polygon fill=\"black\" stroke=\"black\" points=\"5097.05,-44.2308 5090.17,-36.1754 5090.52,-46.7643 5097.05,-44.2308\"/>\r\n",
       "<text text-anchor=\"middle\" x=\"5111.5\" y=\"-57.8\" font-family=\"Times New Roman,serif\" font-size=\"14.00\">No</text>\r\n",
       "</g>\r\n",
       "<!-- 116 -->\r\n",
       "<g id=\"node117\" class=\"node\"><title>116</title>\r\n",
       "<polygon fill=\"none\" stroke=\"red\" points=\"5220,-36 5141,-36 5141,-0 5220,-0 5220,-36\"/>\r\n",
       "<text text-anchor=\"middle\" x=\"5180.5\" y=\"-14.3\" font-family=\"Times New Roman,serif\" font-size=\"14.00\">val = 0.000</text>\r\n",
       "</g>\r\n",
       "<!-- 57&#45;&gt;116 -->\r\n",
       "<g id=\"edge116\" class=\"edge\"><title>57&#45;&gt;116</title>\r\n",
       "<path fill=\"none\" stroke=\"black\" d=\"M5129.14,-87.2067C5138.38,-74.9464 5151.05,-58.1143 5161.5,-44.2391\"/>\r\n",
       "<polygon fill=\"black\" stroke=\"black\" points=\"5164.44,-46.1433 5167.66,-36.0493 5158.85,-41.9328 5164.44,-46.1433\"/>\r\n",
       "<text text-anchor=\"middle\" x=\"5163.5\" y=\"-57.8\" font-family=\"Times New Roman,serif\" font-size=\"14.00\">Yes</text>\r\n",
       "</g>\r\n",
       "<!-- 117 -->\r\n",
       "<g id=\"node118\" class=\"node\"><title>117</title>\r\n",
       "<polygon fill=\"none\" stroke=\"red\" points=\"5317,-36 5238,-36 5238,-0 5317,-0 5317,-36\"/>\r\n",
       "<text text-anchor=\"middle\" x=\"5277.5\" y=\"-14.3\" font-family=\"Times New Roman,serif\" font-size=\"14.00\">val = 0.000</text>\r\n",
       "</g>\r\n",
       "<!-- 58&#45;&gt;117 -->\r\n",
       "<g id=\"edge117\" class=\"edge\"><title>58&#45;&gt;117</title>\r\n",
       "<path fill=\"none\" stroke=\"black\" d=\"M5277.5,-86.799C5277.5,-75.1626 5277.5,-59.5479 5277.5,-46.2368\"/>\r\n",
       "<polygon fill=\"black\" stroke=\"black\" points=\"5281,-46.1754 5277.5,-36.1754 5274,-46.1755 5281,-46.1754\"/>\r\n",
       "<text text-anchor=\"middle\" x=\"5286.5\" y=\"-57.8\" font-family=\"Times New Roman,serif\" font-size=\"14.00\">No</text>\r\n",
       "</g>\r\n",
       "<!-- 118 -->\r\n",
       "<g id=\"node119\" class=\"node\"><title>118</title>\r\n",
       "<polygon fill=\"none\" stroke=\"red\" points=\"5414,-36 5335,-36 5335,-0 5414,-0 5414,-36\"/>\r\n",
       "<text text-anchor=\"middle\" x=\"5374.5\" y=\"-14.3\" font-family=\"Times New Roman,serif\" font-size=\"14.00\">val = 0.120</text>\r\n",
       "</g>\r\n",
       "<!-- 58&#45;&gt;118 -->\r\n",
       "<g id=\"edge118\" class=\"edge\"><title>58&#45;&gt;118</title>\r\n",
       "<path fill=\"none\" stroke=\"black\" d=\"M5296.2,-87.6111C5310.68,-74.925 5330.94,-57.1709 5347.22,-42.9014\"/>\r\n",
       "<polygon fill=\"black\" stroke=\"black\" points=\"5349.64,-45.4367 5354.86,-36.2138 5345.03,-40.172 5349.64,-45.4367\"/>\r\n",
       "<text text-anchor=\"middle\" x=\"5343.5\" y=\"-57.8\" font-family=\"Times New Roman,serif\" font-size=\"14.00\">Yes</text>\r\n",
       "</g>\r\n",
       "<!-- 119 -->\r\n",
       "<g id=\"node120\" class=\"node\"><title>119</title>\r\n",
       "<polygon fill=\"none\" stroke=\"red\" points=\"5511,-36 5432,-36 5432,-0 5511,-0 5511,-36\"/>\r\n",
       "<text text-anchor=\"middle\" x=\"5471.5\" y=\"-14.3\" font-family=\"Times New Roman,serif\" font-size=\"14.00\">val = 0.000</text>\r\n",
       "</g>\r\n",
       "<!-- 59&#45;&gt;119 -->\r\n",
       "<g id=\"edge119\" class=\"edge\"><title>59&#45;&gt;119</title>\r\n",
       "<path fill=\"none\" stroke=\"black\" d=\"M5514.83,-87.2067C5507.12,-75.0621 5496.55,-58.4315 5487.78,-44.6326\"/>\r\n",
       "<polygon fill=\"black\" stroke=\"black\" points=\"5490.65,-42.6132 5482.33,-36.0493 5484.74,-46.3669 5490.65,-42.6132\"/>\r\n",
       "<text text-anchor=\"middle\" x=\"5511.5\" y=\"-57.8\" font-family=\"Times New Roman,serif\" font-size=\"14.00\">No</text>\r\n",
       "</g>\r\n",
       "<!-- 120 -->\r\n",
       "<g id=\"node121\" class=\"node\"><title>120</title>\r\n",
       "<polygon fill=\"none\" stroke=\"red\" points=\"5608,-36 5529,-36 5529,-0 5608,-0 5608,-36\"/>\r\n",
       "<text text-anchor=\"middle\" x=\"5568.5\" y=\"-14.3\" font-family=\"Times New Roman,serif\" font-size=\"14.00\">val = 0.000</text>\r\n",
       "</g>\r\n",
       "<!-- 59&#45;&gt;120 -->\r\n",
       "<g id=\"edge120\" class=\"edge\"><title>59&#45;&gt;120</title>\r\n",
       "<path fill=\"none\" stroke=\"black\" d=\"M5534.2,-86.799C5540.2,-74.9322 5548.3,-58.9279 5555.12,-45.4488\"/>\r\n",
       "<polygon fill=\"black\" stroke=\"black\" points=\"5558.42,-46.6786 5559.81,-36.1754 5552.17,-43.5187 5558.42,-46.6786\"/>\r\n",
       "<text text-anchor=\"middle\" x=\"5561.5\" y=\"-57.8\" font-family=\"Times New Roman,serif\" font-size=\"14.00\">Yes</text>\r\n",
       "</g>\r\n",
       "<!-- 121 -->\r\n",
       "<g id=\"node122\" class=\"node\"><title>121</title>\r\n",
       "<polygon fill=\"none\" stroke=\"red\" points=\"5705,-36 5626,-36 5626,-0 5705,-0 5705,-36\"/>\r\n",
       "<text text-anchor=\"middle\" x=\"5665.5\" y=\"-14.3\" font-family=\"Times New Roman,serif\" font-size=\"14.00\">val = 0.157</text>\r\n",
       "</g>\r\n",
       "<!-- 60&#45;&gt;121 -->\r\n",
       "<g id=\"edge121\" class=\"edge\"><title>60&#45;&gt;121</title>\r\n",
       "<path fill=\"none\" stroke=\"black\" d=\"M5679.86,-86.799C5677.39,-75.1626 5674.09,-59.5479 5671.27,-46.2368\"/>\r\n",
       "<polygon fill=\"black\" stroke=\"black\" points=\"5674.63,-45.2334 5669.14,-36.1754 5667.78,-46.6836 5674.63,-45.2334\"/>\r\n",
       "<text text-anchor=\"middle\" x=\"5685.5\" y=\"-57.8\" font-family=\"Times New Roman,serif\" font-size=\"14.00\">No</text>\r\n",
       "</g>\r\n",
       "<!-- 122 -->\r\n",
       "<g id=\"node123\" class=\"node\"><title>122</title>\r\n",
       "<polygon fill=\"none\" stroke=\"red\" points=\"5802,-36 5723,-36 5723,-0 5802,-0 5802,-36\"/>\r\n",
       "<text text-anchor=\"middle\" x=\"5762.5\" y=\"-14.3\" font-family=\"Times New Roman,serif\" font-size=\"14.00\">val = 0.079</text>\r\n",
       "</g>\r\n",
       "<!-- 60&#45;&gt;122 -->\r\n",
       "<g id=\"edge122\" class=\"edge\"><title>60&#45;&gt;122</title>\r\n",
       "<path fill=\"none\" stroke=\"black\" d=\"M5699.11,-87.2067C5710.72,-74.7151 5726.74,-57.4775 5739.77,-43.457\"/>\r\n",
       "<polygon fill=\"black\" stroke=\"black\" points=\"5742.41,-45.757 5746.65,-36.0493 5737.28,-40.9915 5742.41,-45.757\"/>\r\n",
       "<text text-anchor=\"middle\" x=\"5739.5\" y=\"-57.8\" font-family=\"Times New Roman,serif\" font-size=\"14.00\">Yes</text>\r\n",
       "</g>\r\n",
       "<!-- 123 -->\r\n",
       "<g id=\"node124\" class=\"node\"><title>123</title>\r\n",
       "<polygon fill=\"none\" stroke=\"red\" points=\"5899,-36 5820,-36 5820,-0 5899,-0 5899,-36\"/>\r\n",
       "<text text-anchor=\"middle\" x=\"5859.5\" y=\"-14.3\" font-family=\"Times New Roman,serif\" font-size=\"14.00\">val = 0.000</text>\r\n",
       "</g>\r\n",
       "<!-- 61&#45;&gt;123 -->\r\n",
       "<g id=\"edge123\" class=\"edge\"><title>61&#45;&gt;123</title>\r\n",
       "<path fill=\"none\" stroke=\"black\" d=\"M5873.86,-86.799C5871.39,-75.1626 5868.09,-59.5479 5865.27,-46.2368\"/>\r\n",
       "<polygon fill=\"black\" stroke=\"black\" points=\"5868.63,-45.2334 5863.14,-36.1754 5861.78,-46.6836 5868.63,-45.2334\"/>\r\n",
       "<text text-anchor=\"middle\" x=\"5879.5\" y=\"-57.8\" font-family=\"Times New Roman,serif\" font-size=\"14.00\">No</text>\r\n",
       "</g>\r\n",
       "<!-- 124 -->\r\n",
       "<g id=\"node125\" class=\"node\"><title>124</title>\r\n",
       "<polygon fill=\"none\" stroke=\"red\" points=\"5996,-36 5917,-36 5917,-0 5996,-0 5996,-36\"/>\r\n",
       "<text text-anchor=\"middle\" x=\"5956.5\" y=\"-14.3\" font-family=\"Times New Roman,serif\" font-size=\"14.00\">val = 0.000</text>\r\n",
       "</g>\r\n",
       "<!-- 61&#45;&gt;124 -->\r\n",
       "<g id=\"edge124\" class=\"edge\"><title>61&#45;&gt;124</title>\r\n",
       "<path fill=\"none\" stroke=\"black\" d=\"M5893.11,-87.2067C5904.72,-74.7151 5920.74,-57.4775 5933.77,-43.457\"/>\r\n",
       "<polygon fill=\"black\" stroke=\"black\" points=\"5936.41,-45.757 5940.65,-36.0493 5931.28,-40.9915 5936.41,-45.757\"/>\r\n",
       "<text text-anchor=\"middle\" x=\"5933.5\" y=\"-57.8\" font-family=\"Times New Roman,serif\" font-size=\"14.00\">Yes</text>\r\n",
       "</g>\r\n",
       "<!-- 125 -->\r\n",
       "<g id=\"node126\" class=\"node\"><title>125</title>\r\n",
       "<polygon fill=\"none\" stroke=\"red\" points=\"6093,-36 6014,-36 6014,-0 6093,-0 6093,-36\"/>\r\n",
       "<text text-anchor=\"middle\" x=\"6053.5\" y=\"-14.3\" font-family=\"Times New Roman,serif\" font-size=\"14.00\">val = 0.000</text>\r\n",
       "</g>\r\n",
       "<!-- 62&#45;&gt;125 -->\r\n",
       "<g id=\"edge125\" class=\"edge\"><title>62&#45;&gt;125</title>\r\n",
       "<path fill=\"none\" stroke=\"black\" d=\"M6053.5,-86.799C6053.5,-75.1626 6053.5,-59.5479 6053.5,-46.2368\"/>\r\n",
       "<polygon fill=\"black\" stroke=\"black\" points=\"6057,-46.1754 6053.5,-36.1754 6050,-46.1755 6057,-46.1754\"/>\r\n",
       "<text text-anchor=\"middle\" x=\"6062.5\" y=\"-57.8\" font-family=\"Times New Roman,serif\" font-size=\"14.00\">No</text>\r\n",
       "</g>\r\n",
       "<!-- 126 -->\r\n",
       "<g id=\"node127\" class=\"node\"><title>126</title>\r\n",
       "<polygon fill=\"none\" stroke=\"red\" points=\"6190,-36 6111,-36 6111,-0 6190,-0 6190,-36\"/>\r\n",
       "<text text-anchor=\"middle\" x=\"6150.5\" y=\"-14.3\" font-family=\"Times New Roman,serif\" font-size=\"14.00\">val = 0.000</text>\r\n",
       "</g>\r\n",
       "<!-- 62&#45;&gt;126 -->\r\n",
       "<g id=\"edge126\" class=\"edge\"><title>62&#45;&gt;126</title>\r\n",
       "<path fill=\"none\" stroke=\"black\" d=\"M6072.2,-87.6111C6086.68,-74.925 6106.94,-57.1709 6123.22,-42.9014\"/>\r\n",
       "<polygon fill=\"black\" stroke=\"black\" points=\"6125.64,-45.4367 6130.86,-36.2138 6121.03,-40.172 6125.64,-45.4367\"/>\r\n",
       "<text text-anchor=\"middle\" x=\"6119.5\" y=\"-57.8\" font-family=\"Times New Roman,serif\" font-size=\"14.00\">Yes</text>\r\n",
       "</g>\r\n",
       "</g>\r\n",
       "</svg>\r\n"
      ],
      "text/plain": [
       "<graphviz.dot.Digraph at 0x2678c676eb0>"
      ]
     },
     "execution_count": 19,
     "metadata": {},
     "output_type": "execute_result"
    }
   ],
   "source": [
    "cat.plot_tree(tree_idx=0)"
   ]
  },
  {
   "cell_type": "code",
   "execution_count": 22,
   "id": "292e092b-e40c-40ae-8743-e5ae2744e3b2",
   "metadata": {},
   "outputs": [
    {
     "data": {
      "text/html": [
       "<div>\n",
       "<style scoped>\n",
       "    .dataframe tbody tr th:only-of-type {\n",
       "        vertical-align: middle;\n",
       "    }\n",
       "\n",
       "    .dataframe tbody tr th {\n",
       "        vertical-align: top;\n",
       "    }\n",
       "\n",
       "    .dataframe thead th {\n",
       "        text-align: right;\n",
       "    }\n",
       "</style>\n",
       "<table border=\"1\" class=\"dataframe\">\n",
       "  <thead>\n",
       "    <tr style=\"text-align: right;\">\n",
       "      <th></th>\n",
       "      <th>RESOURCE</th>\n",
       "      <th>MGR_ID</th>\n",
       "      <th>ROLE_ROLLUP_1</th>\n",
       "      <th>ROLE_ROLLUP_2</th>\n",
       "      <th>ROLE_DEPTNAME</th>\n",
       "      <th>ROLE_TITLE</th>\n",
       "      <th>ROLE_FAMILY_DESC</th>\n",
       "      <th>ROLE_FAMILY</th>\n",
       "      <th>ROLE_CODE</th>\n",
       "    </tr>\n",
       "  </thead>\n",
       "  <tbody>\n",
       "    <tr>\n",
       "      <th>0</th>\n",
       "      <td>39353</td>\n",
       "      <td>85475</td>\n",
       "      <td>117961</td>\n",
       "      <td>118300</td>\n",
       "      <td>123472</td>\n",
       "      <td>117905</td>\n",
       "      <td>117906</td>\n",
       "      <td>290919</td>\n",
       "      <td>117908</td>\n",
       "    </tr>\n",
       "    <tr>\n",
       "      <th>1</th>\n",
       "      <td>17183</td>\n",
       "      <td>1540</td>\n",
       "      <td>117961</td>\n",
       "      <td>118343</td>\n",
       "      <td>123125</td>\n",
       "      <td>118536</td>\n",
       "      <td>118536</td>\n",
       "      <td>308574</td>\n",
       "      <td>118539</td>\n",
       "    </tr>\n",
       "    <tr>\n",
       "      <th>2</th>\n",
       "      <td>36724</td>\n",
       "      <td>14457</td>\n",
       "      <td>118219</td>\n",
       "      <td>118220</td>\n",
       "      <td>117884</td>\n",
       "      <td>117879</td>\n",
       "      <td>267952</td>\n",
       "      <td>19721</td>\n",
       "      <td>117880</td>\n",
       "    </tr>\n",
       "    <tr>\n",
       "      <th>3</th>\n",
       "      <td>36135</td>\n",
       "      <td>5396</td>\n",
       "      <td>117961</td>\n",
       "      <td>118343</td>\n",
       "      <td>119993</td>\n",
       "      <td>118321</td>\n",
       "      <td>240983</td>\n",
       "      <td>290919</td>\n",
       "      <td>118322</td>\n",
       "    </tr>\n",
       "    <tr>\n",
       "      <th>4</th>\n",
       "      <td>42680</td>\n",
       "      <td>5905</td>\n",
       "      <td>117929</td>\n",
       "      <td>117930</td>\n",
       "      <td>119569</td>\n",
       "      <td>119323</td>\n",
       "      <td>123932</td>\n",
       "      <td>19793</td>\n",
       "      <td>119325</td>\n",
       "    </tr>\n",
       "  </tbody>\n",
       "</table>\n",
       "</div>"
      ],
      "text/plain": [
       "   RESOURCE  MGR_ID  ROLE_ROLLUP_1  ROLE_ROLLUP_2  ROLE_DEPTNAME  ROLE_TITLE  \\\n",
       "0     39353   85475         117961         118300         123472      117905   \n",
       "1     17183    1540         117961         118343         123125      118536   \n",
       "2     36724   14457         118219         118220         117884      117879   \n",
       "3     36135    5396         117961         118343         119993      118321   \n",
       "4     42680    5905         117929         117930         119569      119323   \n",
       "\n",
       "   ROLE_FAMILY_DESC  ROLE_FAMILY  ROLE_CODE  \n",
       "0            117906       290919     117908  \n",
       "1            118536       308574     118539  \n",
       "2            267952        19721     117880  \n",
       "3            240983       290919     118322  \n",
       "4            123932        19793     119325  "
      ]
     },
     "execution_count": 22,
     "metadata": {},
     "output_type": "execute_result"
    }
   ],
   "source": [
    "X.head()"
   ]
  },
  {
   "cell_type": "code",
   "execution_count": 23,
   "id": "b9312dbe-5bda-4612-a522-9e249c113b74",
   "metadata": {},
   "outputs": [
    {
     "name": "stdout",
     "output_type": "stream",
     "text": [
      "Learning rate set to 0.069882\n",
      "0:\ttest: 0.5637606\tbest: 0.5637606 (0)\ttotal: 30ms\tremaining: 30s\n",
      "200:\ttest: 0.8959353\tbest: 0.8959406 (199)\ttotal: 12.1s\tremaining: 48.2s\n",
      "400:\ttest: 0.8985289\tbest: 0.8990341 (378)\ttotal: 25.3s\tremaining: 37.7s\n",
      "600:\ttest: 0.8988958\tbest: 0.8996122 (493)\ttotal: 38.8s\tremaining: 25.8s\n",
      "800:\ttest: 0.8999684\tbest: 0.9000746 (673)\ttotal: 51.9s\tremaining: 12.9s\n",
      "999:\ttest: 0.8986113\tbest: 0.9002842 (846)\ttotal: 1m 5s\tremaining: 0us\n",
      "\n",
      "bestTest = 0.9002841584\n",
      "bestIteration = 846\n",
      "\n",
      "Shrink model to first 847 iterations.\n"
     ]
    }
   ],
   "source": [
    "#%%time\n",
    "#In the above model CatBoost treated categorical features as numerical ones. Thus, the categories were ranked. We need to specify which features are categorical\n",
    "\n",
    "categorical_features= list(range(X.shape[1]))\n",
    "\n",
    "\n",
    "\n",
    "\n",
    "params = {'loss_function':'Logloss',\n",
    "          'eval_metric':'AUC',\n",
    "          'cat_features': categorical_features,\n",
    "          'verbose': 200,\n",
    "          'random_seed': 1\n",
    "         }\n",
    "catmodel = CatBoostClassifier(**params)\n",
    "catmodel.fit(X_train, y_train,\n",
    "          eval_set=(X_valid, y_valid),\n",
    "          use_best_model=True);"
   ]
  },
  {
   "cell_type": "markdown",
   "id": "d523b03f-879c-409c-b211-17fe6c894348",
   "metadata": {},
   "source": [
    "## Feature Importances"
   ]
  },
  {
   "cell_type": "code",
   "execution_count": 37,
   "id": "08c4c2d0-ef9c-4b01-9c94-6a5c4a5d88d1",
   "metadata": {},
   "outputs": [
    {
     "data": {
      "text/html": [
       "<div>\n",
       "<style scoped>\n",
       "    .dataframe tbody tr th:only-of-type {\n",
       "        vertical-align: middle;\n",
       "    }\n",
       "\n",
       "    .dataframe tbody tr th {\n",
       "        vertical-align: top;\n",
       "    }\n",
       "\n",
       "    .dataframe thead th {\n",
       "        text-align: right;\n",
       "    }\n",
       "</style>\n",
       "<table border=\"1\" class=\"dataframe\">\n",
       "  <thead>\n",
       "    <tr style=\"text-align: right;\">\n",
       "      <th></th>\n",
       "      <th>Feature Id</th>\n",
       "      <th>Importances</th>\n",
       "    </tr>\n",
       "  </thead>\n",
       "  <tbody>\n",
       "    <tr>\n",
       "      <th>0</th>\n",
       "      <td>RESOURCE</td>\n",
       "      <td>19.045386</td>\n",
       "    </tr>\n",
       "    <tr>\n",
       "      <th>1</th>\n",
       "      <td>ROLE_DEPTNAME</td>\n",
       "      <td>16.372884</td>\n",
       "    </tr>\n",
       "    <tr>\n",
       "      <th>2</th>\n",
       "      <td>ROLE_ROLLUP_2</td>\n",
       "      <td>14.403366</td>\n",
       "    </tr>\n",
       "    <tr>\n",
       "      <th>3</th>\n",
       "      <td>MGR_ID</td>\n",
       "      <td>13.860962</td>\n",
       "    </tr>\n",
       "    <tr>\n",
       "      <th>4</th>\n",
       "      <td>ROLE_FAMILY_DESC</td>\n",
       "      <td>9.007865</td>\n",
       "    </tr>\n",
       "    <tr>\n",
       "      <th>5</th>\n",
       "      <td>ROLE_TITLE</td>\n",
       "      <td>8.923844</td>\n",
       "    </tr>\n",
       "    <tr>\n",
       "      <th>6</th>\n",
       "      <td>ROLE_ROLLUP_1</td>\n",
       "      <td>7.061676</td>\n",
       "    </tr>\n",
       "    <tr>\n",
       "      <th>7</th>\n",
       "      <td>ROLE_FAMILY</td>\n",
       "      <td>6.519062</td>\n",
       "    </tr>\n",
       "    <tr>\n",
       "      <th>8</th>\n",
       "      <td>ROLE_CODE</td>\n",
       "      <td>4.804955</td>\n",
       "    </tr>\n",
       "  </tbody>\n",
       "</table>\n",
       "</div>"
      ],
      "text/plain": [
       "         Feature Id  Importances\n",
       "0          RESOURCE    19.045386\n",
       "1     ROLE_DEPTNAME    16.372884\n",
       "2     ROLE_ROLLUP_2    14.403366\n",
       "3            MGR_ID    13.860962\n",
       "4  ROLE_FAMILY_DESC     9.007865\n",
       "5        ROLE_TITLE     8.923844\n",
       "6     ROLE_ROLLUP_1     7.061676\n",
       "7       ROLE_FAMILY     6.519062\n",
       "8         ROLE_CODE     4.804955"
      ]
     },
     "execution_count": 37,
     "metadata": {},
     "output_type": "execute_result"
    }
   ],
   "source": [
    "feature_imp=catmodel.get_feature_importance(prettified=True)\n",
    "feature_imp"
   ]
  },
  {
   "cell_type": "code",
   "execution_count": 35,
   "id": "126c2a71-8dd7-4c51-bc49-003ca988e469",
   "metadata": {},
   "outputs": [
    {
     "data": {
      "image/png": "[encoded data removed]",
      "text/plain": [
       "<Figure size 864x432 with 1 Axes>"
      ]
     },
     "metadata": {
      "needs_background": "light"
     },
     "output_type": "display_data"
    }
   ],
   "source": [
    "from matplotlib import pyplot as plt\n",
    "import seaborn as sns\n",
    "\n",
    "plt.figure(figsize=(12, 6));\n",
    "sns.barplot(x=\"Importances\", y=\"Feature Id\", data=feature_imp);\n",
    "plt.title('CatBoost features importance:');"
   ]
  },
  {
   "cell_type": "markdown",
   "id": "ee87798c-df54-4684-83d1-02b70c662eb8",
   "metadata": {},
   "source": [
    "## Performance"
   ]
  },
  {
   "cell_type": "code",
   "execution_count": 39,
   "id": "c5329e56-8347-42b9-b2bf-939d18f6fed1",
   "metadata": {},
   "outputs": [
    {
     "name": "stdout",
     "output_type": "stream",
     "text": [
      "Catboost model score is: 95.63041620895886%\n"
     ]
    }
   ],
   "source": [
    "print('Catboost model score is: {}%'.format(catmodel.score(X_valid,y_valid) * 100))"
   ]
  },
  {
   "cell_type": "code",
   "execution_count": 44,
   "id": "f2b3022d-2ede-463b-bec3-08e818fb1ef5",
   "metadata": {},
   "outputs": [
    {
     "data": {
      "application/javascript": [
       "\n",
       "        if (window._pyforest_update_imports_cell) { window._pyforest_update_imports_cell('import pandas as pd\\nimport matplotlib.pyplot as plt\\nimport seaborn as sns'); }\n",
       "    "
      ],
      "text/plain": [
       "<IPython.core.display.Javascript object>"
      ]
     },
     "metadata": {},
     "output_type": "display_data"
    }
   ],
   "source": [
    "predict = catmodel.predict(X_valid)\n",
    "predictdf = pd.DataFrame(predict)"
   ]
  },
  {
   "cell_type": "code",
   "execution_count": 46,
   "id": "8515a860-c1a8-488b-96b1-465e1ff56e9b",
   "metadata": {},
   "outputs": [
    {
     "data": {
      "text/plain": [
       "1    7924\n",
       "0     269\n",
       "dtype: int64"
      ]
     },
     "execution_count": 46,
     "metadata": {},
     "output_type": "execute_result"
    }
   ],
   "source": [
    "predictdf.value_counts()"
   ]
  },
  {
   "cell_type": "code",
   "execution_count": 47,
   "id": "d475d726-e34f-4d13-b56c-f841df473c0e",
   "metadata": {},
   "outputs": [
    {
     "data": {
      "text/plain": [
       "1    30872\n",
       "0     1897\n",
       "Name: ACTION, dtype: int64"
      ]
     },
     "execution_count": 47,
     "metadata": {},
     "output_type": "execute_result"
    }
   ],
   "source": [
    "traindf['ACTION'].value_counts()"
   ]
  },
  {
   "cell_type": "markdown",
   "id": "9816737e-0747-4fbb-8338-5a192a3a566c",
   "metadata": {},
   "source": [
    "### We could have a problem due to data imbalance.We can fix this with oversampling.I will be using SMOTE method\n"
   ]
  },
  {
   "cell_type": "code",
   "execution_count": 55,
   "id": "eafdcef1-acf5-4458-aec8-e43cf5838882",
   "metadata": {},
   "outputs": [],
   "source": [
    "from imblearn.over_sampling import SMOTE\n",
    "\n",
    "X2 = traindf.drop('ACTION', axis = 1)\n",
    "y2 = traindf['ACTION']\n",
    "\n",
    "X_train2,X_valid2,y_train2,y_valid2 = train_test_split(X2,y2,test_size = 0.25, random_state = 1)\n",
    "\n",
    "model = SMOTE(random_state = 1)\n",
    "X_train2,y_train2 = model.fit_resample(X_train2,y_train2)\n",
    "X_valid2,y_valid2 = model.fit_resample(X_valid2,y_valid2)"
   ]
  },
  {
   "cell_type": "code",
   "execution_count": 56,
   "id": "6d986dda-6ad7-4782-b03f-9a206204bebc",
   "metadata": {},
   "outputs": [
    {
     "name": "stdout",
     "output_type": "stream",
     "text": [
      "Learning rate set to 0.081709\n",
      "0:\ttest: 0.9469316\tbest: 0.9469316 (0)\ttotal: 47.7ms\tremaining: 47.6s\n",
      "200:\ttest: 0.9911259\tbest: 0.9911259 (200)\ttotal: 21.7s\tremaining: 1m 26s\n",
      "400:\ttest: 0.9914834\tbest: 0.9915032 (393)\ttotal: 45.2s\tremaining: 1m 7s\n",
      "600:\ttest: 0.9916451\tbest: 0.9916670 (568)\ttotal: 1m 10s\tremaining: 47s\n",
      "800:\ttest: 0.9916468\tbest: 0.9916866 (755)\ttotal: 1m 35s\tremaining: 23.6s\n",
      "999:\ttest: 0.9915168\tbest: 0.9917104 (844)\ttotal: 1m 59s\tremaining: 0us\n",
      "\n",
      "bestTest = 0.9917103772\n",
      "bestIteration = 844\n",
      "\n",
      "Shrink model to first 845 iterations.\n"
     ]
    }
   ],
   "source": [
    "categorical_features= list(range(X.shape[1]))\n",
    "\n",
    "\n",
    "\n",
    "\n",
    "params = {'loss_function':'Logloss',\n",
    "          'eval_metric':'AUC',\n",
    "          'cat_features': categorical_features,\n",
    "          'verbose': 200,\n",
    "          'random_seed': 1\n",
    "         }\n",
    "catmodel = CatBoostClassifier(**params)\n",
    "catmodel.fit(X_train2, y_train2,\n",
    "          eval_set=(X_valid2, y_valid2),\n",
    "          use_best_model=True);"
   ]
  },
  {
   "cell_type": "code",
   "execution_count": 57,
   "id": "fab75fff-1ddc-40d0-9220-858769aab042",
   "metadata": {},
   "outputs": [
    {
     "name": "stdout",
     "output_type": "stream",
     "text": [
      "Catboost model score after SMOTE is: 96.5653298835705%\n"
     ]
    }
   ],
   "source": [
    "print('Catboost model score after SMOTE is: {}%'.format(catmodel.score(X_valid2,y_valid2) * 100))"
   ]
  },
  {
   "cell_type": "code",
   "execution_count": 60,
   "id": "da12aec6-5de3-454d-b61e-117564b55448",
   "metadata": {},
   "outputs": [
    {
     "data": {
      "application/javascript": [
       "\n",
       "        if (window._pyforest_update_imports_cell) { window._pyforest_update_imports_cell('import pandas as pd\\nimport matplotlib.pyplot as plt\\nimport seaborn as sns'); }\n",
       "    "
      ],
      "text/plain": [
       "<IPython.core.display.Javascript object>"
      ]
     },
     "metadata": {},
     "output_type": "display_data"
    },
    {
     "data": {
      "text/plain": [
       "1    8003\n",
       "0    7457\n",
       "dtype: int64"
      ]
     },
     "execution_count": 60,
     "metadata": {},
     "output_type": "execute_result"
    }
   ],
   "source": [
    "predict2 = catmodel.predict(X_valid2)\n",
    "predict2 = pd.DataFrame(predict2)\n",
    "predict2.value_counts()"
   ]
  },
  {
   "cell_type": "markdown",
   "id": "921142ca-a616-4bbf-af8a-cc210c6e635f",
   "metadata": {},
   "source": [
    "# Conclusion"
   ]
  },
  {
   "cell_type": "markdown",
   "id": "8a465024-2024-4820-9444-d401d5e70692",
   "metadata": {},
   "source": [
    "### The best model is the Catboost after using SMOTE.We got a whopping performance on training of ===> 96.56%"
   ]
  },
  {
   "cell_type": "code",
   "execution_count": null,
   "id": "1dbb861a-74b2-47b1-8dfc-37f053b53494",
   "metadata": {},
   "outputs": [],
   "source": []
  },
  {
   "cell_type": "code",
   "execution_count": null,
   "id": "32108b3f-fca5-4537-a515-4d45076ee1e3",
   "metadata": {},
   "outputs": [],
   "source": []
  },
  {
   "cell_type": "code",
   "execution_count": null,
   "id": "7abec90f-4ed8-4e67-b6fb-3bc0d566c42b",
   "metadata": {},
   "outputs": [],
   "source": []
  },
  {
   "cell_type": "code",
   "execution_count": null,
   "id": "9a5d898a-fe84-4c99-9b87-c0dfa01fe235",
   "metadata": {},
   "outputs": [],
   "source": []
  },
  {
   "cell_type": "code",
   "execution_count": null,
   "id": "7d515d17-4442-4515-8ac5-53b538b4ddf5",
   "metadata": {},
   "outputs": [],
   "source": []
  },
  {
   "cell_type": "code",
   "execution_count": null,
   "id": "7a6c93a9-989c-4466-a013-a0c448f0cf9a",
   "metadata": {},
   "outputs": [],
   "source": []
  },
  {
   "cell_type": "code",
   "execution_count": null,
   "id": "b732ee8a-45d2-4ed8-ac91-6d3eee4f877e",
   "metadata": {},
   "outputs": [],
   "source": []
  },
  {
   "cell_type": "code",
   "execution_count": null,
   "id": "8bbefa35-aa9d-4be9-a94d-5c1c26615e5b",
   "metadata": {},
   "outputs": [],
   "source": []
  },
  {
   "cell_type": "code",
   "execution_count": null,
   "id": "1b288694-4cf0-49c7-bb13-5c82d269ea0d",
   "metadata": {},
   "outputs": [],
   "source": []
  },
  {
   "cell_type": "code",
   "execution_count": null,
   "id": "8322fbf9-48ac-42ae-9bbe-c72308259301",
   "metadata": {},
   "outputs": [],
   "source": [
    "\n",
    "\n"
   ]
  },
  {
   "cell_type": "code",
   "execution_count": null,
   "id": "f446021a-550e-456d-aff3-07741d783e64",
   "metadata": {},
   "outputs": [],
   "source": []
  },
  {
   "cell_type": "code",
   "execution_count": null,
   "id": "11c1b778-941a-48d6-9b2b-c3ecb1e4fb90",
   "metadata": {},
   "outputs": [],
   "source": []
  },
  {
   "cell_type": "code",
   "execution_count": null,
   "id": "544c650a-cbfb-4244-babb-4b541e63f3b2",
   "metadata": {},
   "outputs": [],
   "source": []
  },
  {
   "cell_type": "code",
   "execution_count": null,
   "id": "51ba2e86-825b-4754-a724-689d4d85fd21",
   "metadata": {},
   "outputs": [],
   "source": []
  },
  {
   "cell_type": "code",
   "execution_count": null,
   "id": "1bc4ed32-605a-4712-84e0-6ad930bf3712",
   "metadata": {},
   "outputs": [],
   "source": []
  },
  {
   "cell_type": "code",
   "execution_count": null,
   "id": "d455f3a6-dfa4-4885-aeae-3db29325ee4c",
   "metadata": {},
   "outputs": [],
   "source": []
  },
  {
   "cell_type": "code",
   "execution_count": null,
   "id": "0f33324f-dd2e-4b37-9b2a-04f65852e415",
   "metadata": {},
   "outputs": [],
   "source": []
  },
  {
   "cell_type": "code",
   "execution_count": null,
   "id": "ca974a36-97a3-49f3-82c9-8119564dfded",
   "metadata": {},
   "outputs": [],
   "source": []
  },
  {
   "cell_type": "code",
   "execution_count": null,
   "id": "f40cdb44-8ecc-4ea4-a01c-e30ec78b0eae",
   "metadata": {},
   "outputs": [],
   "source": []
  },
  {
   "cell_type": "code",
   "execution_count": null,
   "id": "67a1b619-d080-4dd9-abe3-869fcb5d670f",
   "metadata": {},
   "outputs": [],
   "source": []
  },
  {
   "cell_type": "code",
   "execution_count": null,
   "id": "60312212-c6f2-49e8-9b06-9f33f41d0248",
   "metadata": {},
   "outputs": [],
   "source": []
  },
  {
   "cell_type": "code",
   "execution_count": null,
   "id": "244d2877-9a48-41b9-b593-b78a3ae1b021",
   "metadata": {},
   "outputs": [],
   "source": []
  },
  {
   "cell_type": "code",
   "execution_count": null,
   "id": "45ae3d26-b714-4547-9459-620aa2b11f56",
   "metadata": {},
   "outputs": [],
   "source": []
  },
  {
   "cell_type": "code",
   "execution_count": null,
   "id": "501bfb4e-c56e-49a2-bd18-adf44156fcd8",
   "metadata": {},
   "outputs": [],
   "source": []
  },
  {
   "cell_type": "code",
   "execution_count": null,
   "id": "161259a9-d9a4-44a9-91e6-ceeea5204cd6",
   "metadata": {},
   "outputs": [],
   "source": []
  },
  {
   "cell_type": "code",
   "execution_count": null,
   "id": "cdf7f602-5e4d-49a5-bcef-abfd10c0c563",
   "metadata": {},
   "outputs": [],
   "source": []
  },
  {
   "cell_type": "code",
   "execution_count": null,
   "id": "5c25d439-02fe-47ec-b7d1-b6e2ab937cea",
   "metadata": {},
   "outputs": [],
   "source": []
  }
 ],
 "metadata": {
  "kernelspec": {
   "display_name": "Python 3",
   "language": "python",
   "name": "python3"
  },
  "language_info": {
   "codemirror_mode": {
    "name": "ipython",
    "version": 3
   },
   "file_extension": ".py",
   "mimetype": "text/x-python",
   "name": "python",
   "nbconvert_exporter": "python",
   "pygments_lexer": "ipython3",
   "version": "3.8.8"
  }
 },
 "nbformat": 4,
 "nbformat_minor": 5
}
